{
 "cells": [
  {
   "cell_type": "markdown",
   "id": "68f1f4c1",
   "metadata": {},
   "source": [
    "# 1. Import the dataset using Pandas from above mentioned url."
   ]
  },
  {
   "cell_type": "code",
   "execution_count": 9,
   "id": "920fddd5",
   "metadata": {},
   "outputs": [
    {
     "data": {
      "text/html": [
       "<div>\n",
       "<style scoped>\n",
       "    .dataframe tbody tr th:only-of-type {\n",
       "        vertical-align: middle;\n",
       "    }\n",
       "\n",
       "    .dataframe tbody tr th {\n",
       "        vertical-align: top;\n",
       "    }\n",
       "\n",
       "    .dataframe thead th {\n",
       "        text-align: right;\n",
       "    }\n",
       "</style>\n",
       "<table border=\"1\" class=\"dataframe\">\n",
       "  <thead>\n",
       "    <tr style=\"text-align: right;\">\n",
       "      <th></th>\n",
       "      <th>iso_code</th>\n",
       "      <th>continent</th>\n",
       "      <th>location</th>\n",
       "      <th>date</th>\n",
       "      <th>total_cases</th>\n",
       "      <th>new_cases</th>\n",
       "      <th>new_cases_smoothed</th>\n",
       "      <th>total_deaths</th>\n",
       "      <th>new_deaths</th>\n",
       "      <th>new_deaths_smoothed</th>\n",
       "      <th>...</th>\n",
       "      <th>gdp_per_capita</th>\n",
       "      <th>extreme_poverty</th>\n",
       "      <th>cardiovasc_death_rate</th>\n",
       "      <th>diabetes_prevalence</th>\n",
       "      <th>female_smokers</th>\n",
       "      <th>male_smokers</th>\n",
       "      <th>handwashing_facilities</th>\n",
       "      <th>hospital_beds_per_thousand</th>\n",
       "      <th>life_expectancy</th>\n",
       "      <th>human_development_index</th>\n",
       "    </tr>\n",
       "  </thead>\n",
       "  <tbody>\n",
       "    <tr>\n",
       "      <th>0</th>\n",
       "      <td>AFG</td>\n",
       "      <td>Asia</td>\n",
       "      <td>Afghanistan</td>\n",
       "      <td>31/12/19</td>\n",
       "      <td>NaN</td>\n",
       "      <td>0.0</td>\n",
       "      <td>NaN</td>\n",
       "      <td>NaN</td>\n",
       "      <td>0.0</td>\n",
       "      <td>NaN</td>\n",
       "      <td>...</td>\n",
       "      <td>1803.987</td>\n",
       "      <td>NaN</td>\n",
       "      <td>597.029</td>\n",
       "      <td>9.59</td>\n",
       "      <td>NaN</td>\n",
       "      <td>NaN</td>\n",
       "      <td>37.746</td>\n",
       "      <td>0.5</td>\n",
       "      <td>64.83</td>\n",
       "      <td>0.498</td>\n",
       "    </tr>\n",
       "    <tr>\n",
       "      <th>1</th>\n",
       "      <td>AFG</td>\n",
       "      <td>Asia</td>\n",
       "      <td>Afghanistan</td>\n",
       "      <td>01/01/20</td>\n",
       "      <td>NaN</td>\n",
       "      <td>0.0</td>\n",
       "      <td>NaN</td>\n",
       "      <td>NaN</td>\n",
       "      <td>0.0</td>\n",
       "      <td>NaN</td>\n",
       "      <td>...</td>\n",
       "      <td>1803.987</td>\n",
       "      <td>NaN</td>\n",
       "      <td>597.029</td>\n",
       "      <td>9.59</td>\n",
       "      <td>NaN</td>\n",
       "      <td>NaN</td>\n",
       "      <td>37.746</td>\n",
       "      <td>0.5</td>\n",
       "      <td>64.83</td>\n",
       "      <td>0.498</td>\n",
       "    </tr>\n",
       "    <tr>\n",
       "      <th>2</th>\n",
       "      <td>AFG</td>\n",
       "      <td>Asia</td>\n",
       "      <td>Afghanistan</td>\n",
       "      <td>02/01/20</td>\n",
       "      <td>NaN</td>\n",
       "      <td>0.0</td>\n",
       "      <td>NaN</td>\n",
       "      <td>NaN</td>\n",
       "      <td>0.0</td>\n",
       "      <td>NaN</td>\n",
       "      <td>...</td>\n",
       "      <td>1803.987</td>\n",
       "      <td>NaN</td>\n",
       "      <td>597.029</td>\n",
       "      <td>9.59</td>\n",
       "      <td>NaN</td>\n",
       "      <td>NaN</td>\n",
       "      <td>37.746</td>\n",
       "      <td>0.5</td>\n",
       "      <td>64.83</td>\n",
       "      <td>0.498</td>\n",
       "    </tr>\n",
       "    <tr>\n",
       "      <th>3</th>\n",
       "      <td>AFG</td>\n",
       "      <td>Asia</td>\n",
       "      <td>Afghanistan</td>\n",
       "      <td>03/01/20</td>\n",
       "      <td>NaN</td>\n",
       "      <td>0.0</td>\n",
       "      <td>NaN</td>\n",
       "      <td>NaN</td>\n",
       "      <td>0.0</td>\n",
       "      <td>NaN</td>\n",
       "      <td>...</td>\n",
       "      <td>1803.987</td>\n",
       "      <td>NaN</td>\n",
       "      <td>597.029</td>\n",
       "      <td>9.59</td>\n",
       "      <td>NaN</td>\n",
       "      <td>NaN</td>\n",
       "      <td>37.746</td>\n",
       "      <td>0.5</td>\n",
       "      <td>64.83</td>\n",
       "      <td>0.498</td>\n",
       "    </tr>\n",
       "    <tr>\n",
       "      <th>4</th>\n",
       "      <td>AFG</td>\n",
       "      <td>Asia</td>\n",
       "      <td>Afghanistan</td>\n",
       "      <td>04/01/20</td>\n",
       "      <td>NaN</td>\n",
       "      <td>0.0</td>\n",
       "      <td>NaN</td>\n",
       "      <td>NaN</td>\n",
       "      <td>0.0</td>\n",
       "      <td>NaN</td>\n",
       "      <td>...</td>\n",
       "      <td>1803.987</td>\n",
       "      <td>NaN</td>\n",
       "      <td>597.029</td>\n",
       "      <td>9.59</td>\n",
       "      <td>NaN</td>\n",
       "      <td>NaN</td>\n",
       "      <td>37.746</td>\n",
       "      <td>0.5</td>\n",
       "      <td>64.83</td>\n",
       "      <td>0.498</td>\n",
       "    </tr>\n",
       "    <tr>\n",
       "      <th>...</th>\n",
       "      <td>...</td>\n",
       "      <td>...</td>\n",
       "      <td>...</td>\n",
       "      <td>...</td>\n",
       "      <td>...</td>\n",
       "      <td>...</td>\n",
       "      <td>...</td>\n",
       "      <td>...</td>\n",
       "      <td>...</td>\n",
       "      <td>...</td>\n",
       "      <td>...</td>\n",
       "      <td>...</td>\n",
       "      <td>...</td>\n",
       "      <td>...</td>\n",
       "      <td>...</td>\n",
       "      <td>...</td>\n",
       "      <td>...</td>\n",
       "      <td>...</td>\n",
       "      <td>...</td>\n",
       "      <td>...</td>\n",
       "      <td>...</td>\n",
       "    </tr>\n",
       "    <tr>\n",
       "      <th>57389</th>\n",
       "      <td>NaN</td>\n",
       "      <td>NaN</td>\n",
       "      <td>International</td>\n",
       "      <td>13/11/20</td>\n",
       "      <td>696.0</td>\n",
       "      <td>NaN</td>\n",
       "      <td>NaN</td>\n",
       "      <td>7.0</td>\n",
       "      <td>NaN</td>\n",
       "      <td>NaN</td>\n",
       "      <td>...</td>\n",
       "      <td>NaN</td>\n",
       "      <td>NaN</td>\n",
       "      <td>NaN</td>\n",
       "      <td>NaN</td>\n",
       "      <td>NaN</td>\n",
       "      <td>NaN</td>\n",
       "      <td>NaN</td>\n",
       "      <td>NaN</td>\n",
       "      <td>NaN</td>\n",
       "      <td>NaN</td>\n",
       "    </tr>\n",
       "    <tr>\n",
       "      <th>57390</th>\n",
       "      <td>NaN</td>\n",
       "      <td>NaN</td>\n",
       "      <td>International</td>\n",
       "      <td>14/11/20</td>\n",
       "      <td>696.0</td>\n",
       "      <td>NaN</td>\n",
       "      <td>NaN</td>\n",
       "      <td>7.0</td>\n",
       "      <td>NaN</td>\n",
       "      <td>NaN</td>\n",
       "      <td>...</td>\n",
       "      <td>NaN</td>\n",
       "      <td>NaN</td>\n",
       "      <td>NaN</td>\n",
       "      <td>NaN</td>\n",
       "      <td>NaN</td>\n",
       "      <td>NaN</td>\n",
       "      <td>NaN</td>\n",
       "      <td>NaN</td>\n",
       "      <td>NaN</td>\n",
       "      <td>NaN</td>\n",
       "    </tr>\n",
       "    <tr>\n",
       "      <th>57391</th>\n",
       "      <td>NaN</td>\n",
       "      <td>NaN</td>\n",
       "      <td>International</td>\n",
       "      <td>15/11/20</td>\n",
       "      <td>696.0</td>\n",
       "      <td>NaN</td>\n",
       "      <td>NaN</td>\n",
       "      <td>7.0</td>\n",
       "      <td>NaN</td>\n",
       "      <td>NaN</td>\n",
       "      <td>...</td>\n",
       "      <td>NaN</td>\n",
       "      <td>NaN</td>\n",
       "      <td>NaN</td>\n",
       "      <td>NaN</td>\n",
       "      <td>NaN</td>\n",
       "      <td>NaN</td>\n",
       "      <td>NaN</td>\n",
       "      <td>NaN</td>\n",
       "      <td>NaN</td>\n",
       "      <td>NaN</td>\n",
       "    </tr>\n",
       "    <tr>\n",
       "      <th>57392</th>\n",
       "      <td>NaN</td>\n",
       "      <td>NaN</td>\n",
       "      <td>International</td>\n",
       "      <td>16/11/20</td>\n",
       "      <td>696.0</td>\n",
       "      <td>NaN</td>\n",
       "      <td>NaN</td>\n",
       "      <td>7.0</td>\n",
       "      <td>NaN</td>\n",
       "      <td>NaN</td>\n",
       "      <td>...</td>\n",
       "      <td>NaN</td>\n",
       "      <td>NaN</td>\n",
       "      <td>NaN</td>\n",
       "      <td>NaN</td>\n",
       "      <td>NaN</td>\n",
       "      <td>NaN</td>\n",
       "      <td>NaN</td>\n",
       "      <td>NaN</td>\n",
       "      <td>NaN</td>\n",
       "      <td>NaN</td>\n",
       "    </tr>\n",
       "    <tr>\n",
       "      <th>57393</th>\n",
       "      <td>NaN</td>\n",
       "      <td>NaN</td>\n",
       "      <td>International</td>\n",
       "      <td>17/11/20</td>\n",
       "      <td>696.0</td>\n",
       "      <td>NaN</td>\n",
       "      <td>NaN</td>\n",
       "      <td>7.0</td>\n",
       "      <td>NaN</td>\n",
       "      <td>NaN</td>\n",
       "      <td>...</td>\n",
       "      <td>NaN</td>\n",
       "      <td>NaN</td>\n",
       "      <td>NaN</td>\n",
       "      <td>NaN</td>\n",
       "      <td>NaN</td>\n",
       "      <td>NaN</td>\n",
       "      <td>NaN</td>\n",
       "      <td>NaN</td>\n",
       "      <td>NaN</td>\n",
       "      <td>NaN</td>\n",
       "    </tr>\n",
       "  </tbody>\n",
       "</table>\n",
       "<p>57394 rows × 49 columns</p>\n",
       "</div>"
      ],
      "text/plain": [
       "      iso_code continent       location      date  total_cases  new_cases  \\\n",
       "0          AFG      Asia    Afghanistan  31/12/19          NaN        0.0   \n",
       "1          AFG      Asia    Afghanistan  01/01/20          NaN        0.0   \n",
       "2          AFG      Asia    Afghanistan  02/01/20          NaN        0.0   \n",
       "3          AFG      Asia    Afghanistan  03/01/20          NaN        0.0   \n",
       "4          AFG      Asia    Afghanistan  04/01/20          NaN        0.0   \n",
       "...        ...       ...            ...       ...          ...        ...   \n",
       "57389      NaN       NaN  International  13/11/20        696.0        NaN   \n",
       "57390      NaN       NaN  International  14/11/20        696.0        NaN   \n",
       "57391      NaN       NaN  International  15/11/20        696.0        NaN   \n",
       "57392      NaN       NaN  International  16/11/20        696.0        NaN   \n",
       "57393      NaN       NaN  International  17/11/20        696.0        NaN   \n",
       "\n",
       "       new_cases_smoothed  total_deaths  new_deaths  new_deaths_smoothed  ...  \\\n",
       "0                     NaN           NaN         0.0                  NaN  ...   \n",
       "1                     NaN           NaN         0.0                  NaN  ...   \n",
       "2                     NaN           NaN         0.0                  NaN  ...   \n",
       "3                     NaN           NaN         0.0                  NaN  ...   \n",
       "4                     NaN           NaN         0.0                  NaN  ...   \n",
       "...                   ...           ...         ...                  ...  ...   \n",
       "57389                 NaN           7.0         NaN                  NaN  ...   \n",
       "57390                 NaN           7.0         NaN                  NaN  ...   \n",
       "57391                 NaN           7.0         NaN                  NaN  ...   \n",
       "57392                 NaN           7.0         NaN                  NaN  ...   \n",
       "57393                 NaN           7.0         NaN                  NaN  ...   \n",
       "\n",
       "       gdp_per_capita  extreme_poverty  cardiovasc_death_rate  \\\n",
       "0            1803.987              NaN                597.029   \n",
       "1            1803.987              NaN                597.029   \n",
       "2            1803.987              NaN                597.029   \n",
       "3            1803.987              NaN                597.029   \n",
       "4            1803.987              NaN                597.029   \n",
       "...               ...              ...                    ...   \n",
       "57389             NaN              NaN                    NaN   \n",
       "57390             NaN              NaN                    NaN   \n",
       "57391             NaN              NaN                    NaN   \n",
       "57392             NaN              NaN                    NaN   \n",
       "57393             NaN              NaN                    NaN   \n",
       "\n",
       "       diabetes_prevalence  female_smokers  male_smokers  \\\n",
       "0                     9.59             NaN           NaN   \n",
       "1                     9.59             NaN           NaN   \n",
       "2                     9.59             NaN           NaN   \n",
       "3                     9.59             NaN           NaN   \n",
       "4                     9.59             NaN           NaN   \n",
       "...                    ...             ...           ...   \n",
       "57389                  NaN             NaN           NaN   \n",
       "57390                  NaN             NaN           NaN   \n",
       "57391                  NaN             NaN           NaN   \n",
       "57392                  NaN             NaN           NaN   \n",
       "57393                  NaN             NaN           NaN   \n",
       "\n",
       "       handwashing_facilities  hospital_beds_per_thousand  life_expectancy  \\\n",
       "0                      37.746                         0.5            64.83   \n",
       "1                      37.746                         0.5            64.83   \n",
       "2                      37.746                         0.5            64.83   \n",
       "3                      37.746                         0.5            64.83   \n",
       "4                      37.746                         0.5            64.83   \n",
       "...                       ...                         ...              ...   \n",
       "57389                     NaN                         NaN              NaN   \n",
       "57390                     NaN                         NaN              NaN   \n",
       "57391                     NaN                         NaN              NaN   \n",
       "57392                     NaN                         NaN              NaN   \n",
       "57393                     NaN                         NaN              NaN   \n",
       "\n",
       "       human_development_index  \n",
       "0                        0.498  \n",
       "1                        0.498  \n",
       "2                        0.498  \n",
       "3                        0.498  \n",
       "4                        0.498  \n",
       "...                        ...  \n",
       "57389                      NaN  \n",
       "57390                      NaN  \n",
       "57391                      NaN  \n",
       "57392                      NaN  \n",
       "57393                      NaN  \n",
       "\n",
       "[57394 rows x 49 columns]"
      ]
     },
     "execution_count": 9,
     "metadata": {},
     "output_type": "execute_result"
    }
   ],
   "source": [
    "import pandas as pd\n",
    "covid_data=pd.read_csv(\"https://raw.githubusercontent.com/SR1608/Datasets/main/covid-data.csv\")\n",
    "covid_data\n"
   ]
  },
  {
   "cell_type": "markdown",
   "id": "c0bfedfb",
   "metadata": {},
   "source": [
    "# 2. High Level Data Understanding:\n",
    "a. Find no. of rows & columns in the dataset\n",
    "b. Data types of columns.\n",
    "c. Info & describe of data in dataframe."
   ]
  },
  {
   "cell_type": "code",
   "execution_count": 10,
   "id": "a951e47a",
   "metadata": {},
   "outputs": [
    {
     "data": {
      "text/plain": [
       "(57394, 49)"
      ]
     },
     "execution_count": 10,
     "metadata": {},
     "output_type": "execute_result"
    }
   ],
   "source": [
    "covid_data.shape\n",
    "\n"
   ]
  },
  {
   "cell_type": "code",
   "execution_count": 3,
   "id": "5047ba33",
   "metadata": {},
   "outputs": [
    {
     "data": {
      "text/plain": [
       "iso_code                               object\n",
       "continent                              object\n",
       "location                               object\n",
       "date                                   object\n",
       "total_cases                           float64\n",
       "new_cases                             float64\n",
       "new_cases_smoothed                    float64\n",
       "total_deaths                          float64\n",
       "new_deaths                            float64\n",
       "new_deaths_smoothed                   float64\n",
       "total_cases_per_million               float64\n",
       "new_cases_per_million                 float64\n",
       "new_cases_smoothed_per_million        float64\n",
       "total_deaths_per_million              float64\n",
       "new_deaths_per_million                float64\n",
       "new_deaths_smoothed_per_million       float64\n",
       "reproduction_rate                     float64\n",
       "icu_patients                          float64\n",
       "icu_patients_per_million              float64\n",
       "hosp_patients                         float64\n",
       "hosp_patients_per_million             float64\n",
       "weekly_icu_admissions                 float64\n",
       "weekly_icu_admissions_per_million     float64\n",
       "weekly_hosp_admissions                float64\n",
       "weekly_hosp_admissions_per_million    float64\n",
       "total_tests                           float64\n",
       "new_tests                             float64\n",
       "total_tests_per_thousand              float64\n",
       "new_tests_per_thousand                float64\n",
       "new_tests_smoothed                    float64\n",
       "new_tests_smoothed_per_thousand       float64\n",
       "tests_per_case                        float64\n",
       "positive_rate                         float64\n",
       "stringency_index                      float64\n",
       "population                            float64\n",
       "population_density                    float64\n",
       "median_age                            float64\n",
       "aged_65_older                         float64\n",
       "aged_70_older                         float64\n",
       "gdp_per_capita                        float64\n",
       "extreme_poverty                       float64\n",
       "cardiovasc_death_rate                 float64\n",
       "diabetes_prevalence                   float64\n",
       "female_smokers                        float64\n",
       "male_smokers                          float64\n",
       "handwashing_facilities                float64\n",
       "hospital_beds_per_thousand            float64\n",
       "life_expectancy                       float64\n",
       "human_development_index               float64\n",
       "dtype: object"
      ]
     },
     "execution_count": 3,
     "metadata": {},
     "output_type": "execute_result"
    }
   ],
   "source": [
    "covid_data.dtypes \n"
   ]
  },
  {
   "cell_type": "code",
   "execution_count": 11,
   "id": "ec20f88c",
   "metadata": {},
   "outputs": [
    {
     "name": "stdout",
     "output_type": "stream",
     "text": [
      "<class 'pandas.core.frame.DataFrame'>\n",
      "RangeIndex: 57394 entries, 0 to 57393\n",
      "Data columns (total 49 columns):\n",
      " #   Column                              Non-Null Count  Dtype  \n",
      "---  ------                              --------------  -----  \n",
      " 0   iso_code                            57071 non-null  object \n",
      " 1   continent                           56748 non-null  object \n",
      " 2   location                            57394 non-null  object \n",
      " 3   date                                57394 non-null  object \n",
      " 4   total_cases                         53758 non-null  float64\n",
      " 5   new_cases                           56465 non-null  float64\n",
      " 6   new_cases_smoothed                  55652 non-null  float64\n",
      " 7   total_deaths                        44368 non-null  float64\n",
      " 8   new_deaths                          56465 non-null  float64\n",
      " 9   new_deaths_smoothed                 55652 non-null  float64\n",
      " 10  total_cases_per_million             53471 non-null  float64\n",
      " 11  new_cases_per_million               56401 non-null  float64\n",
      " 12  new_cases_smoothed_per_million      55587 non-null  float64\n",
      " 13  total_deaths_per_million            44096 non-null  float64\n",
      " 14  new_deaths_per_million              56401 non-null  float64\n",
      " 15  new_deaths_smoothed_per_million     55587 non-null  float64\n",
      " 16  reproduction_rate                   37696 non-null  float64\n",
      " 17  icu_patients                        4490 non-null   float64\n",
      " 18  icu_patients_per_million            4490 non-null   float64\n",
      " 19  hosp_patients                       5005 non-null   float64\n",
      " 20  hosp_patients_per_million           5005 non-null   float64\n",
      " 21  weekly_icu_admissions               357 non-null    float64\n",
      " 22  weekly_icu_admissions_per_million   357 non-null    float64\n",
      " 23  weekly_hosp_admissions              645 non-null    float64\n",
      " 24  weekly_hosp_admissions_per_million  645 non-null    float64\n",
      " 25  total_tests                         22017 non-null  float64\n",
      " 26  new_tests                           21787 non-null  float64\n",
      " 27  total_tests_per_thousand            22017 non-null  float64\n",
      " 28  new_tests_per_thousand              21787 non-null  float64\n",
      " 29  new_tests_smoothed                  24612 non-null  float64\n",
      " 30  new_tests_smoothed_per_thousand     24612 non-null  float64\n",
      " 31  tests_per_case                      22802 non-null  float64\n",
      " 32  positive_rate                       23211 non-null  float64\n",
      " 33  stringency_index                    47847 non-null  float64\n",
      " 34  population                          57071 non-null  float64\n",
      " 35  population_density                  54371 non-null  float64\n",
      " 36  median_age                          51034 non-null  float64\n",
      " 37  aged_65_older                       50265 non-null  float64\n",
      " 38  aged_70_older                       50768 non-null  float64\n",
      " 39  gdp_per_capita                      50367 non-null  float64\n",
      " 40  extreme_poverty                     33571 non-null  float64\n",
      " 41  cardiovasc_death_rate               51013 non-null  float64\n",
      " 42  diabetes_prevalence                 52881 non-null  float64\n",
      " 43  female_smokers                      39669 non-null  float64\n",
      " 44  male_smokers                        39156 non-null  float64\n",
      " 45  handwashing_facilities              24176 non-null  float64\n",
      " 46  hospital_beds_per_thousand          45936 non-null  float64\n",
      " 47  life_expectancy                     56336 non-null  float64\n",
      " 48  human_development_index             49247 non-null  float64\n",
      "dtypes: float64(45), object(4)\n",
      "memory usage: 21.5+ MB\n"
     ]
    }
   ],
   "source": [
    "covid_data.info()\n"
   ]
  },
  {
   "cell_type": "code",
   "execution_count": 12,
   "id": "8edf16d3",
   "metadata": {},
   "outputs": [
    {
     "data": {
      "text/html": [
       "<div>\n",
       "<style scoped>\n",
       "    .dataframe tbody tr th:only-of-type {\n",
       "        vertical-align: middle;\n",
       "    }\n",
       "\n",
       "    .dataframe tbody tr th {\n",
       "        vertical-align: top;\n",
       "    }\n",
       "\n",
       "    .dataframe thead th {\n",
       "        text-align: right;\n",
       "    }\n",
       "</style>\n",
       "<table border=\"1\" class=\"dataframe\">\n",
       "  <thead>\n",
       "    <tr style=\"text-align: right;\">\n",
       "      <th></th>\n",
       "      <th>total_cases</th>\n",
       "      <th>new_cases</th>\n",
       "      <th>new_cases_smoothed</th>\n",
       "      <th>total_deaths</th>\n",
       "      <th>new_deaths</th>\n",
       "      <th>new_deaths_smoothed</th>\n",
       "      <th>total_cases_per_million</th>\n",
       "      <th>new_cases_per_million</th>\n",
       "      <th>new_cases_smoothed_per_million</th>\n",
       "      <th>total_deaths_per_million</th>\n",
       "      <th>...</th>\n",
       "      <th>gdp_per_capita</th>\n",
       "      <th>extreme_poverty</th>\n",
       "      <th>cardiovasc_death_rate</th>\n",
       "      <th>diabetes_prevalence</th>\n",
       "      <th>female_smokers</th>\n",
       "      <th>male_smokers</th>\n",
       "      <th>handwashing_facilities</th>\n",
       "      <th>hospital_beds_per_thousand</th>\n",
       "      <th>life_expectancy</th>\n",
       "      <th>human_development_index</th>\n",
       "    </tr>\n",
       "  </thead>\n",
       "  <tbody>\n",
       "    <tr>\n",
       "      <th>count</th>\n",
       "      <td>5.375800e+04</td>\n",
       "      <td>56465.000000</td>\n",
       "      <td>55652.000000</td>\n",
       "      <td>4.436800e+04</td>\n",
       "      <td>56465.000000</td>\n",
       "      <td>55652.000000</td>\n",
       "      <td>53471.000000</td>\n",
       "      <td>56401.000000</td>\n",
       "      <td>55587.000000</td>\n",
       "      <td>44096.000000</td>\n",
       "      <td>...</td>\n",
       "      <td>50367.000000</td>\n",
       "      <td>33571.000000</td>\n",
       "      <td>51013.000000</td>\n",
       "      <td>52881.000000</td>\n",
       "      <td>39669.000000</td>\n",
       "      <td>39156.000000</td>\n",
       "      <td>24176.000000</td>\n",
       "      <td>45936.000000</td>\n",
       "      <td>56336.000000</td>\n",
       "      <td>49247.000000</td>\n",
       "    </tr>\n",
       "    <tr>\n",
       "      <th>mean</th>\n",
       "      <td>1.677974e+05</td>\n",
       "      <td>1953.576941</td>\n",
       "      <td>1920.431953</td>\n",
       "      <td>6.858639e+03</td>\n",
       "      <td>47.054317</td>\n",
       "      <td>46.835439</td>\n",
       "      <td>3139.099982</td>\n",
       "      <td>39.344804</td>\n",
       "      <td>38.403211</td>\n",
       "      <td>95.335293</td>\n",
       "      <td>...</td>\n",
       "      <td>20620.172071</td>\n",
       "      <td>12.435453</td>\n",
       "      <td>252.646642</td>\n",
       "      <td>8.070269</td>\n",
       "      <td>10.741569</td>\n",
       "      <td>32.642686</td>\n",
       "      <td>52.089636</td>\n",
       "      <td>3.089724</td>\n",
       "      <td>73.937780</td>\n",
       "      <td>0.722223</td>\n",
       "    </tr>\n",
       "    <tr>\n",
       "      <th>std</th>\n",
       "      <td>1.693038e+06</td>\n",
       "      <td>18269.650340</td>\n",
       "      <td>17777.391785</td>\n",
       "      <td>5.578081e+04</td>\n",
       "      <td>390.853776</td>\n",
       "      <td>378.272794</td>\n",
       "      <td>6183.455260</td>\n",
       "      <td>133.985155</td>\n",
       "      <td>101.649441</td>\n",
       "      <td>180.721699</td>\n",
       "      <td>...</td>\n",
       "      <td>20310.999832</td>\n",
       "      <td>19.427924</td>\n",
       "      <td>117.522344</td>\n",
       "      <td>4.189605</td>\n",
       "      <td>10.470743</td>\n",
       "      <td>13.453566</td>\n",
       "      <td>31.645306</td>\n",
       "      <td>2.513193</td>\n",
       "      <td>7.397016</td>\n",
       "      <td>0.153261</td>\n",
       "    </tr>\n",
       "    <tr>\n",
       "      <th>min</th>\n",
       "      <td>1.000000e+00</td>\n",
       "      <td>-8261.000000</td>\n",
       "      <td>-552.000000</td>\n",
       "      <td>1.000000e+00</td>\n",
       "      <td>-1918.000000</td>\n",
       "      <td>-232.143000</td>\n",
       "      <td>0.001000</td>\n",
       "      <td>-2212.545000</td>\n",
       "      <td>-269.978000</td>\n",
       "      <td>0.000000</td>\n",
       "      <td>...</td>\n",
       "      <td>661.240000</td>\n",
       "      <td>0.100000</td>\n",
       "      <td>79.370000</td>\n",
       "      <td>0.990000</td>\n",
       "      <td>0.100000</td>\n",
       "      <td>7.700000</td>\n",
       "      <td>1.188000</td>\n",
       "      <td>0.100000</td>\n",
       "      <td>53.280000</td>\n",
       "      <td>0.354000</td>\n",
       "    </tr>\n",
       "    <tr>\n",
       "      <th>25%</th>\n",
       "      <td>1.800000e+02</td>\n",
       "      <td>0.000000</td>\n",
       "      <td>0.857000</td>\n",
       "      <td>1.300000e+01</td>\n",
       "      <td>0.000000</td>\n",
       "      <td>0.000000</td>\n",
       "      <td>90.033000</td>\n",
       "      <td>0.000000</td>\n",
       "      <td>0.260000</td>\n",
       "      <td>3.977750</td>\n",
       "      <td>...</td>\n",
       "      <td>5321.444000</td>\n",
       "      <td>0.500000</td>\n",
       "      <td>156.139000</td>\n",
       "      <td>5.310000</td>\n",
       "      <td>1.900000</td>\n",
       "      <td>21.400000</td>\n",
       "      <td>21.222000</td>\n",
       "      <td>1.300000</td>\n",
       "      <td>69.870000</td>\n",
       "      <td>0.601000</td>\n",
       "    </tr>\n",
       "    <tr>\n",
       "      <th>50%</th>\n",
       "      <td>2.070000e+03</td>\n",
       "      <td>14.000000</td>\n",
       "      <td>19.429000</td>\n",
       "      <td>8.400000e+01</td>\n",
       "      <td>0.000000</td>\n",
       "      <td>0.286000</td>\n",
       "      <td>593.663000</td>\n",
       "      <td>2.194000</td>\n",
       "      <td>3.863000</td>\n",
       "      <td>20.383000</td>\n",
       "      <td>...</td>\n",
       "      <td>13913.839000</td>\n",
       "      <td>2.000000</td>\n",
       "      <td>238.339000</td>\n",
       "      <td>7.110000</td>\n",
       "      <td>6.400000</td>\n",
       "      <td>31.400000</td>\n",
       "      <td>52.232000</td>\n",
       "      <td>2.500000</td>\n",
       "      <td>75.345000</td>\n",
       "      <td>0.752000</td>\n",
       "    </tr>\n",
       "    <tr>\n",
       "      <th>75%</th>\n",
       "      <td>2.235675e+04</td>\n",
       "      <td>235.000000</td>\n",
       "      <td>245.286000</td>\n",
       "      <td>7.270000e+02</td>\n",
       "      <td>4.000000</td>\n",
       "      <td>4.000000</td>\n",
       "      <td>3487.050000</td>\n",
       "      <td>25.941000</td>\n",
       "      <td>29.678500</td>\n",
       "      <td>90.571250</td>\n",
       "      <td>...</td>\n",
       "      <td>31400.840000</td>\n",
       "      <td>18.100000</td>\n",
       "      <td>318.991000</td>\n",
       "      <td>10.390000</td>\n",
       "      <td>19.600000</td>\n",
       "      <td>40.900000</td>\n",
       "      <td>83.741000</td>\n",
       "      <td>4.200000</td>\n",
       "      <td>79.380000</td>\n",
       "      <td>0.847000</td>\n",
       "    </tr>\n",
       "    <tr>\n",
       "      <th>max</th>\n",
       "      <td>5.515465e+07</td>\n",
       "      <td>646281.000000</td>\n",
       "      <td>584981.857000</td>\n",
       "      <td>1.328537e+06</td>\n",
       "      <td>10600.000000</td>\n",
       "      <td>9027.714000</td>\n",
       "      <td>76541.772000</td>\n",
       "      <td>8652.658000</td>\n",
       "      <td>2472.188000</td>\n",
       "      <td>1248.014000</td>\n",
       "      <td>...</td>\n",
       "      <td>116935.600000</td>\n",
       "      <td>77.600000</td>\n",
       "      <td>724.417000</td>\n",
       "      <td>30.530000</td>\n",
       "      <td>44.000000</td>\n",
       "      <td>78.100000</td>\n",
       "      <td>98.999000</td>\n",
       "      <td>13.800000</td>\n",
       "      <td>86.750000</td>\n",
       "      <td>0.953000</td>\n",
       "    </tr>\n",
       "  </tbody>\n",
       "</table>\n",
       "<p>8 rows × 45 columns</p>\n",
       "</div>"
      ],
      "text/plain": [
       "        total_cases      new_cases  new_cases_smoothed  total_deaths  \\\n",
       "count  5.375800e+04   56465.000000        55652.000000  4.436800e+04   \n",
       "mean   1.677974e+05    1953.576941         1920.431953  6.858639e+03   \n",
       "std    1.693038e+06   18269.650340        17777.391785  5.578081e+04   \n",
       "min    1.000000e+00   -8261.000000         -552.000000  1.000000e+00   \n",
       "25%    1.800000e+02       0.000000            0.857000  1.300000e+01   \n",
       "50%    2.070000e+03      14.000000           19.429000  8.400000e+01   \n",
       "75%    2.235675e+04     235.000000          245.286000  7.270000e+02   \n",
       "max    5.515465e+07  646281.000000       584981.857000  1.328537e+06   \n",
       "\n",
       "         new_deaths  new_deaths_smoothed  total_cases_per_million  \\\n",
       "count  56465.000000         55652.000000             53471.000000   \n",
       "mean      47.054317            46.835439              3139.099982   \n",
       "std      390.853776           378.272794              6183.455260   \n",
       "min    -1918.000000          -232.143000                 0.001000   \n",
       "25%        0.000000             0.000000                90.033000   \n",
       "50%        0.000000             0.286000               593.663000   \n",
       "75%        4.000000             4.000000              3487.050000   \n",
       "max    10600.000000          9027.714000             76541.772000   \n",
       "\n",
       "       new_cases_per_million  new_cases_smoothed_per_million  \\\n",
       "count           56401.000000                    55587.000000   \n",
       "mean               39.344804                       38.403211   \n",
       "std               133.985155                      101.649441   \n",
       "min             -2212.545000                     -269.978000   \n",
       "25%                 0.000000                        0.260000   \n",
       "50%                 2.194000                        3.863000   \n",
       "75%                25.941000                       29.678500   \n",
       "max              8652.658000                     2472.188000   \n",
       "\n",
       "       total_deaths_per_million  ...  gdp_per_capita  extreme_poverty  \\\n",
       "count              44096.000000  ...    50367.000000     33571.000000   \n",
       "mean                  95.335293  ...    20620.172071        12.435453   \n",
       "std                  180.721699  ...    20310.999832        19.427924   \n",
       "min                    0.000000  ...      661.240000         0.100000   \n",
       "25%                    3.977750  ...     5321.444000         0.500000   \n",
       "50%                   20.383000  ...    13913.839000         2.000000   \n",
       "75%                   90.571250  ...    31400.840000        18.100000   \n",
       "max                 1248.014000  ...   116935.600000        77.600000   \n",
       "\n",
       "       cardiovasc_death_rate  diabetes_prevalence  female_smokers  \\\n",
       "count           51013.000000         52881.000000    39669.000000   \n",
       "mean              252.646642             8.070269       10.741569   \n",
       "std               117.522344             4.189605       10.470743   \n",
       "min                79.370000             0.990000        0.100000   \n",
       "25%               156.139000             5.310000        1.900000   \n",
       "50%               238.339000             7.110000        6.400000   \n",
       "75%               318.991000            10.390000       19.600000   \n",
       "max               724.417000            30.530000       44.000000   \n",
       "\n",
       "       male_smokers  handwashing_facilities  hospital_beds_per_thousand  \\\n",
       "count  39156.000000            24176.000000                45936.000000   \n",
       "mean      32.642686               52.089636                    3.089724   \n",
       "std       13.453566               31.645306                    2.513193   \n",
       "min        7.700000                1.188000                    0.100000   \n",
       "25%       21.400000               21.222000                    1.300000   \n",
       "50%       31.400000               52.232000                    2.500000   \n",
       "75%       40.900000               83.741000                    4.200000   \n",
       "max       78.100000               98.999000                   13.800000   \n",
       "\n",
       "       life_expectancy  human_development_index  \n",
       "count     56336.000000             49247.000000  \n",
       "mean         73.937780                 0.722223  \n",
       "std           7.397016                 0.153261  \n",
       "min          53.280000                 0.354000  \n",
       "25%          69.870000                 0.601000  \n",
       "50%          75.345000                 0.752000  \n",
       "75%          79.380000                 0.847000  \n",
       "max          86.750000                 0.953000  \n",
       "\n",
       "[8 rows x 45 columns]"
      ]
     },
     "execution_count": 12,
     "metadata": {},
     "output_type": "execute_result"
    }
   ],
   "source": [
    "covid_data.describe()\n"
   ]
  },
  {
   "cell_type": "markdown",
   "id": "b6267df1",
   "metadata": {},
   "source": [
    "# 3. Low Level Data Understanding :\n",
    "a. Find count of unique values in location column.\n",
    "b. Find which continent has maximum frequency using values\n",
    "counts.\n",
    "c. Find maximum & mean value in 'total_cases'.\n",
    "d. Find 25%,50% & 75% quartile value in 'total_deaths'.\n",
    "e. Find which continent has maximum\n",
    "'human_development_index'.\n",
    "f. Find which continent has minimum 'gdp_per_capita'.\n"
   ]
  },
  {
   "cell_type": "markdown",
   "id": "e0832fbe",
   "metadata": {},
   "source": [
    "Find count of unique values in location column.\n"
   ]
  },
  {
   "cell_type": "code",
   "execution_count": 13,
   "id": "0e1e7f59",
   "metadata": {},
   "outputs": [
    {
     "data": {
      "text/plain": [
       "iso_code                                215\n",
       "continent                                 6\n",
       "location                                216\n",
       "date                                    323\n",
       "total_cases                           22672\n",
       "new_cases                              5432\n",
       "new_cases_smoothed                    11469\n",
       "total_deaths                           7704\n",
       "new_deaths                             1211\n",
       "new_deaths_smoothed                    2773\n",
       "total_cases_per_million               37531\n",
       "new_cases_per_million                 20662\n",
       "new_cases_smoothed_per_million        23781\n",
       "total_deaths_per_million              20046\n",
       "new_deaths_per_million                 3850\n",
       "new_deaths_smoothed_per_million        4588\n",
       "reproduction_rate                       361\n",
       "icu_patients                           1202\n",
       "icu_patients_per_million               2260\n",
       "hosp_patients                          2093\n",
       "hosp_patients_per_million              3477\n",
       "weekly_icu_admissions                   264\n",
       "weekly_icu_admissions_per_million       259\n",
       "weekly_hosp_admissions                  568\n",
       "weekly_hosp_admissions_per_million      565\n",
       "total_tests                           21340\n",
       "new_tests                             12405\n",
       "total_tests_per_thousand              17969\n",
       "new_tests_per_thousand                 3872\n",
       "new_tests_smoothed                    13938\n",
       "new_tests_smoothed_per_thousand        3995\n",
       "tests_per_case                        19411\n",
       "positive_rate                           545\n",
       "stringency_index                        172\n",
       "population                              215\n",
       "population_density                      203\n",
       "median_age                              134\n",
       "aged_65_older                           185\n",
       "aged_70_older                           184\n",
       "gdp_per_capita                          187\n",
       "extreme_poverty                          75\n",
       "cardiovasc_death_rate                   189\n",
       "diabetes_prevalence                     144\n",
       "female_smokers                          107\n",
       "male_smokers                            123\n",
       "handwashing_facilities                   95\n",
       "hospital_beds_per_thousand              100\n",
       "life_expectancy                         200\n",
       "human_development_index                 157\n",
       "dtype: int64"
      ]
     },
     "execution_count": 13,
     "metadata": {},
     "output_type": "execute_result"
    }
   ],
   "source": [
    "covid_data.nunique()"
   ]
  },
  {
   "cell_type": "markdown",
   "id": "11d81803",
   "metadata": {},
   "source": [
    "b. Find which continent has maximum frequency using values\n",
    "counts."
   ]
  },
  {
   "cell_type": "code",
   "execution_count": 14,
   "id": "7e1da523",
   "metadata": {},
   "outputs": [
    {
     "data": {
      "text/plain": [
       "Europe           14828\n",
       "Africa           13637\n",
       "Asia             13528\n",
       "North America     9116\n",
       "South America     3404\n",
       "Oceania           2235\n",
       "Name: continent, dtype: int64"
      ]
     },
     "execution_count": 14,
     "metadata": {},
     "output_type": "execute_result"
    }
   ],
   "source": [
    "max_freq=covid_data[\"continent\"].value_counts()\n",
    "\n",
    "max_freq"
   ]
  },
  {
   "cell_type": "code",
   "execution_count": 15,
   "id": "4b777698",
   "metadata": {},
   "outputs": [
    {
     "data": {
      "text/plain": [
       "14828"
      ]
     },
     "execution_count": 15,
     "metadata": {},
     "output_type": "execute_result"
    }
   ],
   "source": [
    "max_freq.max()"
   ]
  },
  {
   "cell_type": "markdown",
   "id": "3adabddb",
   "metadata": {},
   "source": [
    "Find maximum & mean value in 'total_cases'.\n"
   ]
  },
  {
   "cell_type": "code",
   "execution_count": 16,
   "id": "2c94b575",
   "metadata": {},
   "outputs": [
    {
     "data": {
      "text/plain": [
       "167797.3688753302"
      ]
     },
     "execution_count": 16,
     "metadata": {},
     "output_type": "execute_result"
    }
   ],
   "source": [
    "covid_data[\"total_cases\"].mean()\n"
   ]
  },
  {
   "cell_type": "code",
   "execution_count": 17,
   "id": "af75e443",
   "metadata": {},
   "outputs": [
    {
     "data": {
      "text/plain": [
       "55154651.0"
      ]
     },
     "execution_count": 17,
     "metadata": {},
     "output_type": "execute_result"
    }
   ],
   "source": [
    "covid_data[\"total_cases\"].max()\n"
   ]
  },
  {
   "cell_type": "markdown",
   "id": "0dd4eff7",
   "metadata": {},
   "source": [
    "d. Find 25%,50% & 75% quartile value in 'total_deaths'."
   ]
  },
  {
   "cell_type": "code",
   "execution_count": 18,
   "id": "3e00bc4a",
   "metadata": {},
   "outputs": [
    {
     "data": {
      "text/plain": [
       "count    4.436800e+04\n",
       "mean     6.858639e+03\n",
       "std      5.578081e+04\n",
       "min      1.000000e+00\n",
       "25%      1.300000e+01\n",
       "50%      8.400000e+01\n",
       "75%      7.270000e+02\n",
       "max      1.328537e+06\n",
       "Name: total_deaths, dtype: float64"
      ]
     },
     "execution_count": 18,
     "metadata": {},
     "output_type": "execute_result"
    }
   ],
   "source": [
    "covid_data[\"total_deaths\"].describe()\n"
   ]
  },
  {
   "cell_type": "code",
   "execution_count": 19,
   "id": "162a9624",
   "metadata": {},
   "outputs": [
    {
     "data": {
      "text/plain": [
       "0.25     13.0\n",
       "0.50     84.0\n",
       "0.75    727.0\n",
       "Name: total_deaths, dtype: float64"
      ]
     },
     "execution_count": 19,
     "metadata": {},
     "output_type": "execute_result"
    }
   ],
   "source": [
    "covid_data[\"total_deaths\"].quantile([0.25,0.50,0.75])\n",
    "\n"
   ]
  },
  {
   "cell_type": "code",
   "execution_count": 20,
   "id": "e91d2c79",
   "metadata": {},
   "outputs": [
    {
     "data": {
      "text/html": [
       "<div>\n",
       "<style scoped>\n",
       "    .dataframe tbody tr th:only-of-type {\n",
       "        vertical-align: middle;\n",
       "    }\n",
       "\n",
       "    .dataframe tbody tr th {\n",
       "        vertical-align: top;\n",
       "    }\n",
       "\n",
       "    .dataframe thead th {\n",
       "        text-align: right;\n",
       "    }\n",
       "</style>\n",
       "<table border=\"1\" class=\"dataframe\">\n",
       "  <thead>\n",
       "    <tr style=\"text-align: right;\">\n",
       "      <th></th>\n",
       "      <th>iso_code</th>\n",
       "      <th>continent</th>\n",
       "      <th>location</th>\n",
       "      <th>date</th>\n",
       "      <th>total_cases</th>\n",
       "      <th>new_cases</th>\n",
       "      <th>new_cases_smoothed</th>\n",
       "      <th>total_deaths</th>\n",
       "      <th>new_deaths</th>\n",
       "      <th>new_deaths_smoothed</th>\n",
       "      <th>...</th>\n",
       "      <th>gdp_per_capita</th>\n",
       "      <th>extreme_poverty</th>\n",
       "      <th>cardiovasc_death_rate</th>\n",
       "      <th>diabetes_prevalence</th>\n",
       "      <th>female_smokers</th>\n",
       "      <th>male_smokers</th>\n",
       "      <th>handwashing_facilities</th>\n",
       "      <th>hospital_beds_per_thousand</th>\n",
       "      <th>life_expectancy</th>\n",
       "      <th>human_development_index</th>\n",
       "    </tr>\n",
       "  </thead>\n",
       "  <tbody>\n",
       "    <tr>\n",
       "      <th>0</th>\n",
       "      <td>AFG</td>\n",
       "      <td>Asia</td>\n",
       "      <td>Afghanistan</td>\n",
       "      <td>31/12/19</td>\n",
       "      <td>NaN</td>\n",
       "      <td>0.0</td>\n",
       "      <td>NaN</td>\n",
       "      <td>NaN</td>\n",
       "      <td>0.0</td>\n",
       "      <td>NaN</td>\n",
       "      <td>...</td>\n",
       "      <td>1803.987</td>\n",
       "      <td>NaN</td>\n",
       "      <td>597.029</td>\n",
       "      <td>9.59</td>\n",
       "      <td>NaN</td>\n",
       "      <td>NaN</td>\n",
       "      <td>37.746</td>\n",
       "      <td>0.5</td>\n",
       "      <td>64.83</td>\n",
       "      <td>0.498</td>\n",
       "    </tr>\n",
       "    <tr>\n",
       "      <th>1</th>\n",
       "      <td>AFG</td>\n",
       "      <td>Asia</td>\n",
       "      <td>Afghanistan</td>\n",
       "      <td>01/01/20</td>\n",
       "      <td>NaN</td>\n",
       "      <td>0.0</td>\n",
       "      <td>NaN</td>\n",
       "      <td>NaN</td>\n",
       "      <td>0.0</td>\n",
       "      <td>NaN</td>\n",
       "      <td>...</td>\n",
       "      <td>1803.987</td>\n",
       "      <td>NaN</td>\n",
       "      <td>597.029</td>\n",
       "      <td>9.59</td>\n",
       "      <td>NaN</td>\n",
       "      <td>NaN</td>\n",
       "      <td>37.746</td>\n",
       "      <td>0.5</td>\n",
       "      <td>64.83</td>\n",
       "      <td>0.498</td>\n",
       "    </tr>\n",
       "    <tr>\n",
       "      <th>2</th>\n",
       "      <td>AFG</td>\n",
       "      <td>Asia</td>\n",
       "      <td>Afghanistan</td>\n",
       "      <td>02/01/20</td>\n",
       "      <td>NaN</td>\n",
       "      <td>0.0</td>\n",
       "      <td>NaN</td>\n",
       "      <td>NaN</td>\n",
       "      <td>0.0</td>\n",
       "      <td>NaN</td>\n",
       "      <td>...</td>\n",
       "      <td>1803.987</td>\n",
       "      <td>NaN</td>\n",
       "      <td>597.029</td>\n",
       "      <td>9.59</td>\n",
       "      <td>NaN</td>\n",
       "      <td>NaN</td>\n",
       "      <td>37.746</td>\n",
       "      <td>0.5</td>\n",
       "      <td>64.83</td>\n",
       "      <td>0.498</td>\n",
       "    </tr>\n",
       "    <tr>\n",
       "      <th>3</th>\n",
       "      <td>AFG</td>\n",
       "      <td>Asia</td>\n",
       "      <td>Afghanistan</td>\n",
       "      <td>03/01/20</td>\n",
       "      <td>NaN</td>\n",
       "      <td>0.0</td>\n",
       "      <td>NaN</td>\n",
       "      <td>NaN</td>\n",
       "      <td>0.0</td>\n",
       "      <td>NaN</td>\n",
       "      <td>...</td>\n",
       "      <td>1803.987</td>\n",
       "      <td>NaN</td>\n",
       "      <td>597.029</td>\n",
       "      <td>9.59</td>\n",
       "      <td>NaN</td>\n",
       "      <td>NaN</td>\n",
       "      <td>37.746</td>\n",
       "      <td>0.5</td>\n",
       "      <td>64.83</td>\n",
       "      <td>0.498</td>\n",
       "    </tr>\n",
       "    <tr>\n",
       "      <th>4</th>\n",
       "      <td>AFG</td>\n",
       "      <td>Asia</td>\n",
       "      <td>Afghanistan</td>\n",
       "      <td>04/01/20</td>\n",
       "      <td>NaN</td>\n",
       "      <td>0.0</td>\n",
       "      <td>NaN</td>\n",
       "      <td>NaN</td>\n",
       "      <td>0.0</td>\n",
       "      <td>NaN</td>\n",
       "      <td>...</td>\n",
       "      <td>1803.987</td>\n",
       "      <td>NaN</td>\n",
       "      <td>597.029</td>\n",
       "      <td>9.59</td>\n",
       "      <td>NaN</td>\n",
       "      <td>NaN</td>\n",
       "      <td>37.746</td>\n",
       "      <td>0.5</td>\n",
       "      <td>64.83</td>\n",
       "      <td>0.498</td>\n",
       "    </tr>\n",
       "    <tr>\n",
       "      <th>...</th>\n",
       "      <td>...</td>\n",
       "      <td>...</td>\n",
       "      <td>...</td>\n",
       "      <td>...</td>\n",
       "      <td>...</td>\n",
       "      <td>...</td>\n",
       "      <td>...</td>\n",
       "      <td>...</td>\n",
       "      <td>...</td>\n",
       "      <td>...</td>\n",
       "      <td>...</td>\n",
       "      <td>...</td>\n",
       "      <td>...</td>\n",
       "      <td>...</td>\n",
       "      <td>...</td>\n",
       "      <td>...</td>\n",
       "      <td>...</td>\n",
       "      <td>...</td>\n",
       "      <td>...</td>\n",
       "      <td>...</td>\n",
       "      <td>...</td>\n",
       "    </tr>\n",
       "    <tr>\n",
       "      <th>57389</th>\n",
       "      <td>NaN</td>\n",
       "      <td>NaN</td>\n",
       "      <td>International</td>\n",
       "      <td>13/11/20</td>\n",
       "      <td>696.0</td>\n",
       "      <td>NaN</td>\n",
       "      <td>NaN</td>\n",
       "      <td>7.0</td>\n",
       "      <td>NaN</td>\n",
       "      <td>NaN</td>\n",
       "      <td>...</td>\n",
       "      <td>NaN</td>\n",
       "      <td>NaN</td>\n",
       "      <td>NaN</td>\n",
       "      <td>NaN</td>\n",
       "      <td>NaN</td>\n",
       "      <td>NaN</td>\n",
       "      <td>NaN</td>\n",
       "      <td>NaN</td>\n",
       "      <td>NaN</td>\n",
       "      <td>NaN</td>\n",
       "    </tr>\n",
       "    <tr>\n",
       "      <th>57390</th>\n",
       "      <td>NaN</td>\n",
       "      <td>NaN</td>\n",
       "      <td>International</td>\n",
       "      <td>14/11/20</td>\n",
       "      <td>696.0</td>\n",
       "      <td>NaN</td>\n",
       "      <td>NaN</td>\n",
       "      <td>7.0</td>\n",
       "      <td>NaN</td>\n",
       "      <td>NaN</td>\n",
       "      <td>...</td>\n",
       "      <td>NaN</td>\n",
       "      <td>NaN</td>\n",
       "      <td>NaN</td>\n",
       "      <td>NaN</td>\n",
       "      <td>NaN</td>\n",
       "      <td>NaN</td>\n",
       "      <td>NaN</td>\n",
       "      <td>NaN</td>\n",
       "      <td>NaN</td>\n",
       "      <td>NaN</td>\n",
       "    </tr>\n",
       "    <tr>\n",
       "      <th>57391</th>\n",
       "      <td>NaN</td>\n",
       "      <td>NaN</td>\n",
       "      <td>International</td>\n",
       "      <td>15/11/20</td>\n",
       "      <td>696.0</td>\n",
       "      <td>NaN</td>\n",
       "      <td>NaN</td>\n",
       "      <td>7.0</td>\n",
       "      <td>NaN</td>\n",
       "      <td>NaN</td>\n",
       "      <td>...</td>\n",
       "      <td>NaN</td>\n",
       "      <td>NaN</td>\n",
       "      <td>NaN</td>\n",
       "      <td>NaN</td>\n",
       "      <td>NaN</td>\n",
       "      <td>NaN</td>\n",
       "      <td>NaN</td>\n",
       "      <td>NaN</td>\n",
       "      <td>NaN</td>\n",
       "      <td>NaN</td>\n",
       "    </tr>\n",
       "    <tr>\n",
       "      <th>57392</th>\n",
       "      <td>NaN</td>\n",
       "      <td>NaN</td>\n",
       "      <td>International</td>\n",
       "      <td>16/11/20</td>\n",
       "      <td>696.0</td>\n",
       "      <td>NaN</td>\n",
       "      <td>NaN</td>\n",
       "      <td>7.0</td>\n",
       "      <td>NaN</td>\n",
       "      <td>NaN</td>\n",
       "      <td>...</td>\n",
       "      <td>NaN</td>\n",
       "      <td>NaN</td>\n",
       "      <td>NaN</td>\n",
       "      <td>NaN</td>\n",
       "      <td>NaN</td>\n",
       "      <td>NaN</td>\n",
       "      <td>NaN</td>\n",
       "      <td>NaN</td>\n",
       "      <td>NaN</td>\n",
       "      <td>NaN</td>\n",
       "    </tr>\n",
       "    <tr>\n",
       "      <th>57393</th>\n",
       "      <td>NaN</td>\n",
       "      <td>NaN</td>\n",
       "      <td>International</td>\n",
       "      <td>17/11/20</td>\n",
       "      <td>696.0</td>\n",
       "      <td>NaN</td>\n",
       "      <td>NaN</td>\n",
       "      <td>7.0</td>\n",
       "      <td>NaN</td>\n",
       "      <td>NaN</td>\n",
       "      <td>...</td>\n",
       "      <td>NaN</td>\n",
       "      <td>NaN</td>\n",
       "      <td>NaN</td>\n",
       "      <td>NaN</td>\n",
       "      <td>NaN</td>\n",
       "      <td>NaN</td>\n",
       "      <td>NaN</td>\n",
       "      <td>NaN</td>\n",
       "      <td>NaN</td>\n",
       "      <td>NaN</td>\n",
       "    </tr>\n",
       "  </tbody>\n",
       "</table>\n",
       "<p>57394 rows × 49 columns</p>\n",
       "</div>"
      ],
      "text/plain": [
       "      iso_code continent       location      date  total_cases  new_cases  \\\n",
       "0          AFG      Asia    Afghanistan  31/12/19          NaN        0.0   \n",
       "1          AFG      Asia    Afghanistan  01/01/20          NaN        0.0   \n",
       "2          AFG      Asia    Afghanistan  02/01/20          NaN        0.0   \n",
       "3          AFG      Asia    Afghanistan  03/01/20          NaN        0.0   \n",
       "4          AFG      Asia    Afghanistan  04/01/20          NaN        0.0   \n",
       "...        ...       ...            ...       ...          ...        ...   \n",
       "57389      NaN       NaN  International  13/11/20        696.0        NaN   \n",
       "57390      NaN       NaN  International  14/11/20        696.0        NaN   \n",
       "57391      NaN       NaN  International  15/11/20        696.0        NaN   \n",
       "57392      NaN       NaN  International  16/11/20        696.0        NaN   \n",
       "57393      NaN       NaN  International  17/11/20        696.0        NaN   \n",
       "\n",
       "       new_cases_smoothed  total_deaths  new_deaths  new_deaths_smoothed  ...  \\\n",
       "0                     NaN           NaN         0.0                  NaN  ...   \n",
       "1                     NaN           NaN         0.0                  NaN  ...   \n",
       "2                     NaN           NaN         0.0                  NaN  ...   \n",
       "3                     NaN           NaN         0.0                  NaN  ...   \n",
       "4                     NaN           NaN         0.0                  NaN  ...   \n",
       "...                   ...           ...         ...                  ...  ...   \n",
       "57389                 NaN           7.0         NaN                  NaN  ...   \n",
       "57390                 NaN           7.0         NaN                  NaN  ...   \n",
       "57391                 NaN           7.0         NaN                  NaN  ...   \n",
       "57392                 NaN           7.0         NaN                  NaN  ...   \n",
       "57393                 NaN           7.0         NaN                  NaN  ...   \n",
       "\n",
       "       gdp_per_capita  extreme_poverty  cardiovasc_death_rate  \\\n",
       "0            1803.987              NaN                597.029   \n",
       "1            1803.987              NaN                597.029   \n",
       "2            1803.987              NaN                597.029   \n",
       "3            1803.987              NaN                597.029   \n",
       "4            1803.987              NaN                597.029   \n",
       "...               ...              ...                    ...   \n",
       "57389             NaN              NaN                    NaN   \n",
       "57390             NaN              NaN                    NaN   \n",
       "57391             NaN              NaN                    NaN   \n",
       "57392             NaN              NaN                    NaN   \n",
       "57393             NaN              NaN                    NaN   \n",
       "\n",
       "       diabetes_prevalence  female_smokers  male_smokers  \\\n",
       "0                     9.59             NaN           NaN   \n",
       "1                     9.59             NaN           NaN   \n",
       "2                     9.59             NaN           NaN   \n",
       "3                     9.59             NaN           NaN   \n",
       "4                     9.59             NaN           NaN   \n",
       "...                    ...             ...           ...   \n",
       "57389                  NaN             NaN           NaN   \n",
       "57390                  NaN             NaN           NaN   \n",
       "57391                  NaN             NaN           NaN   \n",
       "57392                  NaN             NaN           NaN   \n",
       "57393                  NaN             NaN           NaN   \n",
       "\n",
       "       handwashing_facilities  hospital_beds_per_thousand  life_expectancy  \\\n",
       "0                      37.746                         0.5            64.83   \n",
       "1                      37.746                         0.5            64.83   \n",
       "2                      37.746                         0.5            64.83   \n",
       "3                      37.746                         0.5            64.83   \n",
       "4                      37.746                         0.5            64.83   \n",
       "...                       ...                         ...              ...   \n",
       "57389                     NaN                         NaN              NaN   \n",
       "57390                     NaN                         NaN              NaN   \n",
       "57391                     NaN                         NaN              NaN   \n",
       "57392                     NaN                         NaN              NaN   \n",
       "57393                     NaN                         NaN              NaN   \n",
       "\n",
       "       human_development_index  \n",
       "0                        0.498  \n",
       "1                        0.498  \n",
       "2                        0.498  \n",
       "3                        0.498  \n",
       "4                        0.498  \n",
       "...                        ...  \n",
       "57389                      NaN  \n",
       "57390                      NaN  \n",
       "57391                      NaN  \n",
       "57392                      NaN  \n",
       "57393                      NaN  \n",
       "\n",
       "[57394 rows x 49 columns]"
      ]
     },
     "execution_count": 20,
     "metadata": {},
     "output_type": "execute_result"
    }
   ],
   "source": [
    "\n",
    "df=covid_data\n",
    "df\n"
   ]
  },
  {
   "cell_type": "code",
   "execution_count": 21,
   "id": "f1101f46",
   "metadata": {
    "scrolled": true
   },
   "outputs": [
    {
     "data": {
      "text/html": [
       "<div>\n",
       "<style scoped>\n",
       "    .dataframe tbody tr th:only-of-type {\n",
       "        vertical-align: middle;\n",
       "    }\n",
       "\n",
       "    .dataframe tbody tr th {\n",
       "        vertical-align: top;\n",
       "    }\n",
       "\n",
       "    .dataframe thead th {\n",
       "        text-align: right;\n",
       "    }\n",
       "</style>\n",
       "<table border=\"1\" class=\"dataframe\">\n",
       "  <thead>\n",
       "    <tr style=\"text-align: right;\">\n",
       "      <th></th>\n",
       "      <th>continent</th>\n",
       "      <th>human_development_index</th>\n",
       "    </tr>\n",
       "  </thead>\n",
       "  <tbody>\n",
       "    <tr>\n",
       "      <th>0</th>\n",
       "      <td>Asia</td>\n",
       "      <td>0.498</td>\n",
       "    </tr>\n",
       "    <tr>\n",
       "      <th>1</th>\n",
       "      <td>Asia</td>\n",
       "      <td>0.498</td>\n",
       "    </tr>\n",
       "    <tr>\n",
       "      <th>2</th>\n",
       "      <td>Asia</td>\n",
       "      <td>0.498</td>\n",
       "    </tr>\n",
       "    <tr>\n",
       "      <th>3</th>\n",
       "      <td>Asia</td>\n",
       "      <td>0.498</td>\n",
       "    </tr>\n",
       "    <tr>\n",
       "      <th>4</th>\n",
       "      <td>Asia</td>\n",
       "      <td>0.498</td>\n",
       "    </tr>\n",
       "    <tr>\n",
       "      <th>...</th>\n",
       "      <td>...</td>\n",
       "      <td>...</td>\n",
       "    </tr>\n",
       "    <tr>\n",
       "      <th>57389</th>\n",
       "      <td>NaN</td>\n",
       "      <td>NaN</td>\n",
       "    </tr>\n",
       "    <tr>\n",
       "      <th>57390</th>\n",
       "      <td>NaN</td>\n",
       "      <td>NaN</td>\n",
       "    </tr>\n",
       "    <tr>\n",
       "      <th>57391</th>\n",
       "      <td>NaN</td>\n",
       "      <td>NaN</td>\n",
       "    </tr>\n",
       "    <tr>\n",
       "      <th>57392</th>\n",
       "      <td>NaN</td>\n",
       "      <td>NaN</td>\n",
       "    </tr>\n",
       "    <tr>\n",
       "      <th>57393</th>\n",
       "      <td>NaN</td>\n",
       "      <td>NaN</td>\n",
       "    </tr>\n",
       "  </tbody>\n",
       "</table>\n",
       "<p>57394 rows × 2 columns</p>\n",
       "</div>"
      ],
      "text/plain": [
       "      continent  human_development_index\n",
       "0          Asia                    0.498\n",
       "1          Asia                    0.498\n",
       "2          Asia                    0.498\n",
       "3          Asia                    0.498\n",
       "4          Asia                    0.498\n",
       "...         ...                      ...\n",
       "57389       NaN                      NaN\n",
       "57390       NaN                      NaN\n",
       "57391       NaN                      NaN\n",
       "57392       NaN                      NaN\n",
       "57393       NaN                      NaN\n",
       "\n",
       "[57394 rows x 2 columns]"
      ]
     },
     "execution_count": 21,
     "metadata": {},
     "output_type": "execute_result"
    }
   ],
   "source": [
    "df1= pd.read_csv(\"https://raw.githubusercontent.com/SR1608/Datasets/main/covid-data.csv\",usecols=[\"continent\",'human_development_index'])\n",
    "df1"
   ]
  },
  {
   "cell_type": "markdown",
   "id": "69bb9623",
   "metadata": {},
   "source": [
    "Find which continent has maximum\n",
    "'human_development_index'."
   ]
  },
  {
   "cell_type": "code",
   "execution_count": 22,
   "id": "a9faf4de",
   "metadata": {},
   "outputs": [
    {
     "data": {
      "text/plain": [
       "0.953"
      ]
     },
     "execution_count": 22,
     "metadata": {},
     "output_type": "execute_result"
    }
   ],
   "source": [
    "max=df1[\"human_development_index\"].max()\n",
    "max\n"
   ]
  },
  {
   "cell_type": "code",
   "execution_count": 23,
   "id": "e73f107b",
   "metadata": {},
   "outputs": [
    {
     "data": {
      "text/html": [
       "<div>\n",
       "<style scoped>\n",
       "    .dataframe tbody tr th:only-of-type {\n",
       "        vertical-align: middle;\n",
       "    }\n",
       "\n",
       "    .dataframe tbody tr th {\n",
       "        vertical-align: top;\n",
       "    }\n",
       "\n",
       "    .dataframe thead th {\n",
       "        text-align: right;\n",
       "    }\n",
       "</style>\n",
       "<table border=\"1\" class=\"dataframe\">\n",
       "  <thead>\n",
       "    <tr style=\"text-align: right;\">\n",
       "      <th></th>\n",
       "      <th>human_development_index</th>\n",
       "    </tr>\n",
       "    <tr>\n",
       "      <th>continent</th>\n",
       "      <th></th>\n",
       "    </tr>\n",
       "  </thead>\n",
       "  <tbody>\n",
       "    <tr>\n",
       "      <th>Africa</th>\n",
       "      <td>0.797</td>\n",
       "    </tr>\n",
       "    <tr>\n",
       "      <th>Asia</th>\n",
       "      <td>0.933</td>\n",
       "    </tr>\n",
       "    <tr>\n",
       "      <th>Europe</th>\n",
       "      <td>0.953</td>\n",
       "    </tr>\n",
       "    <tr>\n",
       "      <th>North America</th>\n",
       "      <td>0.926</td>\n",
       "    </tr>\n",
       "    <tr>\n",
       "      <th>Oceania</th>\n",
       "      <td>0.939</td>\n",
       "    </tr>\n",
       "    <tr>\n",
       "      <th>South America</th>\n",
       "      <td>0.843</td>\n",
       "    </tr>\n",
       "  </tbody>\n",
       "</table>\n",
       "</div>"
      ],
      "text/plain": [
       "               human_development_index\n",
       "continent                             \n",
       "Africa                           0.797\n",
       "Asia                             0.933\n",
       "Europe                           0.953\n",
       "North America                    0.926\n",
       "Oceania                          0.939\n",
       "South America                    0.843"
      ]
     },
     "execution_count": 23,
     "metadata": {},
     "output_type": "execute_result"
    }
   ],
   "source": [
    "df1=df.groupby(\"continent\").agg({\"human_development_index\":\"max\"})\n",
    "df1"
   ]
  },
  {
   "cell_type": "code",
   "execution_count": 24,
   "id": "1dcb9190",
   "metadata": {},
   "outputs": [
    {
     "data": {
      "text/plain": [
       "human_development_index    0.953\n",
       "dtype: float64"
      ]
     },
     "execution_count": 24,
     "metadata": {},
     "output_type": "execute_result"
    }
   ],
   "source": [
    "df1.max()"
   ]
  },
  {
   "cell_type": "markdown",
   "id": "4b3e5da5",
   "metadata": {},
   "source": [
    "Find which continent has minimum 'gdp_per_capita'.\n"
   ]
  },
  {
   "cell_type": "code",
   "execution_count": 25,
   "id": "5dd6c9e2",
   "metadata": {},
   "outputs": [
    {
     "data": {
      "text/html": [
       "<div>\n",
       "<style scoped>\n",
       "    .dataframe tbody tr th:only-of-type {\n",
       "        vertical-align: middle;\n",
       "    }\n",
       "\n",
       "    .dataframe tbody tr th {\n",
       "        vertical-align: top;\n",
       "    }\n",
       "\n",
       "    .dataframe thead th {\n",
       "        text-align: right;\n",
       "    }\n",
       "</style>\n",
       "<table border=\"1\" class=\"dataframe\">\n",
       "  <thead>\n",
       "    <tr style=\"text-align: right;\">\n",
       "      <th></th>\n",
       "      <th>gdp_per_capita</th>\n",
       "    </tr>\n",
       "    <tr>\n",
       "      <th>continent</th>\n",
       "      <th></th>\n",
       "    </tr>\n",
       "  </thead>\n",
       "  <tbody>\n",
       "    <tr>\n",
       "      <th>Africa</th>\n",
       "      <td>661.240</td>\n",
       "    </tr>\n",
       "    <tr>\n",
       "      <th>Asia</th>\n",
       "      <td>1479.147</td>\n",
       "    </tr>\n",
       "    <tr>\n",
       "      <th>Europe</th>\n",
       "      <td>5189.972</td>\n",
       "    </tr>\n",
       "    <tr>\n",
       "      <th>North America</th>\n",
       "      <td>1653.173</td>\n",
       "    </tr>\n",
       "    <tr>\n",
       "      <th>Oceania</th>\n",
       "      <td>2205.923</td>\n",
       "    </tr>\n",
       "    <tr>\n",
       "      <th>South America</th>\n",
       "      <td>6885.829</td>\n",
       "    </tr>\n",
       "  </tbody>\n",
       "</table>\n",
       "</div>"
      ],
      "text/plain": [
       "               gdp_per_capita\n",
       "continent                    \n",
       "Africa                661.240\n",
       "Asia                 1479.147\n",
       "Europe               5189.972\n",
       "North America        1653.173\n",
       "Oceania              2205.923\n",
       "South America        6885.829"
      ]
     },
     "execution_count": 25,
     "metadata": {},
     "output_type": "execute_result"
    }
   ],
   "source": [
    "df2=df.groupby(\"continent\").agg({'gdp_per_capita':\"min\"})\n",
    "df2"
   ]
  },
  {
   "cell_type": "code",
   "execution_count": 26,
   "id": "c3536ee4",
   "metadata": {},
   "outputs": [
    {
     "data": {
      "text/plain": [
       "gdp_per_capita    661.24\n",
       "dtype: float64"
      ]
     },
     "execution_count": 26,
     "metadata": {},
     "output_type": "execute_result"
    }
   ],
   "source": [
    "df2.min()\n",
    "\n"
   ]
  },
  {
   "cell_type": "markdown",
   "id": "93a3cb2a",
   "metadata": {},
   "source": [
    "# Filter the dataframe with only this columns\n",
    "['continent','location','date','total_cases','total_deaths','gdp_per_ca\n",
    "pita','\n",
    "human_development_index'] and update the data frame."
   ]
  },
  {
   "cell_type": "code",
   "execution_count": 27,
   "id": "f6ab6787",
   "metadata": {},
   "outputs": [
    {
     "data": {
      "text/html": [
       "<div>\n",
       "<style scoped>\n",
       "    .dataframe tbody tr th:only-of-type {\n",
       "        vertical-align: middle;\n",
       "    }\n",
       "\n",
       "    .dataframe tbody tr th {\n",
       "        vertical-align: top;\n",
       "    }\n",
       "\n",
       "    .dataframe thead th {\n",
       "        text-align: right;\n",
       "    }\n",
       "</style>\n",
       "<table border=\"1\" class=\"dataframe\">\n",
       "  <thead>\n",
       "    <tr style=\"text-align: right;\">\n",
       "      <th></th>\n",
       "      <th>continent</th>\n",
       "      <th>location</th>\n",
       "      <th>date</th>\n",
       "      <th>total_cases</th>\n",
       "      <th>total_deaths</th>\n",
       "      <th>gdp_per_capita</th>\n",
       "      <th>human_development_index</th>\n",
       "    </tr>\n",
       "  </thead>\n",
       "  <tbody>\n",
       "    <tr>\n",
       "      <th>0</th>\n",
       "      <td>Asia</td>\n",
       "      <td>Afghanistan</td>\n",
       "      <td>31/12/19</td>\n",
       "      <td>NaN</td>\n",
       "      <td>NaN</td>\n",
       "      <td>1803.987</td>\n",
       "      <td>0.498</td>\n",
       "    </tr>\n",
       "    <tr>\n",
       "      <th>1</th>\n",
       "      <td>Asia</td>\n",
       "      <td>Afghanistan</td>\n",
       "      <td>01/01/20</td>\n",
       "      <td>NaN</td>\n",
       "      <td>NaN</td>\n",
       "      <td>1803.987</td>\n",
       "      <td>0.498</td>\n",
       "    </tr>\n",
       "    <tr>\n",
       "      <th>2</th>\n",
       "      <td>Asia</td>\n",
       "      <td>Afghanistan</td>\n",
       "      <td>02/01/20</td>\n",
       "      <td>NaN</td>\n",
       "      <td>NaN</td>\n",
       "      <td>1803.987</td>\n",
       "      <td>0.498</td>\n",
       "    </tr>\n",
       "    <tr>\n",
       "      <th>3</th>\n",
       "      <td>Asia</td>\n",
       "      <td>Afghanistan</td>\n",
       "      <td>03/01/20</td>\n",
       "      <td>NaN</td>\n",
       "      <td>NaN</td>\n",
       "      <td>1803.987</td>\n",
       "      <td>0.498</td>\n",
       "    </tr>\n",
       "    <tr>\n",
       "      <th>4</th>\n",
       "      <td>Asia</td>\n",
       "      <td>Afghanistan</td>\n",
       "      <td>04/01/20</td>\n",
       "      <td>NaN</td>\n",
       "      <td>NaN</td>\n",
       "      <td>1803.987</td>\n",
       "      <td>0.498</td>\n",
       "    </tr>\n",
       "    <tr>\n",
       "      <th>...</th>\n",
       "      <td>...</td>\n",
       "      <td>...</td>\n",
       "      <td>...</td>\n",
       "      <td>...</td>\n",
       "      <td>...</td>\n",
       "      <td>...</td>\n",
       "      <td>...</td>\n",
       "    </tr>\n",
       "    <tr>\n",
       "      <th>57389</th>\n",
       "      <td>NaN</td>\n",
       "      <td>International</td>\n",
       "      <td>13/11/20</td>\n",
       "      <td>696.0</td>\n",
       "      <td>7.0</td>\n",
       "      <td>NaN</td>\n",
       "      <td>NaN</td>\n",
       "    </tr>\n",
       "    <tr>\n",
       "      <th>57390</th>\n",
       "      <td>NaN</td>\n",
       "      <td>International</td>\n",
       "      <td>14/11/20</td>\n",
       "      <td>696.0</td>\n",
       "      <td>7.0</td>\n",
       "      <td>NaN</td>\n",
       "      <td>NaN</td>\n",
       "    </tr>\n",
       "    <tr>\n",
       "      <th>57391</th>\n",
       "      <td>NaN</td>\n",
       "      <td>International</td>\n",
       "      <td>15/11/20</td>\n",
       "      <td>696.0</td>\n",
       "      <td>7.0</td>\n",
       "      <td>NaN</td>\n",
       "      <td>NaN</td>\n",
       "    </tr>\n",
       "    <tr>\n",
       "      <th>57392</th>\n",
       "      <td>NaN</td>\n",
       "      <td>International</td>\n",
       "      <td>16/11/20</td>\n",
       "      <td>696.0</td>\n",
       "      <td>7.0</td>\n",
       "      <td>NaN</td>\n",
       "      <td>NaN</td>\n",
       "    </tr>\n",
       "    <tr>\n",
       "      <th>57393</th>\n",
       "      <td>NaN</td>\n",
       "      <td>International</td>\n",
       "      <td>17/11/20</td>\n",
       "      <td>696.0</td>\n",
       "      <td>7.0</td>\n",
       "      <td>NaN</td>\n",
       "      <td>NaN</td>\n",
       "    </tr>\n",
       "  </tbody>\n",
       "</table>\n",
       "<p>57394 rows × 7 columns</p>\n",
       "</div>"
      ],
      "text/plain": [
       "      continent       location      date  total_cases  total_deaths  \\\n",
       "0          Asia    Afghanistan  31/12/19          NaN           NaN   \n",
       "1          Asia    Afghanistan  01/01/20          NaN           NaN   \n",
       "2          Asia    Afghanistan  02/01/20          NaN           NaN   \n",
       "3          Asia    Afghanistan  03/01/20          NaN           NaN   \n",
       "4          Asia    Afghanistan  04/01/20          NaN           NaN   \n",
       "...         ...            ...       ...          ...           ...   \n",
       "57389       NaN  International  13/11/20        696.0           7.0   \n",
       "57390       NaN  International  14/11/20        696.0           7.0   \n",
       "57391       NaN  International  15/11/20        696.0           7.0   \n",
       "57392       NaN  International  16/11/20        696.0           7.0   \n",
       "57393       NaN  International  17/11/20        696.0           7.0   \n",
       "\n",
       "       gdp_per_capita  human_development_index  \n",
       "0            1803.987                    0.498  \n",
       "1            1803.987                    0.498  \n",
       "2            1803.987                    0.498  \n",
       "3            1803.987                    0.498  \n",
       "4            1803.987                    0.498  \n",
       "...               ...                      ...  \n",
       "57389             NaN                      NaN  \n",
       "57390             NaN                      NaN  \n",
       "57391             NaN                      NaN  \n",
       "57392             NaN                      NaN  \n",
       "57393             NaN                      NaN  \n",
       "\n",
       "[57394 rows x 7 columns]"
      ]
     },
     "execution_count": 27,
     "metadata": {},
     "output_type": "execute_result"
    }
   ],
   "source": [
    "df3= pd.read_csv(\"https://raw.githubusercontent.com/SR1608/Datasets/main/covid-data.csv\",usecols=['continent','location','date','total_cases',\"total_deaths\",\n",
    "'gdp_per_capita','human_development_index'])\n",
    "df3\n"
   ]
  },
  {
   "cell_type": "markdown",
   "id": "97809a58",
   "metadata": {},
   "source": [
    "# Data Cleaning\n",
    "a. Remove all duplicates observations\n",
    "b. Find missing values in all columns\n",
    "c. Remove all observations where continent column value is\n",
    "missing\n",
    "Tip : using subset parameter in dropna\n",
    "d. Fill all missing values with 0"
   ]
  },
  {
   "cell_type": "code",
   "execution_count": 28,
   "id": "2a58c481",
   "metadata": {},
   "outputs": [
    {
     "data": {
      "text/html": [
       "<div>\n",
       "<style scoped>\n",
       "    .dataframe tbody tr th:only-of-type {\n",
       "        vertical-align: middle;\n",
       "    }\n",
       "\n",
       "    .dataframe tbody tr th {\n",
       "        vertical-align: top;\n",
       "    }\n",
       "\n",
       "    .dataframe thead th {\n",
       "        text-align: right;\n",
       "    }\n",
       "</style>\n",
       "<table border=\"1\" class=\"dataframe\">\n",
       "  <thead>\n",
       "    <tr style=\"text-align: right;\">\n",
       "      <th></th>\n",
       "      <th>human_development_index</th>\n",
       "    </tr>\n",
       "    <tr>\n",
       "      <th>continent</th>\n",
       "      <th></th>\n",
       "    </tr>\n",
       "  </thead>\n",
       "  <tbody>\n",
       "    <tr>\n",
       "      <th>Africa</th>\n",
       "      <td>0.797</td>\n",
       "    </tr>\n",
       "    <tr>\n",
       "      <th>Asia</th>\n",
       "      <td>0.933</td>\n",
       "    </tr>\n",
       "    <tr>\n",
       "      <th>Europe</th>\n",
       "      <td>0.953</td>\n",
       "    </tr>\n",
       "    <tr>\n",
       "      <th>North America</th>\n",
       "      <td>0.926</td>\n",
       "    </tr>\n",
       "    <tr>\n",
       "      <th>Oceania</th>\n",
       "      <td>0.939</td>\n",
       "    </tr>\n",
       "    <tr>\n",
       "      <th>South America</th>\n",
       "      <td>0.843</td>\n",
       "    </tr>\n",
       "  </tbody>\n",
       "</table>\n",
       "</div>"
      ],
      "text/plain": [
       "               human_development_index\n",
       "continent                             \n",
       "Africa                           0.797\n",
       "Asia                             0.933\n",
       "Europe                           0.953\n",
       "North America                    0.926\n",
       "Oceania                          0.939\n",
       "South America                    0.843"
      ]
     },
     "execution_count": 28,
     "metadata": {},
     "output_type": "execute_result"
    }
   ],
   "source": [
    "df1"
   ]
  },
  {
   "cell_type": "code",
   "execution_count": 29,
   "id": "5b3f3bb2",
   "metadata": {},
   "outputs": [
    {
     "data": {
      "text/html": [
       "<div>\n",
       "<style scoped>\n",
       "    .dataframe tbody tr th:only-of-type {\n",
       "        vertical-align: middle;\n",
       "    }\n",
       "\n",
       "    .dataframe tbody tr th {\n",
       "        vertical-align: top;\n",
       "    }\n",
       "\n",
       "    .dataframe thead th {\n",
       "        text-align: right;\n",
       "    }\n",
       "</style>\n",
       "<table border=\"1\" class=\"dataframe\">\n",
       "  <thead>\n",
       "    <tr style=\"text-align: right;\">\n",
       "      <th></th>\n",
       "      <th>iso_code</th>\n",
       "      <th>continent</th>\n",
       "      <th>location</th>\n",
       "      <th>date</th>\n",
       "      <th>total_cases</th>\n",
       "      <th>new_cases</th>\n",
       "      <th>new_cases_smoothed</th>\n",
       "      <th>total_deaths</th>\n",
       "      <th>new_deaths</th>\n",
       "      <th>new_deaths_smoothed</th>\n",
       "      <th>...</th>\n",
       "      <th>gdp_per_capita</th>\n",
       "      <th>extreme_poverty</th>\n",
       "      <th>cardiovasc_death_rate</th>\n",
       "      <th>diabetes_prevalence</th>\n",
       "      <th>female_smokers</th>\n",
       "      <th>male_smokers</th>\n",
       "      <th>handwashing_facilities</th>\n",
       "      <th>hospital_beds_per_thousand</th>\n",
       "      <th>life_expectancy</th>\n",
       "      <th>human_development_index</th>\n",
       "    </tr>\n",
       "  </thead>\n",
       "  <tbody>\n",
       "    <tr>\n",
       "      <th>0</th>\n",
       "      <td>AFG</td>\n",
       "      <td>Asia</td>\n",
       "      <td>Afghanistan</td>\n",
       "      <td>31/12/19</td>\n",
       "      <td>NaN</td>\n",
       "      <td>0.0</td>\n",
       "      <td>NaN</td>\n",
       "      <td>NaN</td>\n",
       "      <td>0.0</td>\n",
       "      <td>NaN</td>\n",
       "      <td>...</td>\n",
       "      <td>1803.987</td>\n",
       "      <td>NaN</td>\n",
       "      <td>597.029</td>\n",
       "      <td>9.59</td>\n",
       "      <td>NaN</td>\n",
       "      <td>NaN</td>\n",
       "      <td>37.746</td>\n",
       "      <td>0.5</td>\n",
       "      <td>64.83</td>\n",
       "      <td>0.498</td>\n",
       "    </tr>\n",
       "    <tr>\n",
       "      <th>1</th>\n",
       "      <td>AFG</td>\n",
       "      <td>Asia</td>\n",
       "      <td>Afghanistan</td>\n",
       "      <td>01/01/20</td>\n",
       "      <td>NaN</td>\n",
       "      <td>0.0</td>\n",
       "      <td>NaN</td>\n",
       "      <td>NaN</td>\n",
       "      <td>0.0</td>\n",
       "      <td>NaN</td>\n",
       "      <td>...</td>\n",
       "      <td>1803.987</td>\n",
       "      <td>NaN</td>\n",
       "      <td>597.029</td>\n",
       "      <td>9.59</td>\n",
       "      <td>NaN</td>\n",
       "      <td>NaN</td>\n",
       "      <td>37.746</td>\n",
       "      <td>0.5</td>\n",
       "      <td>64.83</td>\n",
       "      <td>0.498</td>\n",
       "    </tr>\n",
       "    <tr>\n",
       "      <th>2</th>\n",
       "      <td>AFG</td>\n",
       "      <td>Asia</td>\n",
       "      <td>Afghanistan</td>\n",
       "      <td>02/01/20</td>\n",
       "      <td>NaN</td>\n",
       "      <td>0.0</td>\n",
       "      <td>NaN</td>\n",
       "      <td>NaN</td>\n",
       "      <td>0.0</td>\n",
       "      <td>NaN</td>\n",
       "      <td>...</td>\n",
       "      <td>1803.987</td>\n",
       "      <td>NaN</td>\n",
       "      <td>597.029</td>\n",
       "      <td>9.59</td>\n",
       "      <td>NaN</td>\n",
       "      <td>NaN</td>\n",
       "      <td>37.746</td>\n",
       "      <td>0.5</td>\n",
       "      <td>64.83</td>\n",
       "      <td>0.498</td>\n",
       "    </tr>\n",
       "    <tr>\n",
       "      <th>3</th>\n",
       "      <td>AFG</td>\n",
       "      <td>Asia</td>\n",
       "      <td>Afghanistan</td>\n",
       "      <td>03/01/20</td>\n",
       "      <td>NaN</td>\n",
       "      <td>0.0</td>\n",
       "      <td>NaN</td>\n",
       "      <td>NaN</td>\n",
       "      <td>0.0</td>\n",
       "      <td>NaN</td>\n",
       "      <td>...</td>\n",
       "      <td>1803.987</td>\n",
       "      <td>NaN</td>\n",
       "      <td>597.029</td>\n",
       "      <td>9.59</td>\n",
       "      <td>NaN</td>\n",
       "      <td>NaN</td>\n",
       "      <td>37.746</td>\n",
       "      <td>0.5</td>\n",
       "      <td>64.83</td>\n",
       "      <td>0.498</td>\n",
       "    </tr>\n",
       "    <tr>\n",
       "      <th>4</th>\n",
       "      <td>AFG</td>\n",
       "      <td>Asia</td>\n",
       "      <td>Afghanistan</td>\n",
       "      <td>04/01/20</td>\n",
       "      <td>NaN</td>\n",
       "      <td>0.0</td>\n",
       "      <td>NaN</td>\n",
       "      <td>NaN</td>\n",
       "      <td>0.0</td>\n",
       "      <td>NaN</td>\n",
       "      <td>...</td>\n",
       "      <td>1803.987</td>\n",
       "      <td>NaN</td>\n",
       "      <td>597.029</td>\n",
       "      <td>9.59</td>\n",
       "      <td>NaN</td>\n",
       "      <td>NaN</td>\n",
       "      <td>37.746</td>\n",
       "      <td>0.5</td>\n",
       "      <td>64.83</td>\n",
       "      <td>0.498</td>\n",
       "    </tr>\n",
       "    <tr>\n",
       "      <th>...</th>\n",
       "      <td>...</td>\n",
       "      <td>...</td>\n",
       "      <td>...</td>\n",
       "      <td>...</td>\n",
       "      <td>...</td>\n",
       "      <td>...</td>\n",
       "      <td>...</td>\n",
       "      <td>...</td>\n",
       "      <td>...</td>\n",
       "      <td>...</td>\n",
       "      <td>...</td>\n",
       "      <td>...</td>\n",
       "      <td>...</td>\n",
       "      <td>...</td>\n",
       "      <td>...</td>\n",
       "      <td>...</td>\n",
       "      <td>...</td>\n",
       "      <td>...</td>\n",
       "      <td>...</td>\n",
       "      <td>...</td>\n",
       "      <td>...</td>\n",
       "    </tr>\n",
       "    <tr>\n",
       "      <th>57389</th>\n",
       "      <td>NaN</td>\n",
       "      <td>NaN</td>\n",
       "      <td>International</td>\n",
       "      <td>13/11/20</td>\n",
       "      <td>696.0</td>\n",
       "      <td>NaN</td>\n",
       "      <td>NaN</td>\n",
       "      <td>7.0</td>\n",
       "      <td>NaN</td>\n",
       "      <td>NaN</td>\n",
       "      <td>...</td>\n",
       "      <td>NaN</td>\n",
       "      <td>NaN</td>\n",
       "      <td>NaN</td>\n",
       "      <td>NaN</td>\n",
       "      <td>NaN</td>\n",
       "      <td>NaN</td>\n",
       "      <td>NaN</td>\n",
       "      <td>NaN</td>\n",
       "      <td>NaN</td>\n",
       "      <td>NaN</td>\n",
       "    </tr>\n",
       "    <tr>\n",
       "      <th>57390</th>\n",
       "      <td>NaN</td>\n",
       "      <td>NaN</td>\n",
       "      <td>International</td>\n",
       "      <td>14/11/20</td>\n",
       "      <td>696.0</td>\n",
       "      <td>NaN</td>\n",
       "      <td>NaN</td>\n",
       "      <td>7.0</td>\n",
       "      <td>NaN</td>\n",
       "      <td>NaN</td>\n",
       "      <td>...</td>\n",
       "      <td>NaN</td>\n",
       "      <td>NaN</td>\n",
       "      <td>NaN</td>\n",
       "      <td>NaN</td>\n",
       "      <td>NaN</td>\n",
       "      <td>NaN</td>\n",
       "      <td>NaN</td>\n",
       "      <td>NaN</td>\n",
       "      <td>NaN</td>\n",
       "      <td>NaN</td>\n",
       "    </tr>\n",
       "    <tr>\n",
       "      <th>57391</th>\n",
       "      <td>NaN</td>\n",
       "      <td>NaN</td>\n",
       "      <td>International</td>\n",
       "      <td>15/11/20</td>\n",
       "      <td>696.0</td>\n",
       "      <td>NaN</td>\n",
       "      <td>NaN</td>\n",
       "      <td>7.0</td>\n",
       "      <td>NaN</td>\n",
       "      <td>NaN</td>\n",
       "      <td>...</td>\n",
       "      <td>NaN</td>\n",
       "      <td>NaN</td>\n",
       "      <td>NaN</td>\n",
       "      <td>NaN</td>\n",
       "      <td>NaN</td>\n",
       "      <td>NaN</td>\n",
       "      <td>NaN</td>\n",
       "      <td>NaN</td>\n",
       "      <td>NaN</td>\n",
       "      <td>NaN</td>\n",
       "    </tr>\n",
       "    <tr>\n",
       "      <th>57392</th>\n",
       "      <td>NaN</td>\n",
       "      <td>NaN</td>\n",
       "      <td>International</td>\n",
       "      <td>16/11/20</td>\n",
       "      <td>696.0</td>\n",
       "      <td>NaN</td>\n",
       "      <td>NaN</td>\n",
       "      <td>7.0</td>\n",
       "      <td>NaN</td>\n",
       "      <td>NaN</td>\n",
       "      <td>...</td>\n",
       "      <td>NaN</td>\n",
       "      <td>NaN</td>\n",
       "      <td>NaN</td>\n",
       "      <td>NaN</td>\n",
       "      <td>NaN</td>\n",
       "      <td>NaN</td>\n",
       "      <td>NaN</td>\n",
       "      <td>NaN</td>\n",
       "      <td>NaN</td>\n",
       "      <td>NaN</td>\n",
       "    </tr>\n",
       "    <tr>\n",
       "      <th>57393</th>\n",
       "      <td>NaN</td>\n",
       "      <td>NaN</td>\n",
       "      <td>International</td>\n",
       "      <td>17/11/20</td>\n",
       "      <td>696.0</td>\n",
       "      <td>NaN</td>\n",
       "      <td>NaN</td>\n",
       "      <td>7.0</td>\n",
       "      <td>NaN</td>\n",
       "      <td>NaN</td>\n",
       "      <td>...</td>\n",
       "      <td>NaN</td>\n",
       "      <td>NaN</td>\n",
       "      <td>NaN</td>\n",
       "      <td>NaN</td>\n",
       "      <td>NaN</td>\n",
       "      <td>NaN</td>\n",
       "      <td>NaN</td>\n",
       "      <td>NaN</td>\n",
       "      <td>NaN</td>\n",
       "      <td>NaN</td>\n",
       "    </tr>\n",
       "  </tbody>\n",
       "</table>\n",
       "<p>57394 rows × 49 columns</p>\n",
       "</div>"
      ],
      "text/plain": [
       "      iso_code continent       location      date  total_cases  new_cases  \\\n",
       "0          AFG      Asia    Afghanistan  31/12/19          NaN        0.0   \n",
       "1          AFG      Asia    Afghanistan  01/01/20          NaN        0.0   \n",
       "2          AFG      Asia    Afghanistan  02/01/20          NaN        0.0   \n",
       "3          AFG      Asia    Afghanistan  03/01/20          NaN        0.0   \n",
       "4          AFG      Asia    Afghanistan  04/01/20          NaN        0.0   \n",
       "...        ...       ...            ...       ...          ...        ...   \n",
       "57389      NaN       NaN  International  13/11/20        696.0        NaN   \n",
       "57390      NaN       NaN  International  14/11/20        696.0        NaN   \n",
       "57391      NaN       NaN  International  15/11/20        696.0        NaN   \n",
       "57392      NaN       NaN  International  16/11/20        696.0        NaN   \n",
       "57393      NaN       NaN  International  17/11/20        696.0        NaN   \n",
       "\n",
       "       new_cases_smoothed  total_deaths  new_deaths  new_deaths_smoothed  ...  \\\n",
       "0                     NaN           NaN         0.0                  NaN  ...   \n",
       "1                     NaN           NaN         0.0                  NaN  ...   \n",
       "2                     NaN           NaN         0.0                  NaN  ...   \n",
       "3                     NaN           NaN         0.0                  NaN  ...   \n",
       "4                     NaN           NaN         0.0                  NaN  ...   \n",
       "...                   ...           ...         ...                  ...  ...   \n",
       "57389                 NaN           7.0         NaN                  NaN  ...   \n",
       "57390                 NaN           7.0         NaN                  NaN  ...   \n",
       "57391                 NaN           7.0         NaN                  NaN  ...   \n",
       "57392                 NaN           7.0         NaN                  NaN  ...   \n",
       "57393                 NaN           7.0         NaN                  NaN  ...   \n",
       "\n",
       "       gdp_per_capita  extreme_poverty  cardiovasc_death_rate  \\\n",
       "0            1803.987              NaN                597.029   \n",
       "1            1803.987              NaN                597.029   \n",
       "2            1803.987              NaN                597.029   \n",
       "3            1803.987              NaN                597.029   \n",
       "4            1803.987              NaN                597.029   \n",
       "...               ...              ...                    ...   \n",
       "57389             NaN              NaN                    NaN   \n",
       "57390             NaN              NaN                    NaN   \n",
       "57391             NaN              NaN                    NaN   \n",
       "57392             NaN              NaN                    NaN   \n",
       "57393             NaN              NaN                    NaN   \n",
       "\n",
       "       diabetes_prevalence  female_smokers  male_smokers  \\\n",
       "0                     9.59             NaN           NaN   \n",
       "1                     9.59             NaN           NaN   \n",
       "2                     9.59             NaN           NaN   \n",
       "3                     9.59             NaN           NaN   \n",
       "4                     9.59             NaN           NaN   \n",
       "...                    ...             ...           ...   \n",
       "57389                  NaN             NaN           NaN   \n",
       "57390                  NaN             NaN           NaN   \n",
       "57391                  NaN             NaN           NaN   \n",
       "57392                  NaN             NaN           NaN   \n",
       "57393                  NaN             NaN           NaN   \n",
       "\n",
       "       handwashing_facilities  hospital_beds_per_thousand  life_expectancy  \\\n",
       "0                      37.746                         0.5            64.83   \n",
       "1                      37.746                         0.5            64.83   \n",
       "2                      37.746                         0.5            64.83   \n",
       "3                      37.746                         0.5            64.83   \n",
       "4                      37.746                         0.5            64.83   \n",
       "...                       ...                         ...              ...   \n",
       "57389                     NaN                         NaN              NaN   \n",
       "57390                     NaN                         NaN              NaN   \n",
       "57391                     NaN                         NaN              NaN   \n",
       "57392                     NaN                         NaN              NaN   \n",
       "57393                     NaN                         NaN              NaN   \n",
       "\n",
       "       human_development_index  \n",
       "0                        0.498  \n",
       "1                        0.498  \n",
       "2                        0.498  \n",
       "3                        0.498  \n",
       "4                        0.498  \n",
       "...                        ...  \n",
       "57389                      NaN  \n",
       "57390                      NaN  \n",
       "57391                      NaN  \n",
       "57392                      NaN  \n",
       "57393                      NaN  \n",
       "\n",
       "[57394 rows x 49 columns]"
      ]
     },
     "execution_count": 29,
     "metadata": {},
     "output_type": "execute_result"
    }
   ],
   "source": [
    "covid_data"
   ]
  },
  {
   "cell_type": "code",
   "execution_count": 30,
   "id": "e9ddbd2d",
   "metadata": {},
   "outputs": [
    {
     "data": {
      "text/plain": [
       "0        False\n",
       "1        False\n",
       "2        False\n",
       "3        False\n",
       "4        False\n",
       "         ...  \n",
       "57389    False\n",
       "57390    False\n",
       "57391    False\n",
       "57392    False\n",
       "57393    False\n",
       "Length: 57394, dtype: bool"
      ]
     },
     "execution_count": 30,
     "metadata": {},
     "output_type": "execute_result"
    }
   ],
   "source": [
    "covid_data.duplicated()\n"
   ]
  },
  {
   "cell_type": "code",
   "execution_count": 31,
   "id": "05290110",
   "metadata": {},
   "outputs": [
    {
     "data": {
      "text/plain": [
       "0"
      ]
     },
     "execution_count": 31,
     "metadata": {},
     "output_type": "execute_result"
    }
   ],
   "source": [
    "covid_data.duplicated().sum()\n"
   ]
  },
  {
   "cell_type": "markdown",
   "id": "76d31322",
   "metadata": {},
   "source": [
    "since sum is zero duplicated values are none ."
   ]
  },
  {
   "cell_type": "code",
   "execution_count": 32,
   "id": "9a7a0d51",
   "metadata": {},
   "outputs": [
    {
     "name": "stdout",
     "output_type": "stream",
     "text": [
      "<class 'pandas.core.frame.DataFrame'>\n",
      "RangeIndex: 57394 entries, 0 to 57393\n",
      "Data columns (total 49 columns):\n",
      " #   Column                              Non-Null Count  Dtype  \n",
      "---  ------                              --------------  -----  \n",
      " 0   iso_code                            57071 non-null  object \n",
      " 1   continent                           56748 non-null  object \n",
      " 2   location                            57394 non-null  object \n",
      " 3   date                                57394 non-null  object \n",
      " 4   total_cases                         53758 non-null  float64\n",
      " 5   new_cases                           56465 non-null  float64\n",
      " 6   new_cases_smoothed                  55652 non-null  float64\n",
      " 7   total_deaths                        44368 non-null  float64\n",
      " 8   new_deaths                          56465 non-null  float64\n",
      " 9   new_deaths_smoothed                 55652 non-null  float64\n",
      " 10  total_cases_per_million             53471 non-null  float64\n",
      " 11  new_cases_per_million               56401 non-null  float64\n",
      " 12  new_cases_smoothed_per_million      55587 non-null  float64\n",
      " 13  total_deaths_per_million            44096 non-null  float64\n",
      " 14  new_deaths_per_million              56401 non-null  float64\n",
      " 15  new_deaths_smoothed_per_million     55587 non-null  float64\n",
      " 16  reproduction_rate                   37696 non-null  float64\n",
      " 17  icu_patients                        4490 non-null   float64\n",
      " 18  icu_patients_per_million            4490 non-null   float64\n",
      " 19  hosp_patients                       5005 non-null   float64\n",
      " 20  hosp_patients_per_million           5005 non-null   float64\n",
      " 21  weekly_icu_admissions               357 non-null    float64\n",
      " 22  weekly_icu_admissions_per_million   357 non-null    float64\n",
      " 23  weekly_hosp_admissions              645 non-null    float64\n",
      " 24  weekly_hosp_admissions_per_million  645 non-null    float64\n",
      " 25  total_tests                         22017 non-null  float64\n",
      " 26  new_tests                           21787 non-null  float64\n",
      " 27  total_tests_per_thousand            22017 non-null  float64\n",
      " 28  new_tests_per_thousand              21787 non-null  float64\n",
      " 29  new_tests_smoothed                  24612 non-null  float64\n",
      " 30  new_tests_smoothed_per_thousand     24612 non-null  float64\n",
      " 31  tests_per_case                      22802 non-null  float64\n",
      " 32  positive_rate                       23211 non-null  float64\n",
      " 33  stringency_index                    47847 non-null  float64\n",
      " 34  population                          57071 non-null  float64\n",
      " 35  population_density                  54371 non-null  float64\n",
      " 36  median_age                          51034 non-null  float64\n",
      " 37  aged_65_older                       50265 non-null  float64\n",
      " 38  aged_70_older                       50768 non-null  float64\n",
      " 39  gdp_per_capita                      50367 non-null  float64\n",
      " 40  extreme_poverty                     33571 non-null  float64\n",
      " 41  cardiovasc_death_rate               51013 non-null  float64\n",
      " 42  diabetes_prevalence                 52881 non-null  float64\n",
      " 43  female_smokers                      39669 non-null  float64\n",
      " 44  male_smokers                        39156 non-null  float64\n",
      " 45  handwashing_facilities              24176 non-null  float64\n",
      " 46  hospital_beds_per_thousand          45936 non-null  float64\n",
      " 47  life_expectancy                     56336 non-null  float64\n",
      " 48  human_development_index             49247 non-null  float64\n",
      "dtypes: float64(45), object(4)\n",
      "memory usage: 21.5+ MB\n"
     ]
    }
   ],
   "source": [
    "covid_data.info()\n",
    "\n"
   ]
  },
  {
   "cell_type": "markdown",
   "id": "c24debee",
   "metadata": {},
   "source": [
    "# b. Find missing values in all columns"
   ]
  },
  {
   "cell_type": "code",
   "execution_count": 33,
   "id": "4fa006d7",
   "metadata": {
    "scrolled": true
   },
   "outputs": [
    {
     "data": {
      "text/plain": [
       "iso_code                                323\n",
       "continent                               646\n",
       "location                                  0\n",
       "date                                      0\n",
       "total_cases                            3636\n",
       "new_cases                               929\n",
       "new_cases_smoothed                     1742\n",
       "total_deaths                          13026\n",
       "new_deaths                              929\n",
       "new_deaths_smoothed                    1742\n",
       "total_cases_per_million                3923\n",
       "new_cases_per_million                   993\n",
       "new_cases_smoothed_per_million         1807\n",
       "total_deaths_per_million              13298\n",
       "new_deaths_per_million                  993\n",
       "new_deaths_smoothed_per_million        1807\n",
       "reproduction_rate                     19698\n",
       "icu_patients                          52904\n",
       "icu_patients_per_million              52904\n",
       "hosp_patients                         52389\n",
       "hosp_patients_per_million             52389\n",
       "weekly_icu_admissions                 57037\n",
       "weekly_icu_admissions_per_million     57037\n",
       "weekly_hosp_admissions                56749\n",
       "weekly_hosp_admissions_per_million    56749\n",
       "total_tests                           35377\n",
       "new_tests                             35607\n",
       "total_tests_per_thousand              35377\n",
       "new_tests_per_thousand                35607\n",
       "new_tests_smoothed                    32782\n",
       "new_tests_smoothed_per_thousand       32782\n",
       "tests_per_case                        34592\n",
       "positive_rate                         34183\n",
       "stringency_index                       9547\n",
       "population                              323\n",
       "population_density                     3023\n",
       "median_age                             6360\n",
       "aged_65_older                          7129\n",
       "aged_70_older                          6626\n",
       "gdp_per_capita                         7027\n",
       "extreme_poverty                       23823\n",
       "cardiovasc_death_rate                  6381\n",
       "diabetes_prevalence                    4513\n",
       "female_smokers                        17725\n",
       "male_smokers                          18238\n",
       "handwashing_facilities                33218\n",
       "hospital_beds_per_thousand            11458\n",
       "life_expectancy                        1058\n",
       "human_development_index                8147\n",
       "dtype: int64"
      ]
     },
     "execution_count": 33,
     "metadata": {},
     "output_type": "execute_result"
    }
   ],
   "source": [
    "covid_data.isnull().sum()\n",
    "\n",
    "\n",
    "\n"
   ]
  },
  {
   "cell_type": "code",
   "execution_count": 34,
   "id": "9b4f9e1f",
   "metadata": {},
   "outputs": [
    {
     "data": {
      "text/plain": [
       "'AFG'"
      ]
     },
     "execution_count": 34,
     "metadata": {},
     "output_type": "execute_result"
    }
   ],
   "source": [
    "covid_data[\"iso_code\"].mode()[0]\n"
   ]
  },
  {
   "cell_type": "code",
   "execution_count": 35,
   "id": "fcde07c7",
   "metadata": {},
   "outputs": [
    {
     "data": {
      "text/html": [
       "<div>\n",
       "<style scoped>\n",
       "    .dataframe tbody tr th:only-of-type {\n",
       "        vertical-align: middle;\n",
       "    }\n",
       "\n",
       "    .dataframe tbody tr th {\n",
       "        vertical-align: top;\n",
       "    }\n",
       "\n",
       "    .dataframe thead th {\n",
       "        text-align: right;\n",
       "    }\n",
       "</style>\n",
       "<table border=\"1\" class=\"dataframe\">\n",
       "  <thead>\n",
       "    <tr style=\"text-align: right;\">\n",
       "      <th></th>\n",
       "      <th>iso_code</th>\n",
       "      <th>continent</th>\n",
       "      <th>location</th>\n",
       "      <th>date</th>\n",
       "      <th>total_cases</th>\n",
       "      <th>new_cases</th>\n",
       "      <th>new_cases_smoothed</th>\n",
       "      <th>total_deaths</th>\n",
       "      <th>new_deaths</th>\n",
       "      <th>new_deaths_smoothed</th>\n",
       "      <th>...</th>\n",
       "      <th>gdp_per_capita</th>\n",
       "      <th>extreme_poverty</th>\n",
       "      <th>cardiovasc_death_rate</th>\n",
       "      <th>diabetes_prevalence</th>\n",
       "      <th>female_smokers</th>\n",
       "      <th>male_smokers</th>\n",
       "      <th>handwashing_facilities</th>\n",
       "      <th>hospital_beds_per_thousand</th>\n",
       "      <th>life_expectancy</th>\n",
       "      <th>human_development_index</th>\n",
       "    </tr>\n",
       "  </thead>\n",
       "  <tbody>\n",
       "    <tr>\n",
       "      <th>0</th>\n",
       "      <td>AFG</td>\n",
       "      <td>Asia</td>\n",
       "      <td>Afghanistan</td>\n",
       "      <td>31/12/19</td>\n",
       "      <td>NaN</td>\n",
       "      <td>0.0</td>\n",
       "      <td>NaN</td>\n",
       "      <td>NaN</td>\n",
       "      <td>0.0</td>\n",
       "      <td>NaN</td>\n",
       "      <td>...</td>\n",
       "      <td>1803.987</td>\n",
       "      <td>NaN</td>\n",
       "      <td>597.029</td>\n",
       "      <td>9.59</td>\n",
       "      <td>NaN</td>\n",
       "      <td>NaN</td>\n",
       "      <td>37.746</td>\n",
       "      <td>0.5</td>\n",
       "      <td>64.83</td>\n",
       "      <td>0.498</td>\n",
       "    </tr>\n",
       "    <tr>\n",
       "      <th>1</th>\n",
       "      <td>AFG</td>\n",
       "      <td>Asia</td>\n",
       "      <td>Afghanistan</td>\n",
       "      <td>01/01/20</td>\n",
       "      <td>NaN</td>\n",
       "      <td>0.0</td>\n",
       "      <td>NaN</td>\n",
       "      <td>NaN</td>\n",
       "      <td>0.0</td>\n",
       "      <td>NaN</td>\n",
       "      <td>...</td>\n",
       "      <td>1803.987</td>\n",
       "      <td>NaN</td>\n",
       "      <td>597.029</td>\n",
       "      <td>9.59</td>\n",
       "      <td>NaN</td>\n",
       "      <td>NaN</td>\n",
       "      <td>37.746</td>\n",
       "      <td>0.5</td>\n",
       "      <td>64.83</td>\n",
       "      <td>0.498</td>\n",
       "    </tr>\n",
       "    <tr>\n",
       "      <th>2</th>\n",
       "      <td>AFG</td>\n",
       "      <td>Asia</td>\n",
       "      <td>Afghanistan</td>\n",
       "      <td>02/01/20</td>\n",
       "      <td>NaN</td>\n",
       "      <td>0.0</td>\n",
       "      <td>NaN</td>\n",
       "      <td>NaN</td>\n",
       "      <td>0.0</td>\n",
       "      <td>NaN</td>\n",
       "      <td>...</td>\n",
       "      <td>1803.987</td>\n",
       "      <td>NaN</td>\n",
       "      <td>597.029</td>\n",
       "      <td>9.59</td>\n",
       "      <td>NaN</td>\n",
       "      <td>NaN</td>\n",
       "      <td>37.746</td>\n",
       "      <td>0.5</td>\n",
       "      <td>64.83</td>\n",
       "      <td>0.498</td>\n",
       "    </tr>\n",
       "    <tr>\n",
       "      <th>3</th>\n",
       "      <td>AFG</td>\n",
       "      <td>Asia</td>\n",
       "      <td>Afghanistan</td>\n",
       "      <td>03/01/20</td>\n",
       "      <td>NaN</td>\n",
       "      <td>0.0</td>\n",
       "      <td>NaN</td>\n",
       "      <td>NaN</td>\n",
       "      <td>0.0</td>\n",
       "      <td>NaN</td>\n",
       "      <td>...</td>\n",
       "      <td>1803.987</td>\n",
       "      <td>NaN</td>\n",
       "      <td>597.029</td>\n",
       "      <td>9.59</td>\n",
       "      <td>NaN</td>\n",
       "      <td>NaN</td>\n",
       "      <td>37.746</td>\n",
       "      <td>0.5</td>\n",
       "      <td>64.83</td>\n",
       "      <td>0.498</td>\n",
       "    </tr>\n",
       "    <tr>\n",
       "      <th>4</th>\n",
       "      <td>AFG</td>\n",
       "      <td>Asia</td>\n",
       "      <td>Afghanistan</td>\n",
       "      <td>04/01/20</td>\n",
       "      <td>NaN</td>\n",
       "      <td>0.0</td>\n",
       "      <td>NaN</td>\n",
       "      <td>NaN</td>\n",
       "      <td>0.0</td>\n",
       "      <td>NaN</td>\n",
       "      <td>...</td>\n",
       "      <td>1803.987</td>\n",
       "      <td>NaN</td>\n",
       "      <td>597.029</td>\n",
       "      <td>9.59</td>\n",
       "      <td>NaN</td>\n",
       "      <td>NaN</td>\n",
       "      <td>37.746</td>\n",
       "      <td>0.5</td>\n",
       "      <td>64.83</td>\n",
       "      <td>0.498</td>\n",
       "    </tr>\n",
       "    <tr>\n",
       "      <th>...</th>\n",
       "      <td>...</td>\n",
       "      <td>...</td>\n",
       "      <td>...</td>\n",
       "      <td>...</td>\n",
       "      <td>...</td>\n",
       "      <td>...</td>\n",
       "      <td>...</td>\n",
       "      <td>...</td>\n",
       "      <td>...</td>\n",
       "      <td>...</td>\n",
       "      <td>...</td>\n",
       "      <td>...</td>\n",
       "      <td>...</td>\n",
       "      <td>...</td>\n",
       "      <td>...</td>\n",
       "      <td>...</td>\n",
       "      <td>...</td>\n",
       "      <td>...</td>\n",
       "      <td>...</td>\n",
       "      <td>...</td>\n",
       "      <td>...</td>\n",
       "    </tr>\n",
       "    <tr>\n",
       "      <th>57389</th>\n",
       "      <td>NaN</td>\n",
       "      <td>NaN</td>\n",
       "      <td>International</td>\n",
       "      <td>13/11/20</td>\n",
       "      <td>696.0</td>\n",
       "      <td>NaN</td>\n",
       "      <td>NaN</td>\n",
       "      <td>7.0</td>\n",
       "      <td>NaN</td>\n",
       "      <td>NaN</td>\n",
       "      <td>...</td>\n",
       "      <td>NaN</td>\n",
       "      <td>NaN</td>\n",
       "      <td>NaN</td>\n",
       "      <td>NaN</td>\n",
       "      <td>NaN</td>\n",
       "      <td>NaN</td>\n",
       "      <td>NaN</td>\n",
       "      <td>NaN</td>\n",
       "      <td>NaN</td>\n",
       "      <td>NaN</td>\n",
       "    </tr>\n",
       "    <tr>\n",
       "      <th>57390</th>\n",
       "      <td>NaN</td>\n",
       "      <td>NaN</td>\n",
       "      <td>International</td>\n",
       "      <td>14/11/20</td>\n",
       "      <td>696.0</td>\n",
       "      <td>NaN</td>\n",
       "      <td>NaN</td>\n",
       "      <td>7.0</td>\n",
       "      <td>NaN</td>\n",
       "      <td>NaN</td>\n",
       "      <td>...</td>\n",
       "      <td>NaN</td>\n",
       "      <td>NaN</td>\n",
       "      <td>NaN</td>\n",
       "      <td>NaN</td>\n",
       "      <td>NaN</td>\n",
       "      <td>NaN</td>\n",
       "      <td>NaN</td>\n",
       "      <td>NaN</td>\n",
       "      <td>NaN</td>\n",
       "      <td>NaN</td>\n",
       "    </tr>\n",
       "    <tr>\n",
       "      <th>57391</th>\n",
       "      <td>NaN</td>\n",
       "      <td>NaN</td>\n",
       "      <td>International</td>\n",
       "      <td>15/11/20</td>\n",
       "      <td>696.0</td>\n",
       "      <td>NaN</td>\n",
       "      <td>NaN</td>\n",
       "      <td>7.0</td>\n",
       "      <td>NaN</td>\n",
       "      <td>NaN</td>\n",
       "      <td>...</td>\n",
       "      <td>NaN</td>\n",
       "      <td>NaN</td>\n",
       "      <td>NaN</td>\n",
       "      <td>NaN</td>\n",
       "      <td>NaN</td>\n",
       "      <td>NaN</td>\n",
       "      <td>NaN</td>\n",
       "      <td>NaN</td>\n",
       "      <td>NaN</td>\n",
       "      <td>NaN</td>\n",
       "    </tr>\n",
       "    <tr>\n",
       "      <th>57392</th>\n",
       "      <td>NaN</td>\n",
       "      <td>NaN</td>\n",
       "      <td>International</td>\n",
       "      <td>16/11/20</td>\n",
       "      <td>696.0</td>\n",
       "      <td>NaN</td>\n",
       "      <td>NaN</td>\n",
       "      <td>7.0</td>\n",
       "      <td>NaN</td>\n",
       "      <td>NaN</td>\n",
       "      <td>...</td>\n",
       "      <td>NaN</td>\n",
       "      <td>NaN</td>\n",
       "      <td>NaN</td>\n",
       "      <td>NaN</td>\n",
       "      <td>NaN</td>\n",
       "      <td>NaN</td>\n",
       "      <td>NaN</td>\n",
       "      <td>NaN</td>\n",
       "      <td>NaN</td>\n",
       "      <td>NaN</td>\n",
       "    </tr>\n",
       "    <tr>\n",
       "      <th>57393</th>\n",
       "      <td>NaN</td>\n",
       "      <td>NaN</td>\n",
       "      <td>International</td>\n",
       "      <td>17/11/20</td>\n",
       "      <td>696.0</td>\n",
       "      <td>NaN</td>\n",
       "      <td>NaN</td>\n",
       "      <td>7.0</td>\n",
       "      <td>NaN</td>\n",
       "      <td>NaN</td>\n",
       "      <td>...</td>\n",
       "      <td>NaN</td>\n",
       "      <td>NaN</td>\n",
       "      <td>NaN</td>\n",
       "      <td>NaN</td>\n",
       "      <td>NaN</td>\n",
       "      <td>NaN</td>\n",
       "      <td>NaN</td>\n",
       "      <td>NaN</td>\n",
       "      <td>NaN</td>\n",
       "      <td>NaN</td>\n",
       "    </tr>\n",
       "  </tbody>\n",
       "</table>\n",
       "<p>57394 rows × 49 columns</p>\n",
       "</div>"
      ],
      "text/plain": [
       "      iso_code continent       location      date  total_cases  new_cases  \\\n",
       "0          AFG      Asia    Afghanistan  31/12/19          NaN        0.0   \n",
       "1          AFG      Asia    Afghanistan  01/01/20          NaN        0.0   \n",
       "2          AFG      Asia    Afghanistan  02/01/20          NaN        0.0   \n",
       "3          AFG      Asia    Afghanistan  03/01/20          NaN        0.0   \n",
       "4          AFG      Asia    Afghanistan  04/01/20          NaN        0.0   \n",
       "...        ...       ...            ...       ...          ...        ...   \n",
       "57389      NaN       NaN  International  13/11/20        696.0        NaN   \n",
       "57390      NaN       NaN  International  14/11/20        696.0        NaN   \n",
       "57391      NaN       NaN  International  15/11/20        696.0        NaN   \n",
       "57392      NaN       NaN  International  16/11/20        696.0        NaN   \n",
       "57393      NaN       NaN  International  17/11/20        696.0        NaN   \n",
       "\n",
       "       new_cases_smoothed  total_deaths  new_deaths  new_deaths_smoothed  ...  \\\n",
       "0                     NaN           NaN         0.0                  NaN  ...   \n",
       "1                     NaN           NaN         0.0                  NaN  ...   \n",
       "2                     NaN           NaN         0.0                  NaN  ...   \n",
       "3                     NaN           NaN         0.0                  NaN  ...   \n",
       "4                     NaN           NaN         0.0                  NaN  ...   \n",
       "...                   ...           ...         ...                  ...  ...   \n",
       "57389                 NaN           7.0         NaN                  NaN  ...   \n",
       "57390                 NaN           7.0         NaN                  NaN  ...   \n",
       "57391                 NaN           7.0         NaN                  NaN  ...   \n",
       "57392                 NaN           7.0         NaN                  NaN  ...   \n",
       "57393                 NaN           7.0         NaN                  NaN  ...   \n",
       "\n",
       "       gdp_per_capita  extreme_poverty  cardiovasc_death_rate  \\\n",
       "0            1803.987              NaN                597.029   \n",
       "1            1803.987              NaN                597.029   \n",
       "2            1803.987              NaN                597.029   \n",
       "3            1803.987              NaN                597.029   \n",
       "4            1803.987              NaN                597.029   \n",
       "...               ...              ...                    ...   \n",
       "57389             NaN              NaN                    NaN   \n",
       "57390             NaN              NaN                    NaN   \n",
       "57391             NaN              NaN                    NaN   \n",
       "57392             NaN              NaN                    NaN   \n",
       "57393             NaN              NaN                    NaN   \n",
       "\n",
       "       diabetes_prevalence  female_smokers  male_smokers  \\\n",
       "0                     9.59             NaN           NaN   \n",
       "1                     9.59             NaN           NaN   \n",
       "2                     9.59             NaN           NaN   \n",
       "3                     9.59             NaN           NaN   \n",
       "4                     9.59             NaN           NaN   \n",
       "...                    ...             ...           ...   \n",
       "57389                  NaN             NaN           NaN   \n",
       "57390                  NaN             NaN           NaN   \n",
       "57391                  NaN             NaN           NaN   \n",
       "57392                  NaN             NaN           NaN   \n",
       "57393                  NaN             NaN           NaN   \n",
       "\n",
       "       handwashing_facilities  hospital_beds_per_thousand  life_expectancy  \\\n",
       "0                      37.746                         0.5            64.83   \n",
       "1                      37.746                         0.5            64.83   \n",
       "2                      37.746                         0.5            64.83   \n",
       "3                      37.746                         0.5            64.83   \n",
       "4                      37.746                         0.5            64.83   \n",
       "...                       ...                         ...              ...   \n",
       "57389                     NaN                         NaN              NaN   \n",
       "57390                     NaN                         NaN              NaN   \n",
       "57391                     NaN                         NaN              NaN   \n",
       "57392                     NaN                         NaN              NaN   \n",
       "57393                     NaN                         NaN              NaN   \n",
       "\n",
       "       human_development_index  \n",
       "0                        0.498  \n",
       "1                        0.498  \n",
       "2                        0.498  \n",
       "3                        0.498  \n",
       "4                        0.498  \n",
       "...                        ...  \n",
       "57389                      NaN  \n",
       "57390                      NaN  \n",
       "57391                      NaN  \n",
       "57392                      NaN  \n",
       "57393                      NaN  \n",
       "\n",
       "[57394 rows x 49 columns]"
      ]
     },
     "execution_count": 35,
     "metadata": {},
     "output_type": "execute_result"
    }
   ],
   "source": [
    "da=covid_data\n",
    "da\n"
   ]
  },
  {
   "cell_type": "code",
   "execution_count": 36,
   "id": "84bca2b0",
   "metadata": {},
   "outputs": [
    {
     "data": {
      "text/plain": [
       "0        AFG\n",
       "1        AFG\n",
       "2        AFG\n",
       "3        AFG\n",
       "4        AFG\n",
       "        ... \n",
       "57389    AFG\n",
       "57390    AFG\n",
       "57391    AFG\n",
       "57392    AFG\n",
       "57393    AFG\n",
       "Name: iso_code, Length: 57394, dtype: object"
      ]
     },
     "execution_count": 36,
     "metadata": {},
     "output_type": "execute_result"
    }
   ],
   "source": [
    "da[\"iso_code\"]=da[\"iso_code\"].fillna(da[\"iso_code\"].mode()[0])\n",
    "da[\"iso_code\"]"
   ]
  },
  {
   "cell_type": "code",
   "execution_count": 37,
   "id": "d6ed53c5",
   "metadata": {},
   "outputs": [
    {
     "data": {
      "text/plain": [
       "iso_code                                  0\n",
       "continent                               646\n",
       "location                                  0\n",
       "date                                      0\n",
       "total_cases                            3636\n",
       "new_cases                               929\n",
       "new_cases_smoothed                     1742\n",
       "total_deaths                          13026\n",
       "new_deaths                              929\n",
       "new_deaths_smoothed                    1742\n",
       "total_cases_per_million                3923\n",
       "new_cases_per_million                   993\n",
       "new_cases_smoothed_per_million         1807\n",
       "total_deaths_per_million              13298\n",
       "new_deaths_per_million                  993\n",
       "new_deaths_smoothed_per_million        1807\n",
       "reproduction_rate                     19698\n",
       "icu_patients                          52904\n",
       "icu_patients_per_million              52904\n",
       "hosp_patients                         52389\n",
       "hosp_patients_per_million             52389\n",
       "weekly_icu_admissions                 57037\n",
       "weekly_icu_admissions_per_million     57037\n",
       "weekly_hosp_admissions                56749\n",
       "weekly_hosp_admissions_per_million    56749\n",
       "total_tests                           35377\n",
       "new_tests                             35607\n",
       "total_tests_per_thousand              35377\n",
       "new_tests_per_thousand                35607\n",
       "new_tests_smoothed                    32782\n",
       "new_tests_smoothed_per_thousand       32782\n",
       "tests_per_case                        34592\n",
       "positive_rate                         34183\n",
       "stringency_index                       9547\n",
       "population                              323\n",
       "population_density                     3023\n",
       "median_age                             6360\n",
       "aged_65_older                          7129\n",
       "aged_70_older                          6626\n",
       "gdp_per_capita                         7027\n",
       "extreme_poverty                       23823\n",
       "cardiovasc_death_rate                  6381\n",
       "diabetes_prevalence                    4513\n",
       "female_smokers                        17725\n",
       "male_smokers                          18238\n",
       "handwashing_facilities                33218\n",
       "hospital_beds_per_thousand            11458\n",
       "life_expectancy                        1058\n",
       "human_development_index                8147\n",
       "dtype: int64"
      ]
     },
     "execution_count": 37,
     "metadata": {},
     "output_type": "execute_result"
    }
   ],
   "source": [
    "da.isnull().sum()\n"
   ]
  },
  {
   "cell_type": "code",
   "execution_count": 38,
   "id": "28eac23b",
   "metadata": {},
   "outputs": [
    {
     "data": {
      "text/plain": [
       "0    Europe\n",
       "dtype: object"
      ]
     },
     "execution_count": 38,
     "metadata": {},
     "output_type": "execute_result"
    }
   ],
   "source": [
    "da[\"continent\"].mode()\n"
   ]
  },
  {
   "cell_type": "code",
   "execution_count": 39,
   "id": "ecf091ae",
   "metadata": {},
   "outputs": [
    {
     "data": {
      "text/plain": [
       "0          Asia\n",
       "1          Asia\n",
       "2          Asia\n",
       "3          Asia\n",
       "4          Asia\n",
       "          ...  \n",
       "57389    Europe\n",
       "57390    Europe\n",
       "57391    Europe\n",
       "57392    Europe\n",
       "57393    Europe\n",
       "Name: continent, Length: 57394, dtype: object"
      ]
     },
     "execution_count": 39,
     "metadata": {},
     "output_type": "execute_result"
    }
   ],
   "source": [
    "da[\"continent\"]=da[\"continent\"].fillna(da[\"continent\"].mode()[0])\n",
    "da[\"continent\"]"
   ]
  },
  {
   "cell_type": "code",
   "execution_count": 40,
   "id": "19fc648d",
   "metadata": {},
   "outputs": [
    {
     "data": {
      "text/plain": [
       "iso_code                                  0\n",
       "continent                                 0\n",
       "location                                  0\n",
       "date                                      0\n",
       "total_cases                            3636\n",
       "new_cases                               929\n",
       "new_cases_smoothed                     1742\n",
       "total_deaths                          13026\n",
       "new_deaths                              929\n",
       "new_deaths_smoothed                    1742\n",
       "total_cases_per_million                3923\n",
       "new_cases_per_million                   993\n",
       "new_cases_smoothed_per_million         1807\n",
       "total_deaths_per_million              13298\n",
       "new_deaths_per_million                  993\n",
       "new_deaths_smoothed_per_million        1807\n",
       "reproduction_rate                     19698\n",
       "icu_patients                          52904\n",
       "icu_patients_per_million              52904\n",
       "hosp_patients                         52389\n",
       "hosp_patients_per_million             52389\n",
       "weekly_icu_admissions                 57037\n",
       "weekly_icu_admissions_per_million     57037\n",
       "weekly_hosp_admissions                56749\n",
       "weekly_hosp_admissions_per_million    56749\n",
       "total_tests                           35377\n",
       "new_tests                             35607\n",
       "total_tests_per_thousand              35377\n",
       "new_tests_per_thousand                35607\n",
       "new_tests_smoothed                    32782\n",
       "new_tests_smoothed_per_thousand       32782\n",
       "tests_per_case                        34592\n",
       "positive_rate                         34183\n",
       "stringency_index                       9547\n",
       "population                              323\n",
       "population_density                     3023\n",
       "median_age                             6360\n",
       "aged_65_older                          7129\n",
       "aged_70_older                          6626\n",
       "gdp_per_capita                         7027\n",
       "extreme_poverty                       23823\n",
       "cardiovasc_death_rate                  6381\n",
       "diabetes_prevalence                    4513\n",
       "female_smokers                        17725\n",
       "male_smokers                          18238\n",
       "handwashing_facilities                33218\n",
       "hospital_beds_per_thousand            11458\n",
       "life_expectancy                        1058\n",
       "human_development_index                8147\n",
       "dtype: int64"
      ]
     },
     "execution_count": 40,
     "metadata": {},
     "output_type": "execute_result"
    }
   ],
   "source": [
    "da.isnull().sum()"
   ]
  },
  {
   "cell_type": "code",
   "execution_count": 41,
   "id": "41188827",
   "metadata": {},
   "outputs": [
    {
     "data": {
      "text/plain": [
       "2070.0"
      ]
     },
     "execution_count": 41,
     "metadata": {},
     "output_type": "execute_result"
    }
   ],
   "source": [
    "da[\"total_cases\"].median()\n"
   ]
  },
  {
   "cell_type": "code",
   "execution_count": 42,
   "id": "a6a3e7d4",
   "metadata": {},
   "outputs": [
    {
     "data": {
      "text/plain": [
       "0        2070.0\n",
       "1        2070.0\n",
       "2        2070.0\n",
       "3        2070.0\n",
       "4        2070.0\n",
       "          ...  \n",
       "57389     696.0\n",
       "57390     696.0\n",
       "57391     696.0\n",
       "57392     696.0\n",
       "57393     696.0\n",
       "Name: total_cases, Length: 57394, dtype: float64"
      ]
     },
     "execution_count": 42,
     "metadata": {},
     "output_type": "execute_result"
    }
   ],
   "source": [
    "da[\"total_cases\"]=da[\"total_cases\"].fillna(da[\"total_cases\"].median())\n",
    "da[\"total_cases\"]"
   ]
  },
  {
   "cell_type": "code",
   "execution_count": 43,
   "id": "8b0f1087",
   "metadata": {},
   "outputs": [
    {
     "data": {
      "text/plain": [
       "iso_code                                  0\n",
       "continent                                 0\n",
       "location                                  0\n",
       "date                                      0\n",
       "total_cases                               0\n",
       "new_cases                               929\n",
       "new_cases_smoothed                     1742\n",
       "total_deaths                          13026\n",
       "new_deaths                              929\n",
       "new_deaths_smoothed                    1742\n",
       "total_cases_per_million                3923\n",
       "new_cases_per_million                   993\n",
       "new_cases_smoothed_per_million         1807\n",
       "total_deaths_per_million              13298\n",
       "new_deaths_per_million                  993\n",
       "new_deaths_smoothed_per_million        1807\n",
       "reproduction_rate                     19698\n",
       "icu_patients                          52904\n",
       "icu_patients_per_million              52904\n",
       "hosp_patients                         52389\n",
       "hosp_patients_per_million             52389\n",
       "weekly_icu_admissions                 57037\n",
       "weekly_icu_admissions_per_million     57037\n",
       "weekly_hosp_admissions                56749\n",
       "weekly_hosp_admissions_per_million    56749\n",
       "total_tests                           35377\n",
       "new_tests                             35607\n",
       "total_tests_per_thousand              35377\n",
       "new_tests_per_thousand                35607\n",
       "new_tests_smoothed                    32782\n",
       "new_tests_smoothed_per_thousand       32782\n",
       "tests_per_case                        34592\n",
       "positive_rate                         34183\n",
       "stringency_index                       9547\n",
       "population                              323\n",
       "population_density                     3023\n",
       "median_age                             6360\n",
       "aged_65_older                          7129\n",
       "aged_70_older                          6626\n",
       "gdp_per_capita                         7027\n",
       "extreme_poverty                       23823\n",
       "cardiovasc_death_rate                  6381\n",
       "diabetes_prevalence                    4513\n",
       "female_smokers                        17725\n",
       "male_smokers                          18238\n",
       "handwashing_facilities                33218\n",
       "hospital_beds_per_thousand            11458\n",
       "life_expectancy                        1058\n",
       "human_development_index                8147\n",
       "dtype: int64"
      ]
     },
     "execution_count": 43,
     "metadata": {},
     "output_type": "execute_result"
    }
   ],
   "source": [
    "da.isnull().sum()\n"
   ]
  },
  {
   "cell_type": "code",
   "execution_count": 44,
   "id": "2e94ea8d",
   "metadata": {},
   "outputs": [
    {
     "data": {
      "text/plain": [
       "14.0"
      ]
     },
     "execution_count": 44,
     "metadata": {},
     "output_type": "execute_result"
    }
   ],
   "source": [
    "da[\"new_cases\"].median()\n"
   ]
  },
  {
   "cell_type": "code",
   "execution_count": 45,
   "id": "956f6b76",
   "metadata": {},
   "outputs": [
    {
     "data": {
      "text/plain": [
       "0         0.0\n",
       "1         0.0\n",
       "2         0.0\n",
       "3         0.0\n",
       "4         0.0\n",
       "         ... \n",
       "57389    14.0\n",
       "57390    14.0\n",
       "57391    14.0\n",
       "57392    14.0\n",
       "57393    14.0\n",
       "Name: new_cases, Length: 57394, dtype: float64"
      ]
     },
     "execution_count": 45,
     "metadata": {},
     "output_type": "execute_result"
    }
   ],
   "source": [
    "da[\"new_cases\"]=da[\"new_cases\"].fillna(da[\"new_cases\"].median())\n",
    "da[\"new_cases\"]"
   ]
  },
  {
   "cell_type": "code",
   "execution_count": 46,
   "id": "1661f263",
   "metadata": {},
   "outputs": [
    {
     "data": {
      "text/plain": [
       "iso_code                                  0\n",
       "continent                                 0\n",
       "location                                  0\n",
       "date                                      0\n",
       "total_cases                               0\n",
       "new_cases                                 0\n",
       "new_cases_smoothed                     1742\n",
       "total_deaths                          13026\n",
       "new_deaths                              929\n",
       "new_deaths_smoothed                    1742\n",
       "total_cases_per_million                3923\n",
       "new_cases_per_million                   993\n",
       "new_cases_smoothed_per_million         1807\n",
       "total_deaths_per_million              13298\n",
       "new_deaths_per_million                  993\n",
       "new_deaths_smoothed_per_million        1807\n",
       "reproduction_rate                     19698\n",
       "icu_patients                          52904\n",
       "icu_patients_per_million              52904\n",
       "hosp_patients                         52389\n",
       "hosp_patients_per_million             52389\n",
       "weekly_icu_admissions                 57037\n",
       "weekly_icu_admissions_per_million     57037\n",
       "weekly_hosp_admissions                56749\n",
       "weekly_hosp_admissions_per_million    56749\n",
       "total_tests                           35377\n",
       "new_tests                             35607\n",
       "total_tests_per_thousand              35377\n",
       "new_tests_per_thousand                35607\n",
       "new_tests_smoothed                    32782\n",
       "new_tests_smoothed_per_thousand       32782\n",
       "tests_per_case                        34592\n",
       "positive_rate                         34183\n",
       "stringency_index                       9547\n",
       "population                              323\n",
       "population_density                     3023\n",
       "median_age                             6360\n",
       "aged_65_older                          7129\n",
       "aged_70_older                          6626\n",
       "gdp_per_capita                         7027\n",
       "extreme_poverty                       23823\n",
       "cardiovasc_death_rate                  6381\n",
       "diabetes_prevalence                    4513\n",
       "female_smokers                        17725\n",
       "male_smokers                          18238\n",
       "handwashing_facilities                33218\n",
       "hospital_beds_per_thousand            11458\n",
       "life_expectancy                        1058\n",
       "human_development_index                8147\n",
       "dtype: int64"
      ]
     },
     "execution_count": 46,
     "metadata": {},
     "output_type": "execute_result"
    }
   ],
   "source": [
    "da.isnull().sum()\n"
   ]
  },
  {
   "cell_type": "code",
   "execution_count": 47,
   "id": "3dce6d38",
   "metadata": {},
   "outputs": [
    {
     "data": {
      "text/plain": [
       "19.429"
      ]
     },
     "execution_count": 47,
     "metadata": {},
     "output_type": "execute_result"
    }
   ],
   "source": [
    "da[\"new_cases_smoothed\"].median()\n"
   ]
  },
  {
   "cell_type": "code",
   "execution_count": 48,
   "id": "944dbf61",
   "metadata": {},
   "outputs": [
    {
     "data": {
      "text/plain": [
       "0        19.429\n",
       "1        19.429\n",
       "2        19.429\n",
       "3        19.429\n",
       "4        19.429\n",
       "          ...  \n",
       "57389    19.429\n",
       "57390    19.429\n",
       "57391    19.429\n",
       "57392    19.429\n",
       "57393    19.429\n",
       "Name: new_cases_smoothed, Length: 57394, dtype: float64"
      ]
     },
     "execution_count": 48,
     "metadata": {},
     "output_type": "execute_result"
    }
   ],
   "source": [
    "da[\"new_cases_smoothed\"]=da[\"new_cases_smoothed\"].fillna(da[\"new_cases_smoothed\"].median())\n",
    "da[\"new_cases_smoothed\"]"
   ]
  },
  {
   "cell_type": "code",
   "execution_count": 49,
   "id": "3c55abff",
   "metadata": {},
   "outputs": [
    {
     "data": {
      "text/plain": [
       "iso_code                                  0\n",
       "continent                                 0\n",
       "location                                  0\n",
       "date                                      0\n",
       "total_cases                               0\n",
       "new_cases                                 0\n",
       "new_cases_smoothed                        0\n",
       "total_deaths                          13026\n",
       "new_deaths                              929\n",
       "new_deaths_smoothed                    1742\n",
       "total_cases_per_million                3923\n",
       "new_cases_per_million                   993\n",
       "new_cases_smoothed_per_million         1807\n",
       "total_deaths_per_million              13298\n",
       "new_deaths_per_million                  993\n",
       "new_deaths_smoothed_per_million        1807\n",
       "reproduction_rate                     19698\n",
       "icu_patients                          52904\n",
       "icu_patients_per_million              52904\n",
       "hosp_patients                         52389\n",
       "hosp_patients_per_million             52389\n",
       "weekly_icu_admissions                 57037\n",
       "weekly_icu_admissions_per_million     57037\n",
       "weekly_hosp_admissions                56749\n",
       "weekly_hosp_admissions_per_million    56749\n",
       "total_tests                           35377\n",
       "new_tests                             35607\n",
       "total_tests_per_thousand              35377\n",
       "new_tests_per_thousand                35607\n",
       "new_tests_smoothed                    32782\n",
       "new_tests_smoothed_per_thousand       32782\n",
       "tests_per_case                        34592\n",
       "positive_rate                         34183\n",
       "stringency_index                       9547\n",
       "population                              323\n",
       "population_density                     3023\n",
       "median_age                             6360\n",
       "aged_65_older                          7129\n",
       "aged_70_older                          6626\n",
       "gdp_per_capita                         7027\n",
       "extreme_poverty                       23823\n",
       "cardiovasc_death_rate                  6381\n",
       "diabetes_prevalence                    4513\n",
       "female_smokers                        17725\n",
       "male_smokers                          18238\n",
       "handwashing_facilities                33218\n",
       "hospital_beds_per_thousand            11458\n",
       "life_expectancy                        1058\n",
       "human_development_index                8147\n",
       "dtype: int64"
      ]
     },
     "execution_count": 49,
     "metadata": {},
     "output_type": "execute_result"
    }
   ],
   "source": [
    "da.isnull().sum()\n"
   ]
  },
  {
   "cell_type": "code",
   "execution_count": 50,
   "id": "80c94079",
   "metadata": {},
   "outputs": [
    {
     "data": {
      "text/plain": [
       "84.0"
      ]
     },
     "execution_count": 50,
     "metadata": {},
     "output_type": "execute_result"
    }
   ],
   "source": [
    "da[\"total_deaths\"].median()"
   ]
  },
  {
   "cell_type": "code",
   "execution_count": 51,
   "id": "a8a377d1",
   "metadata": {},
   "outputs": [
    {
     "data": {
      "text/plain": [
       "0        84.0\n",
       "1        84.0\n",
       "2        84.0\n",
       "3        84.0\n",
       "4        84.0\n",
       "         ... \n",
       "57389     7.0\n",
       "57390     7.0\n",
       "57391     7.0\n",
       "57392     7.0\n",
       "57393     7.0\n",
       "Name: total_deaths, Length: 57394, dtype: float64"
      ]
     },
     "execution_count": 51,
     "metadata": {},
     "output_type": "execute_result"
    }
   ],
   "source": [
    "da[\"total_deaths\"]=da[\"total_deaths\"].fillna(da[\"total_deaths\"].median())\n",
    "da[\"total_deaths\"]"
   ]
  },
  {
   "cell_type": "code",
   "execution_count": 52,
   "id": "57547e2e",
   "metadata": {},
   "outputs": [
    {
     "data": {
      "text/plain": [
       "iso_code                                  0\n",
       "continent                                 0\n",
       "location                                  0\n",
       "date                                      0\n",
       "total_cases                               0\n",
       "new_cases                                 0\n",
       "new_cases_smoothed                        0\n",
       "total_deaths                              0\n",
       "new_deaths                              929\n",
       "new_deaths_smoothed                    1742\n",
       "total_cases_per_million                3923\n",
       "new_cases_per_million                   993\n",
       "new_cases_smoothed_per_million         1807\n",
       "total_deaths_per_million              13298\n",
       "new_deaths_per_million                  993\n",
       "new_deaths_smoothed_per_million        1807\n",
       "reproduction_rate                     19698\n",
       "icu_patients                          52904\n",
       "icu_patients_per_million              52904\n",
       "hosp_patients                         52389\n",
       "hosp_patients_per_million             52389\n",
       "weekly_icu_admissions                 57037\n",
       "weekly_icu_admissions_per_million     57037\n",
       "weekly_hosp_admissions                56749\n",
       "weekly_hosp_admissions_per_million    56749\n",
       "total_tests                           35377\n",
       "new_tests                             35607\n",
       "total_tests_per_thousand              35377\n",
       "new_tests_per_thousand                35607\n",
       "new_tests_smoothed                    32782\n",
       "new_tests_smoothed_per_thousand       32782\n",
       "tests_per_case                        34592\n",
       "positive_rate                         34183\n",
       "stringency_index                       9547\n",
       "population                              323\n",
       "population_density                     3023\n",
       "median_age                             6360\n",
       "aged_65_older                          7129\n",
       "aged_70_older                          6626\n",
       "gdp_per_capita                         7027\n",
       "extreme_poverty                       23823\n",
       "cardiovasc_death_rate                  6381\n",
       "diabetes_prevalence                    4513\n",
       "female_smokers                        17725\n",
       "male_smokers                          18238\n",
       "handwashing_facilities                33218\n",
       "hospital_beds_per_thousand            11458\n",
       "life_expectancy                        1058\n",
       "human_development_index                8147\n",
       "dtype: int64"
      ]
     },
     "execution_count": 52,
     "metadata": {},
     "output_type": "execute_result"
    }
   ],
   "source": [
    "da.isnull().sum()"
   ]
  },
  {
   "cell_type": "code",
   "execution_count": 53,
   "id": "2f7c221b",
   "metadata": {},
   "outputs": [
    {
     "data": {
      "text/plain": [
       "0.0"
      ]
     },
     "execution_count": 53,
     "metadata": {},
     "output_type": "execute_result"
    }
   ],
   "source": [
    "da[\"new_deaths\"].median()"
   ]
  },
  {
   "cell_type": "code",
   "execution_count": 54,
   "id": "e4e29d0c",
   "metadata": {},
   "outputs": [
    {
     "data": {
      "text/plain": [
       "0        0.0\n",
       "1        0.0\n",
       "2        0.0\n",
       "3        0.0\n",
       "4        0.0\n",
       "        ... \n",
       "57389    0.0\n",
       "57390    0.0\n",
       "57391    0.0\n",
       "57392    0.0\n",
       "57393    0.0\n",
       "Name: new_deaths, Length: 57394, dtype: float64"
      ]
     },
     "execution_count": 54,
     "metadata": {},
     "output_type": "execute_result"
    }
   ],
   "source": [
    "da[\"new_deaths\"]=da[\"new_deaths\"].fillna(da[\"new_deaths\"].median())\n",
    "da[\"new_deaths\"]"
   ]
  },
  {
   "cell_type": "code",
   "execution_count": 55,
   "id": "300caa91",
   "metadata": {},
   "outputs": [
    {
     "data": {
      "text/plain": [
       "iso_code                                  0\n",
       "continent                                 0\n",
       "location                                  0\n",
       "date                                      0\n",
       "total_cases                               0\n",
       "new_cases                                 0\n",
       "new_cases_smoothed                        0\n",
       "total_deaths                              0\n",
       "new_deaths                                0\n",
       "new_deaths_smoothed                    1742\n",
       "total_cases_per_million                3923\n",
       "new_cases_per_million                   993\n",
       "new_cases_smoothed_per_million         1807\n",
       "total_deaths_per_million              13298\n",
       "new_deaths_per_million                  993\n",
       "new_deaths_smoothed_per_million        1807\n",
       "reproduction_rate                     19698\n",
       "icu_patients                          52904\n",
       "icu_patients_per_million              52904\n",
       "hosp_patients                         52389\n",
       "hosp_patients_per_million             52389\n",
       "weekly_icu_admissions                 57037\n",
       "weekly_icu_admissions_per_million     57037\n",
       "weekly_hosp_admissions                56749\n",
       "weekly_hosp_admissions_per_million    56749\n",
       "total_tests                           35377\n",
       "new_tests                             35607\n",
       "total_tests_per_thousand              35377\n",
       "new_tests_per_thousand                35607\n",
       "new_tests_smoothed                    32782\n",
       "new_tests_smoothed_per_thousand       32782\n",
       "tests_per_case                        34592\n",
       "positive_rate                         34183\n",
       "stringency_index                       9547\n",
       "population                              323\n",
       "population_density                     3023\n",
       "median_age                             6360\n",
       "aged_65_older                          7129\n",
       "aged_70_older                          6626\n",
       "gdp_per_capita                         7027\n",
       "extreme_poverty                       23823\n",
       "cardiovasc_death_rate                  6381\n",
       "diabetes_prevalence                    4513\n",
       "female_smokers                        17725\n",
       "male_smokers                          18238\n",
       "handwashing_facilities                33218\n",
       "hospital_beds_per_thousand            11458\n",
       "life_expectancy                        1058\n",
       "human_development_index                8147\n",
       "dtype: int64"
      ]
     },
     "execution_count": 55,
     "metadata": {},
     "output_type": "execute_result"
    }
   ],
   "source": [
    "da.isnull().sum()\n"
   ]
  },
  {
   "cell_type": "code",
   "execution_count": 56,
   "id": "7224b6d6",
   "metadata": {},
   "outputs": [
    {
     "data": {
      "text/plain": [
       "0.286"
      ]
     },
     "execution_count": 56,
     "metadata": {},
     "output_type": "execute_result"
    }
   ],
   "source": [
    "da[\"new_deaths_smoothed\"].median() "
   ]
  },
  {
   "cell_type": "code",
   "execution_count": 57,
   "id": "ecc657a9",
   "metadata": {},
   "outputs": [
    {
     "data": {
      "text/plain": [
       "0        0.286\n",
       "1        0.286\n",
       "2        0.286\n",
       "3        0.286\n",
       "4        0.286\n",
       "         ...  \n",
       "57389    0.286\n",
       "57390    0.286\n",
       "57391    0.286\n",
       "57392    0.286\n",
       "57393    0.286\n",
       "Name: new_deaths_smoothed, Length: 57394, dtype: float64"
      ]
     },
     "execution_count": 57,
     "metadata": {},
     "output_type": "execute_result"
    }
   ],
   "source": [
    "da[\"new_deaths_smoothed\"]=da[\"new_deaths_smoothed\"].fillna(da[\"new_deaths_smoothed\"].median())\n",
    "da[\"new_deaths_smoothed\"]\n"
   ]
  },
  {
   "cell_type": "code",
   "execution_count": 58,
   "id": "1cf8f892",
   "metadata": {},
   "outputs": [
    {
     "data": {
      "text/plain": [
       "iso_code                                  0\n",
       "continent                                 0\n",
       "location                                  0\n",
       "date                                      0\n",
       "total_cases                               0\n",
       "new_cases                                 0\n",
       "new_cases_smoothed                        0\n",
       "total_deaths                              0\n",
       "new_deaths                                0\n",
       "new_deaths_smoothed                       0\n",
       "total_cases_per_million                3923\n",
       "new_cases_per_million                   993\n",
       "new_cases_smoothed_per_million         1807\n",
       "total_deaths_per_million              13298\n",
       "new_deaths_per_million                  993\n",
       "new_deaths_smoothed_per_million        1807\n",
       "reproduction_rate                     19698\n",
       "icu_patients                          52904\n",
       "icu_patients_per_million              52904\n",
       "hosp_patients                         52389\n",
       "hosp_patients_per_million             52389\n",
       "weekly_icu_admissions                 57037\n",
       "weekly_icu_admissions_per_million     57037\n",
       "weekly_hosp_admissions                56749\n",
       "weekly_hosp_admissions_per_million    56749\n",
       "total_tests                           35377\n",
       "new_tests                             35607\n",
       "total_tests_per_thousand              35377\n",
       "new_tests_per_thousand                35607\n",
       "new_tests_smoothed                    32782\n",
       "new_tests_smoothed_per_thousand       32782\n",
       "tests_per_case                        34592\n",
       "positive_rate                         34183\n",
       "stringency_index                       9547\n",
       "population                              323\n",
       "population_density                     3023\n",
       "median_age                             6360\n",
       "aged_65_older                          7129\n",
       "aged_70_older                          6626\n",
       "gdp_per_capita                         7027\n",
       "extreme_poverty                       23823\n",
       "cardiovasc_death_rate                  6381\n",
       "diabetes_prevalence                    4513\n",
       "female_smokers                        17725\n",
       "male_smokers                          18238\n",
       "handwashing_facilities                33218\n",
       "hospital_beds_per_thousand            11458\n",
       "life_expectancy                        1058\n",
       "human_development_index                8147\n",
       "dtype: int64"
      ]
     },
     "execution_count": 58,
     "metadata": {},
     "output_type": "execute_result"
    }
   ],
   "source": [
    "da.isnull().sum()\n"
   ]
  },
  {
   "cell_type": "code",
   "execution_count": 59,
   "id": "968cf37c",
   "metadata": {},
   "outputs": [
    {
     "data": {
      "text/plain": [
       "593.663"
      ]
     },
     "execution_count": 59,
     "metadata": {},
     "output_type": "execute_result"
    }
   ],
   "source": [
    "da[\"total_cases_per_million\"].median()\n",
    "\n"
   ]
  },
  {
   "cell_type": "code",
   "execution_count": 60,
   "id": "ffbc01ac",
   "metadata": {},
   "outputs": [
    {
     "data": {
      "text/plain": [
       "0        593.663\n",
       "1        593.663\n",
       "2        593.663\n",
       "3        593.663\n",
       "4        593.663\n",
       "          ...   \n",
       "57389    593.663\n",
       "57390    593.663\n",
       "57391    593.663\n",
       "57392    593.663\n",
       "57393    593.663\n",
       "Name: total_cases_per_million, Length: 57394, dtype: float64"
      ]
     },
     "execution_count": 60,
     "metadata": {},
     "output_type": "execute_result"
    }
   ],
   "source": [
    "da[\"total_cases_per_million\"]=da[\"total_cases_per_million\"].fillna(da[\"total_cases_per_million\"].median())\n",
    "da[\"total_cases_per_million\"]\n"
   ]
  },
  {
   "cell_type": "code",
   "execution_count": 61,
   "id": "4da1370b",
   "metadata": {},
   "outputs": [
    {
     "data": {
      "text/plain": [
       "iso_code                                  0\n",
       "continent                                 0\n",
       "location                                  0\n",
       "date                                      0\n",
       "total_cases                               0\n",
       "new_cases                                 0\n",
       "new_cases_smoothed                        0\n",
       "total_deaths                              0\n",
       "new_deaths                                0\n",
       "new_deaths_smoothed                       0\n",
       "total_cases_per_million                   0\n",
       "new_cases_per_million                   993\n",
       "new_cases_smoothed_per_million         1807\n",
       "total_deaths_per_million              13298\n",
       "new_deaths_per_million                  993\n",
       "new_deaths_smoothed_per_million        1807\n",
       "reproduction_rate                     19698\n",
       "icu_patients                          52904\n",
       "icu_patients_per_million              52904\n",
       "hosp_patients                         52389\n",
       "hosp_patients_per_million             52389\n",
       "weekly_icu_admissions                 57037\n",
       "weekly_icu_admissions_per_million     57037\n",
       "weekly_hosp_admissions                56749\n",
       "weekly_hosp_admissions_per_million    56749\n",
       "total_tests                           35377\n",
       "new_tests                             35607\n",
       "total_tests_per_thousand              35377\n",
       "new_tests_per_thousand                35607\n",
       "new_tests_smoothed                    32782\n",
       "new_tests_smoothed_per_thousand       32782\n",
       "tests_per_case                        34592\n",
       "positive_rate                         34183\n",
       "stringency_index                       9547\n",
       "population                              323\n",
       "population_density                     3023\n",
       "median_age                             6360\n",
       "aged_65_older                          7129\n",
       "aged_70_older                          6626\n",
       "gdp_per_capita                         7027\n",
       "extreme_poverty                       23823\n",
       "cardiovasc_death_rate                  6381\n",
       "diabetes_prevalence                    4513\n",
       "female_smokers                        17725\n",
       "male_smokers                          18238\n",
       "handwashing_facilities                33218\n",
       "hospital_beds_per_thousand            11458\n",
       "life_expectancy                        1058\n",
       "human_development_index                8147\n",
       "dtype: int64"
      ]
     },
     "execution_count": 61,
     "metadata": {},
     "output_type": "execute_result"
    }
   ],
   "source": [
    "da.isnull().sum()\n"
   ]
  },
  {
   "cell_type": "code",
   "execution_count": 62,
   "id": "5d8c4537",
   "metadata": {},
   "outputs": [
    {
     "data": {
      "text/plain": [
       "2.194"
      ]
     },
     "execution_count": 62,
     "metadata": {},
     "output_type": "execute_result"
    }
   ],
   "source": [
    "da[\"new_cases_per_million\"].median()"
   ]
  },
  {
   "cell_type": "code",
   "execution_count": 63,
   "id": "e27fc3d4",
   "metadata": {
    "scrolled": true
   },
   "outputs": [
    {
     "data": {
      "text/plain": [
       "0        0.000\n",
       "1        0.000\n",
       "2        0.000\n",
       "3        0.000\n",
       "4        0.000\n",
       "         ...  \n",
       "57389    2.194\n",
       "57390    2.194\n",
       "57391    2.194\n",
       "57392    2.194\n",
       "57393    2.194\n",
       "Name: new_cases_per_million, Length: 57394, dtype: float64"
      ]
     },
     "execution_count": 63,
     "metadata": {},
     "output_type": "execute_result"
    }
   ],
   "source": [
    "da[\"new_cases_per_million\"]=da[\"new_cases_per_million\"].fillna(da[\"new_cases_per_million\"].median())\n",
    "da[\"new_cases_per_million\"]\n"
   ]
  },
  {
   "cell_type": "code",
   "execution_count": 64,
   "id": "4cfb5e70",
   "metadata": {},
   "outputs": [
    {
     "data": {
      "text/plain": [
       "iso_code                                  0\n",
       "continent                                 0\n",
       "location                                  0\n",
       "date                                      0\n",
       "total_cases                               0\n",
       "new_cases                                 0\n",
       "new_cases_smoothed                        0\n",
       "total_deaths                              0\n",
       "new_deaths                                0\n",
       "new_deaths_smoothed                       0\n",
       "total_cases_per_million                   0\n",
       "new_cases_per_million                     0\n",
       "new_cases_smoothed_per_million         1807\n",
       "total_deaths_per_million              13298\n",
       "new_deaths_per_million                  993\n",
       "new_deaths_smoothed_per_million        1807\n",
       "reproduction_rate                     19698\n",
       "icu_patients                          52904\n",
       "icu_patients_per_million              52904\n",
       "hosp_patients                         52389\n",
       "hosp_patients_per_million             52389\n",
       "weekly_icu_admissions                 57037\n",
       "weekly_icu_admissions_per_million     57037\n",
       "weekly_hosp_admissions                56749\n",
       "weekly_hosp_admissions_per_million    56749\n",
       "total_tests                           35377\n",
       "new_tests                             35607\n",
       "total_tests_per_thousand              35377\n",
       "new_tests_per_thousand                35607\n",
       "new_tests_smoothed                    32782\n",
       "new_tests_smoothed_per_thousand       32782\n",
       "tests_per_case                        34592\n",
       "positive_rate                         34183\n",
       "stringency_index                       9547\n",
       "population                              323\n",
       "population_density                     3023\n",
       "median_age                             6360\n",
       "aged_65_older                          7129\n",
       "aged_70_older                          6626\n",
       "gdp_per_capita                         7027\n",
       "extreme_poverty                       23823\n",
       "cardiovasc_death_rate                  6381\n",
       "diabetes_prevalence                    4513\n",
       "female_smokers                        17725\n",
       "male_smokers                          18238\n",
       "handwashing_facilities                33218\n",
       "hospital_beds_per_thousand            11458\n",
       "life_expectancy                        1058\n",
       "human_development_index                8147\n",
       "dtype: int64"
      ]
     },
     "execution_count": 64,
     "metadata": {},
     "output_type": "execute_result"
    }
   ],
   "source": [
    "da.isnull().sum()\n"
   ]
  },
  {
   "cell_type": "code",
   "execution_count": 65,
   "id": "c23565e2",
   "metadata": {},
   "outputs": [
    {
     "data": {
      "text/plain": [
       "3.863"
      ]
     },
     "execution_count": 65,
     "metadata": {},
     "output_type": "execute_result"
    }
   ],
   "source": [
    "da[\"new_cases_smoothed_per_million\"].median()\n"
   ]
  },
  {
   "cell_type": "code",
   "execution_count": 66,
   "id": "341db2b5",
   "metadata": {},
   "outputs": [
    {
     "data": {
      "text/plain": [
       "0        3.863\n",
       "1        3.863\n",
       "2        3.863\n",
       "3        3.863\n",
       "4        3.863\n",
       "         ...  \n",
       "57389    3.863\n",
       "57390    3.863\n",
       "57391    3.863\n",
       "57392    3.863\n",
       "57393    3.863\n",
       "Name: new_cases_smoothed_per_million, Length: 57394, dtype: float64"
      ]
     },
     "execution_count": 66,
     "metadata": {},
     "output_type": "execute_result"
    }
   ],
   "source": [
    "da[\"new_cases_smoothed_per_million\"]=da[\"new_cases_smoothed_per_million\"].fillna(da[\"new_cases_smoothed_per_million\"].median())\n",
    "da[\"new_cases_smoothed_per_million\"]\n"
   ]
  },
  {
   "cell_type": "code",
   "execution_count": 67,
   "id": "5bb0c68b",
   "metadata": {},
   "outputs": [
    {
     "data": {
      "text/plain": [
       "iso_code                                  0\n",
       "continent                                 0\n",
       "location                                  0\n",
       "date                                      0\n",
       "total_cases                               0\n",
       "new_cases                                 0\n",
       "new_cases_smoothed                        0\n",
       "total_deaths                              0\n",
       "new_deaths                                0\n",
       "new_deaths_smoothed                       0\n",
       "total_cases_per_million                   0\n",
       "new_cases_per_million                     0\n",
       "new_cases_smoothed_per_million            0\n",
       "total_deaths_per_million              13298\n",
       "new_deaths_per_million                  993\n",
       "new_deaths_smoothed_per_million        1807\n",
       "reproduction_rate                     19698\n",
       "icu_patients                          52904\n",
       "icu_patients_per_million              52904\n",
       "hosp_patients                         52389\n",
       "hosp_patients_per_million             52389\n",
       "weekly_icu_admissions                 57037\n",
       "weekly_icu_admissions_per_million     57037\n",
       "weekly_hosp_admissions                56749\n",
       "weekly_hosp_admissions_per_million    56749\n",
       "total_tests                           35377\n",
       "new_tests                             35607\n",
       "total_tests_per_thousand              35377\n",
       "new_tests_per_thousand                35607\n",
       "new_tests_smoothed                    32782\n",
       "new_tests_smoothed_per_thousand       32782\n",
       "tests_per_case                        34592\n",
       "positive_rate                         34183\n",
       "stringency_index                       9547\n",
       "population                              323\n",
       "population_density                     3023\n",
       "median_age                             6360\n",
       "aged_65_older                          7129\n",
       "aged_70_older                          6626\n",
       "gdp_per_capita                         7027\n",
       "extreme_poverty                       23823\n",
       "cardiovasc_death_rate                  6381\n",
       "diabetes_prevalence                    4513\n",
       "female_smokers                        17725\n",
       "male_smokers                          18238\n",
       "handwashing_facilities                33218\n",
       "hospital_beds_per_thousand            11458\n",
       "life_expectancy                        1058\n",
       "human_development_index                8147\n",
       "dtype: int64"
      ]
     },
     "execution_count": 67,
     "metadata": {},
     "output_type": "execute_result"
    }
   ],
   "source": [
    "da.isnull().sum()\n"
   ]
  },
  {
   "cell_type": "code",
   "execution_count": 68,
   "id": "a09e895d",
   "metadata": {},
   "outputs": [
    {
     "data": {
      "text/plain": [
       "20.383"
      ]
     },
     "execution_count": 68,
     "metadata": {},
     "output_type": "execute_result"
    }
   ],
   "source": [
    "  \n",
    "da[\"total_deaths_per_million\"].median()\n"
   ]
  },
  {
   "cell_type": "code",
   "execution_count": 69,
   "id": "04db8bb1",
   "metadata": {},
   "outputs": [
    {
     "data": {
      "text/plain": [
       "0        20.383\n",
       "1        20.383\n",
       "2        20.383\n",
       "3        20.383\n",
       "4        20.383\n",
       "          ...  \n",
       "57389    20.383\n",
       "57390    20.383\n",
       "57391    20.383\n",
       "57392    20.383\n",
       "57393    20.383\n",
       "Name: total_deaths_per_million, Length: 57394, dtype: float64"
      ]
     },
     "execution_count": 69,
     "metadata": {},
     "output_type": "execute_result"
    }
   ],
   "source": [
    "da[\"total_deaths_per_million\"]=da[\"total_deaths_per_million\"].fillna(da[\"total_deaths_per_million\"].median())\n",
    "da[\"total_deaths_per_million\"]\n"
   ]
  },
  {
   "cell_type": "code",
   "execution_count": 70,
   "id": "b8f63265",
   "metadata": {},
   "outputs": [
    {
     "data": {
      "text/plain": [
       "iso_code                                  0\n",
       "continent                                 0\n",
       "location                                  0\n",
       "date                                      0\n",
       "total_cases                               0\n",
       "new_cases                                 0\n",
       "new_cases_smoothed                        0\n",
       "total_deaths                              0\n",
       "new_deaths                                0\n",
       "new_deaths_smoothed                       0\n",
       "total_cases_per_million                   0\n",
       "new_cases_per_million                     0\n",
       "new_cases_smoothed_per_million            0\n",
       "total_deaths_per_million                  0\n",
       "new_deaths_per_million                  993\n",
       "new_deaths_smoothed_per_million        1807\n",
       "reproduction_rate                     19698\n",
       "icu_patients                          52904\n",
       "icu_patients_per_million              52904\n",
       "hosp_patients                         52389\n",
       "hosp_patients_per_million             52389\n",
       "weekly_icu_admissions                 57037\n",
       "weekly_icu_admissions_per_million     57037\n",
       "weekly_hosp_admissions                56749\n",
       "weekly_hosp_admissions_per_million    56749\n",
       "total_tests                           35377\n",
       "new_tests                             35607\n",
       "total_tests_per_thousand              35377\n",
       "new_tests_per_thousand                35607\n",
       "new_tests_smoothed                    32782\n",
       "new_tests_smoothed_per_thousand       32782\n",
       "tests_per_case                        34592\n",
       "positive_rate                         34183\n",
       "stringency_index                       9547\n",
       "population                              323\n",
       "population_density                     3023\n",
       "median_age                             6360\n",
       "aged_65_older                          7129\n",
       "aged_70_older                          6626\n",
       "gdp_per_capita                         7027\n",
       "extreme_poverty                       23823\n",
       "cardiovasc_death_rate                  6381\n",
       "diabetes_prevalence                    4513\n",
       "female_smokers                        17725\n",
       "male_smokers                          18238\n",
       "handwashing_facilities                33218\n",
       "hospital_beds_per_thousand            11458\n",
       "life_expectancy                        1058\n",
       "human_development_index                8147\n",
       "dtype: int64"
      ]
     },
     "execution_count": 70,
     "metadata": {},
     "output_type": "execute_result"
    }
   ],
   "source": [
    "da.isnull().sum()\n"
   ]
  },
  {
   "cell_type": "code",
   "execution_count": 71,
   "id": "40967cad",
   "metadata": {},
   "outputs": [
    {
     "data": {
      "text/plain": [
       "0.0"
      ]
     },
     "execution_count": 71,
     "metadata": {},
     "output_type": "execute_result"
    }
   ],
   "source": [
    "\n",
    "\n",
    "da[\"new_deaths_per_million\"].median()\n"
   ]
  },
  {
   "cell_type": "code",
   "execution_count": 72,
   "id": "ee316d72",
   "metadata": {},
   "outputs": [
    {
     "data": {
      "text/plain": [
       "0        0.0\n",
       "1        0.0\n",
       "2        0.0\n",
       "3        0.0\n",
       "4        0.0\n",
       "        ... \n",
       "57389    0.0\n",
       "57390    0.0\n",
       "57391    0.0\n",
       "57392    0.0\n",
       "57393    0.0\n",
       "Name: new_deaths_per_million, Length: 57394, dtype: float64"
      ]
     },
     "execution_count": 72,
     "metadata": {},
     "output_type": "execute_result"
    }
   ],
   "source": [
    "da[\"new_deaths_per_million\"]=da[\"new_deaths_per_million\"].fillna(da[\"new_deaths_per_million\"].median())\n",
    "da[\"new_deaths_per_million\"]\n"
   ]
  },
  {
   "cell_type": "code",
   "execution_count": 73,
   "id": "8b31766c",
   "metadata": {},
   "outputs": [
    {
     "data": {
      "text/plain": [
       "iso_code                                  0\n",
       "continent                                 0\n",
       "location                                  0\n",
       "date                                      0\n",
       "total_cases                               0\n",
       "new_cases                                 0\n",
       "new_cases_smoothed                        0\n",
       "total_deaths                              0\n",
       "new_deaths                                0\n",
       "new_deaths_smoothed                       0\n",
       "total_cases_per_million                   0\n",
       "new_cases_per_million                     0\n",
       "new_cases_smoothed_per_million            0\n",
       "total_deaths_per_million                  0\n",
       "new_deaths_per_million                    0\n",
       "new_deaths_smoothed_per_million        1807\n",
       "reproduction_rate                     19698\n",
       "icu_patients                          52904\n",
       "icu_patients_per_million              52904\n",
       "hosp_patients                         52389\n",
       "hosp_patients_per_million             52389\n",
       "weekly_icu_admissions                 57037\n",
       "weekly_icu_admissions_per_million     57037\n",
       "weekly_hosp_admissions                56749\n",
       "weekly_hosp_admissions_per_million    56749\n",
       "total_tests                           35377\n",
       "new_tests                             35607\n",
       "total_tests_per_thousand              35377\n",
       "new_tests_per_thousand                35607\n",
       "new_tests_smoothed                    32782\n",
       "new_tests_smoothed_per_thousand       32782\n",
       "tests_per_case                        34592\n",
       "positive_rate                         34183\n",
       "stringency_index                       9547\n",
       "population                              323\n",
       "population_density                     3023\n",
       "median_age                             6360\n",
       "aged_65_older                          7129\n",
       "aged_70_older                          6626\n",
       "gdp_per_capita                         7027\n",
       "extreme_poverty                       23823\n",
       "cardiovasc_death_rate                  6381\n",
       "diabetes_prevalence                    4513\n",
       "female_smokers                        17725\n",
       "male_smokers                          18238\n",
       "handwashing_facilities                33218\n",
       "hospital_beds_per_thousand            11458\n",
       "life_expectancy                        1058\n",
       "human_development_index                8147\n",
       "dtype: int64"
      ]
     },
     "execution_count": 73,
     "metadata": {},
     "output_type": "execute_result"
    }
   ],
   "source": [
    "da.isnull().sum()"
   ]
  },
  {
   "cell_type": "code",
   "execution_count": 74,
   "id": "3760c5a4",
   "metadata": {},
   "outputs": [
    {
     "data": {
      "text/plain": [
       "0.028"
      ]
     },
     "execution_count": 74,
     "metadata": {},
     "output_type": "execute_result"
    }
   ],
   "source": [
    "\n",
    "da[\"new_deaths_smoothed_per_million\"].median()\n",
    "\n"
   ]
  },
  {
   "cell_type": "code",
   "execution_count": 75,
   "id": "9aaf86b6",
   "metadata": {},
   "outputs": [
    {
     "data": {
      "text/plain": [
       "0        0.028\n",
       "1        0.028\n",
       "2        0.028\n",
       "3        0.028\n",
       "4        0.028\n",
       "         ...  \n",
       "57389    0.028\n",
       "57390    0.028\n",
       "57391    0.028\n",
       "57392    0.028\n",
       "57393    0.028\n",
       "Name: new_deaths_smoothed_per_million, Length: 57394, dtype: float64"
      ]
     },
     "execution_count": 75,
     "metadata": {},
     "output_type": "execute_result"
    }
   ],
   "source": [
    "da[\"new_deaths_smoothed_per_million\"]=da[\"new_deaths_smoothed_per_million\"].fillna(da[\"new_deaths_smoothed_per_million\"].median())\n",
    "da[\"new_deaths_smoothed_per_million\"]\n",
    "\n"
   ]
  },
  {
   "cell_type": "code",
   "execution_count": 76,
   "id": "dad601a4",
   "metadata": {},
   "outputs": [
    {
     "data": {
      "text/plain": [
       "iso_code                                  0\n",
       "continent                                 0\n",
       "location                                  0\n",
       "date                                      0\n",
       "total_cases                               0\n",
       "new_cases                                 0\n",
       "new_cases_smoothed                        0\n",
       "total_deaths                              0\n",
       "new_deaths                                0\n",
       "new_deaths_smoothed                       0\n",
       "total_cases_per_million                   0\n",
       "new_cases_per_million                     0\n",
       "new_cases_smoothed_per_million            0\n",
       "total_deaths_per_million                  0\n",
       "new_deaths_per_million                    0\n",
       "new_deaths_smoothed_per_million           0\n",
       "reproduction_rate                     19698\n",
       "icu_patients                          52904\n",
       "icu_patients_per_million              52904\n",
       "hosp_patients                         52389\n",
       "hosp_patients_per_million             52389\n",
       "weekly_icu_admissions                 57037\n",
       "weekly_icu_admissions_per_million     57037\n",
       "weekly_hosp_admissions                56749\n",
       "weekly_hosp_admissions_per_million    56749\n",
       "total_tests                           35377\n",
       "new_tests                             35607\n",
       "total_tests_per_thousand              35377\n",
       "new_tests_per_thousand                35607\n",
       "new_tests_smoothed                    32782\n",
       "new_tests_smoothed_per_thousand       32782\n",
       "tests_per_case                        34592\n",
       "positive_rate                         34183\n",
       "stringency_index                       9547\n",
       "population                              323\n",
       "population_density                     3023\n",
       "median_age                             6360\n",
       "aged_65_older                          7129\n",
       "aged_70_older                          6626\n",
       "gdp_per_capita                         7027\n",
       "extreme_poverty                       23823\n",
       "cardiovasc_death_rate                  6381\n",
       "diabetes_prevalence                    4513\n",
       "female_smokers                        17725\n",
       "male_smokers                          18238\n",
       "handwashing_facilities                33218\n",
       "hospital_beds_per_thousand            11458\n",
       "life_expectancy                        1058\n",
       "human_development_index                8147\n",
       "dtype: int64"
      ]
     },
     "execution_count": 76,
     "metadata": {},
     "output_type": "execute_result"
    }
   ],
   "source": [
    "da.isnull().sum()"
   ]
  },
  {
   "cell_type": "code",
   "execution_count": 77,
   "id": "8784551d",
   "metadata": {},
   "outputs": [
    {
     "data": {
      "text/plain": [
       "1.04"
      ]
     },
     "execution_count": 77,
     "metadata": {},
     "output_type": "execute_result"
    }
   ],
   "source": [
    "da[\"reproduction_rate\"].median()\n",
    "\n"
   ]
  },
  {
   "cell_type": "code",
   "execution_count": 78,
   "id": "f3e9d73a",
   "metadata": {},
   "outputs": [
    {
     "data": {
      "text/plain": [
       "0        1.04\n",
       "1        1.04\n",
       "2        1.04\n",
       "3        1.04\n",
       "4        1.04\n",
       "         ... \n",
       "57389    1.04\n",
       "57390    1.04\n",
       "57391    1.04\n",
       "57392    1.04\n",
       "57393    1.04\n",
       "Name: reproduction_rate, Length: 57394, dtype: float64"
      ]
     },
     "execution_count": 78,
     "metadata": {},
     "output_type": "execute_result"
    }
   ],
   "source": [
    "da[\"reproduction_rate\"]=da[\"reproduction_rate\"].fillna(da[\"reproduction_rate\"].median())\n",
    "da[\"reproduction_rate\"]\n",
    "\n"
   ]
  },
  {
   "cell_type": "code",
   "execution_count": 79,
   "id": "cff28d15",
   "metadata": {},
   "outputs": [
    {
     "data": {
      "text/plain": [
       "iso_code                                  0\n",
       "continent                                 0\n",
       "location                                  0\n",
       "date                                      0\n",
       "total_cases                               0\n",
       "new_cases                                 0\n",
       "new_cases_smoothed                        0\n",
       "total_deaths                              0\n",
       "new_deaths                                0\n",
       "new_deaths_smoothed                       0\n",
       "total_cases_per_million                   0\n",
       "new_cases_per_million                     0\n",
       "new_cases_smoothed_per_million            0\n",
       "total_deaths_per_million                  0\n",
       "new_deaths_per_million                    0\n",
       "new_deaths_smoothed_per_million           0\n",
       "reproduction_rate                         0\n",
       "icu_patients                          52904\n",
       "icu_patients_per_million              52904\n",
       "hosp_patients                         52389\n",
       "hosp_patients_per_million             52389\n",
       "weekly_icu_admissions                 57037\n",
       "weekly_icu_admissions_per_million     57037\n",
       "weekly_hosp_admissions                56749\n",
       "weekly_hosp_admissions_per_million    56749\n",
       "total_tests                           35377\n",
       "new_tests                             35607\n",
       "total_tests_per_thousand              35377\n",
       "new_tests_per_thousand                35607\n",
       "new_tests_smoothed                    32782\n",
       "new_tests_smoothed_per_thousand       32782\n",
       "tests_per_case                        34592\n",
       "positive_rate                         34183\n",
       "stringency_index                       9547\n",
       "population                              323\n",
       "population_density                     3023\n",
       "median_age                             6360\n",
       "aged_65_older                          7129\n",
       "aged_70_older                          6626\n",
       "gdp_per_capita                         7027\n",
       "extreme_poverty                       23823\n",
       "cardiovasc_death_rate                  6381\n",
       "diabetes_prevalence                    4513\n",
       "female_smokers                        17725\n",
       "male_smokers                          18238\n",
       "handwashing_facilities                33218\n",
       "hospital_beds_per_thousand            11458\n",
       "life_expectancy                        1058\n",
       "human_development_index                8147\n",
       "dtype: int64"
      ]
     },
     "execution_count": 79,
     "metadata": {},
     "output_type": "execute_result"
    }
   ],
   "source": [
    "da.isnull().sum()"
   ]
  },
  {
   "cell_type": "code",
   "execution_count": 80,
   "id": "ea8c5863",
   "metadata": {},
   "outputs": [
    {
     "data": {
      "text/plain": [
       "48.0"
      ]
     },
     "execution_count": 80,
     "metadata": {},
     "output_type": "execute_result"
    }
   ],
   "source": [
    "\n",
    "da[\"icu_patients\"].median()\n",
    "\n",
    "\n",
    "\n",
    "  "
   ]
  },
  {
   "cell_type": "code",
   "execution_count": 81,
   "id": "3fd0ed66",
   "metadata": {},
   "outputs": [
    {
     "data": {
      "text/plain": [
       "0        48.0\n",
       "1        48.0\n",
       "2        48.0\n",
       "3        48.0\n",
       "4        48.0\n",
       "         ... \n",
       "57389    48.0\n",
       "57390    48.0\n",
       "57391    48.0\n",
       "57392    48.0\n",
       "57393    48.0\n",
       "Name: icu_patients, Length: 57394, dtype: float64"
      ]
     },
     "execution_count": 81,
     "metadata": {},
     "output_type": "execute_result"
    }
   ],
   "source": [
    "da[\"icu_patients\"]=da[\"icu_patients\"].fillna(da[\"icu_patients\"].median())\n",
    "da[\"icu_patients\"]\n"
   ]
  },
  {
   "cell_type": "code",
   "execution_count": 82,
   "id": "800fa998",
   "metadata": {},
   "outputs": [
    {
     "data": {
      "text/plain": [
       "iso_code                                  0\n",
       "continent                                 0\n",
       "location                                  0\n",
       "date                                      0\n",
       "total_cases                               0\n",
       "new_cases                                 0\n",
       "new_cases_smoothed                        0\n",
       "total_deaths                              0\n",
       "new_deaths                                0\n",
       "new_deaths_smoothed                       0\n",
       "total_cases_per_million                   0\n",
       "new_cases_per_million                     0\n",
       "new_cases_smoothed_per_million            0\n",
       "total_deaths_per_million                  0\n",
       "new_deaths_per_million                    0\n",
       "new_deaths_smoothed_per_million           0\n",
       "reproduction_rate                         0\n",
       "icu_patients                              0\n",
       "icu_patients_per_million              52904\n",
       "hosp_patients                         52389\n",
       "hosp_patients_per_million             52389\n",
       "weekly_icu_admissions                 57037\n",
       "weekly_icu_admissions_per_million     57037\n",
       "weekly_hosp_admissions                56749\n",
       "weekly_hosp_admissions_per_million    56749\n",
       "total_tests                           35377\n",
       "new_tests                             35607\n",
       "total_tests_per_thousand              35377\n",
       "new_tests_per_thousand                35607\n",
       "new_tests_smoothed                    32782\n",
       "new_tests_smoothed_per_thousand       32782\n",
       "tests_per_case                        34592\n",
       "positive_rate                         34183\n",
       "stringency_index                       9547\n",
       "population                              323\n",
       "population_density                     3023\n",
       "median_age                             6360\n",
       "aged_65_older                          7129\n",
       "aged_70_older                          6626\n",
       "gdp_per_capita                         7027\n",
       "extreme_poverty                       23823\n",
       "cardiovasc_death_rate                  6381\n",
       "diabetes_prevalence                    4513\n",
       "female_smokers                        17725\n",
       "male_smokers                          18238\n",
       "handwashing_facilities                33218\n",
       "hospital_beds_per_thousand            11458\n",
       "life_expectancy                        1058\n",
       "human_development_index                8147\n",
       "dtype: int64"
      ]
     },
     "execution_count": 82,
     "metadata": {},
     "output_type": "execute_result"
    }
   ],
   "source": [
    "da.isnull().sum()"
   ]
  },
  {
   "cell_type": "code",
   "execution_count": 83,
   "id": "59e13426",
   "metadata": {},
   "outputs": [
    {
     "data": {
      "text/plain": [
       "5.901"
      ]
     },
     "execution_count": 83,
     "metadata": {},
     "output_type": "execute_result"
    }
   ],
   "source": [
    "\n",
    "da[\"icu_patients_per_million\"].median()\n"
   ]
  },
  {
   "cell_type": "code",
   "execution_count": 84,
   "id": "c17fedc3",
   "metadata": {},
   "outputs": [
    {
     "data": {
      "text/plain": [
       "0        5.901\n",
       "1        5.901\n",
       "2        5.901\n",
       "3        5.901\n",
       "4        5.901\n",
       "         ...  \n",
       "57389    5.901\n",
       "57390    5.901\n",
       "57391    5.901\n",
       "57392    5.901\n",
       "57393    5.901\n",
       "Name: icu_patients_per_million, Length: 57394, dtype: float64"
      ]
     },
     "execution_count": 84,
     "metadata": {},
     "output_type": "execute_result"
    }
   ],
   "source": [
    "da[\"icu_patients_per_million\"]=da[\"icu_patients_per_million\"].fillna(da[\"icu_patients_per_million\"].median())\n",
    "da[\"icu_patients_per_million\"]"
   ]
  },
  {
   "cell_type": "code",
   "execution_count": 85,
   "id": "98179f35",
   "metadata": {},
   "outputs": [
    {
     "data": {
      "text/plain": [
       "iso_code                                  0\n",
       "continent                                 0\n",
       "location                                  0\n",
       "date                                      0\n",
       "total_cases                               0\n",
       "new_cases                                 0\n",
       "new_cases_smoothed                        0\n",
       "total_deaths                              0\n",
       "new_deaths                                0\n",
       "new_deaths_smoothed                       0\n",
       "total_cases_per_million                   0\n",
       "new_cases_per_million                     0\n",
       "new_cases_smoothed_per_million            0\n",
       "total_deaths_per_million                  0\n",
       "new_deaths_per_million                    0\n",
       "new_deaths_smoothed_per_million           0\n",
       "reproduction_rate                         0\n",
       "icu_patients                              0\n",
       "icu_patients_per_million                  0\n",
       "hosp_patients                         52389\n",
       "hosp_patients_per_million             52389\n",
       "weekly_icu_admissions                 57037\n",
       "weekly_icu_admissions_per_million     57037\n",
       "weekly_hosp_admissions                56749\n",
       "weekly_hosp_admissions_per_million    56749\n",
       "total_tests                           35377\n",
       "new_tests                             35607\n",
       "total_tests_per_thousand              35377\n",
       "new_tests_per_thousand                35607\n",
       "new_tests_smoothed                    32782\n",
       "new_tests_smoothed_per_thousand       32782\n",
       "tests_per_case                        34592\n",
       "positive_rate                         34183\n",
       "stringency_index                       9547\n",
       "population                              323\n",
       "population_density                     3023\n",
       "median_age                             6360\n",
       "aged_65_older                          7129\n",
       "aged_70_older                          6626\n",
       "gdp_per_capita                         7027\n",
       "extreme_poverty                       23823\n",
       "cardiovasc_death_rate                  6381\n",
       "diabetes_prevalence                    4513\n",
       "female_smokers                        17725\n",
       "male_smokers                          18238\n",
       "handwashing_facilities                33218\n",
       "hospital_beds_per_thousand            11458\n",
       "life_expectancy                        1058\n",
       "human_development_index                8147\n",
       "dtype: int64"
      ]
     },
     "execution_count": 85,
     "metadata": {},
     "output_type": "execute_result"
    }
   ],
   "source": [
    "da.isnull().sum()"
   ]
  },
  {
   "cell_type": "code",
   "execution_count": 86,
   "id": "9ea0e804",
   "metadata": {},
   "outputs": [
    {
     "data": {
      "text/plain": [
       "213.0"
      ]
     },
     "execution_count": 86,
     "metadata": {},
     "output_type": "execute_result"
    }
   ],
   "source": [
    "\n",
    "da[\"hosp_patients\"].median()\n",
    "\n"
   ]
  },
  {
   "cell_type": "code",
   "execution_count": 87,
   "id": "19e12dd4",
   "metadata": {},
   "outputs": [
    {
     "data": {
      "text/plain": [
       "0        213.0\n",
       "1        213.0\n",
       "2        213.0\n",
       "3        213.0\n",
       "4        213.0\n",
       "         ...  \n",
       "57389    213.0\n",
       "57390    213.0\n",
       "57391    213.0\n",
       "57392    213.0\n",
       "57393    213.0\n",
       "Name: hosp_patients, Length: 57394, dtype: float64"
      ]
     },
     "execution_count": 87,
     "metadata": {},
     "output_type": "execute_result"
    }
   ],
   "source": [
    "da[\"hosp_patients\"]=da[\"hosp_patients\"].fillna(da[\"hosp_patients\"].median())\n",
    "da[\"hosp_patients\"]\n"
   ]
  },
  {
   "cell_type": "code",
   "execution_count": 88,
   "id": "5e6d742f",
   "metadata": {},
   "outputs": [
    {
     "data": {
      "text/plain": [
       "iso_code                                  0\n",
       "continent                                 0\n",
       "location                                  0\n",
       "date                                      0\n",
       "total_cases                               0\n",
       "new_cases                                 0\n",
       "new_cases_smoothed                        0\n",
       "total_deaths                              0\n",
       "new_deaths                                0\n",
       "new_deaths_smoothed                       0\n",
       "total_cases_per_million                   0\n",
       "new_cases_per_million                     0\n",
       "new_cases_smoothed_per_million            0\n",
       "total_deaths_per_million                  0\n",
       "new_deaths_per_million                    0\n",
       "new_deaths_smoothed_per_million           0\n",
       "reproduction_rate                         0\n",
       "icu_patients                              0\n",
       "icu_patients_per_million                  0\n",
       "hosp_patients                             0\n",
       "hosp_patients_per_million             52389\n",
       "weekly_icu_admissions                 57037\n",
       "weekly_icu_admissions_per_million     57037\n",
       "weekly_hosp_admissions                56749\n",
       "weekly_hosp_admissions_per_million    56749\n",
       "total_tests                           35377\n",
       "new_tests                             35607\n",
       "total_tests_per_thousand              35377\n",
       "new_tests_per_thousand                35607\n",
       "new_tests_smoothed                    32782\n",
       "new_tests_smoothed_per_thousand       32782\n",
       "tests_per_case                        34592\n",
       "positive_rate                         34183\n",
       "stringency_index                       9547\n",
       "population                              323\n",
       "population_density                     3023\n",
       "median_age                             6360\n",
       "aged_65_older                          7129\n",
       "aged_70_older                          6626\n",
       "gdp_per_capita                         7027\n",
       "extreme_poverty                       23823\n",
       "cardiovasc_death_rate                  6381\n",
       "diabetes_prevalence                    4513\n",
       "female_smokers                        17725\n",
       "male_smokers                          18238\n",
       "handwashing_facilities                33218\n",
       "hospital_beds_per_thousand            11458\n",
       "life_expectancy                        1058\n",
       "human_development_index                8147\n",
       "dtype: int64"
      ]
     },
     "execution_count": 88,
     "metadata": {},
     "output_type": "execute_result"
    }
   ],
   "source": [
    "da.isnull().sum()"
   ]
  },
  {
   "cell_type": "code",
   "execution_count": 89,
   "id": "2bf6bbfb",
   "metadata": {},
   "outputs": [
    {
     "data": {
      "text/plain": [
       "35.548"
      ]
     },
     "execution_count": 89,
     "metadata": {},
     "output_type": "execute_result"
    }
   ],
   "source": [
    "da[\"hosp_patients_per_million\"].median()\n"
   ]
  },
  {
   "cell_type": "code",
   "execution_count": 90,
   "id": "6b48f6f7",
   "metadata": {},
   "outputs": [
    {
     "data": {
      "text/plain": [
       "0        35.548\n",
       "1        35.548\n",
       "2        35.548\n",
       "3        35.548\n",
       "4        35.548\n",
       "          ...  \n",
       "57389    35.548\n",
       "57390    35.548\n",
       "57391    35.548\n",
       "57392    35.548\n",
       "57393    35.548\n",
       "Name: hosp_patients_per_million, Length: 57394, dtype: float64"
      ]
     },
     "execution_count": 90,
     "metadata": {},
     "output_type": "execute_result"
    }
   ],
   "source": [
    "da[\"hosp_patients_per_million\"]=da[\"hosp_patients_per_million\"].fillna(da[\"hosp_patients_per_million\"].median())\n",
    "da[\"hosp_patients_per_million\"]\n"
   ]
  },
  {
   "cell_type": "code",
   "execution_count": 91,
   "id": "733ec25b",
   "metadata": {},
   "outputs": [
    {
     "data": {
      "text/plain": [
       "iso_code                                  0\n",
       "continent                                 0\n",
       "location                                  0\n",
       "date                                      0\n",
       "total_cases                               0\n",
       "new_cases                                 0\n",
       "new_cases_smoothed                        0\n",
       "total_deaths                              0\n",
       "new_deaths                                0\n",
       "new_deaths_smoothed                       0\n",
       "total_cases_per_million                   0\n",
       "new_cases_per_million                     0\n",
       "new_cases_smoothed_per_million            0\n",
       "total_deaths_per_million                  0\n",
       "new_deaths_per_million                    0\n",
       "new_deaths_smoothed_per_million           0\n",
       "reproduction_rate                         0\n",
       "icu_patients                              0\n",
       "icu_patients_per_million                  0\n",
       "hosp_patients                             0\n",
       "hosp_patients_per_million                 0\n",
       "weekly_icu_admissions                 57037\n",
       "weekly_icu_admissions_per_million     57037\n",
       "weekly_hosp_admissions                56749\n",
       "weekly_hosp_admissions_per_million    56749\n",
       "total_tests                           35377\n",
       "new_tests                             35607\n",
       "total_tests_per_thousand              35377\n",
       "new_tests_per_thousand                35607\n",
       "new_tests_smoothed                    32782\n",
       "new_tests_smoothed_per_thousand       32782\n",
       "tests_per_case                        34592\n",
       "positive_rate                         34183\n",
       "stringency_index                       9547\n",
       "population                              323\n",
       "population_density                     3023\n",
       "median_age                             6360\n",
       "aged_65_older                          7129\n",
       "aged_70_older                          6626\n",
       "gdp_per_capita                         7027\n",
       "extreme_poverty                       23823\n",
       "cardiovasc_death_rate                  6381\n",
       "diabetes_prevalence                    4513\n",
       "female_smokers                        17725\n",
       "male_smokers                          18238\n",
       "handwashing_facilities                33218\n",
       "hospital_beds_per_thousand            11458\n",
       "life_expectancy                        1058\n",
       "human_development_index                8147\n",
       "dtype: int64"
      ]
     },
     "execution_count": 91,
     "metadata": {},
     "output_type": "execute_result"
    }
   ],
   "source": [
    "da.isnull().sum()"
   ]
  },
  {
   "cell_type": "code",
   "execution_count": 92,
   "id": "886c226e",
   "metadata": {},
   "outputs": [
    {
     "data": {
      "text/plain": [
       "25.778"
      ]
     },
     "execution_count": 92,
     "metadata": {},
     "output_type": "execute_result"
    }
   ],
   "source": [
    "da[\"weekly_icu_admissions\"].median()\n"
   ]
  },
  {
   "cell_type": "code",
   "execution_count": 93,
   "id": "83507cab",
   "metadata": {},
   "outputs": [
    {
     "data": {
      "text/plain": [
       "0        25.778\n",
       "1        25.778\n",
       "2        25.778\n",
       "3        25.778\n",
       "4        25.778\n",
       "          ...  \n",
       "57389    25.778\n",
       "57390    25.778\n",
       "57391    25.778\n",
       "57392    25.778\n",
       "57393    25.778\n",
       "Name: weekly_icu_admissions, Length: 57394, dtype: float64"
      ]
     },
     "execution_count": 93,
     "metadata": {},
     "output_type": "execute_result"
    }
   ],
   "source": [
    "\n",
    "da[\"weekly_icu_admissions\"]=da[\"weekly_icu_admissions\"].fillna(da[\"weekly_icu_admissions\"].median())\n",
    "da[\"weekly_icu_admissions\"]"
   ]
  },
  {
   "cell_type": "code",
   "execution_count": 94,
   "id": "6000d398",
   "metadata": {},
   "outputs": [
    {
     "data": {
      "text/plain": [
       "iso_code                                  0\n",
       "continent                                 0\n",
       "location                                  0\n",
       "date                                      0\n",
       "total_cases                               0\n",
       "new_cases                                 0\n",
       "new_cases_smoothed                        0\n",
       "total_deaths                              0\n",
       "new_deaths                                0\n",
       "new_deaths_smoothed                       0\n",
       "total_cases_per_million                   0\n",
       "new_cases_per_million                     0\n",
       "new_cases_smoothed_per_million            0\n",
       "total_deaths_per_million                  0\n",
       "new_deaths_per_million                    0\n",
       "new_deaths_smoothed_per_million           0\n",
       "reproduction_rate                         0\n",
       "icu_patients                              0\n",
       "icu_patients_per_million                  0\n",
       "hosp_patients                             0\n",
       "hosp_patients_per_million                 0\n",
       "weekly_icu_admissions                     0\n",
       "weekly_icu_admissions_per_million     57037\n",
       "weekly_hosp_admissions                56749\n",
       "weekly_hosp_admissions_per_million    56749\n",
       "total_tests                           35377\n",
       "new_tests                             35607\n",
       "total_tests_per_thousand              35377\n",
       "new_tests_per_thousand                35607\n",
       "new_tests_smoothed                    32782\n",
       "new_tests_smoothed_per_thousand       32782\n",
       "tests_per_case                        34592\n",
       "positive_rate                         34183\n",
       "stringency_index                       9547\n",
       "population                              323\n",
       "population_density                     3023\n",
       "median_age                             6360\n",
       "aged_65_older                          7129\n",
       "aged_70_older                          6626\n",
       "gdp_per_capita                         7027\n",
       "extreme_poverty                       23823\n",
       "cardiovasc_death_rate                  6381\n",
       "diabetes_prevalence                    4513\n",
       "female_smokers                        17725\n",
       "male_smokers                          18238\n",
       "handwashing_facilities                33218\n",
       "hospital_beds_per_thousand            11458\n",
       "life_expectancy                        1058\n",
       "human_development_index                8147\n",
       "dtype: int64"
      ]
     },
     "execution_count": 94,
     "metadata": {},
     "output_type": "execute_result"
    }
   ],
   "source": [
    "da.isnull().sum()\n"
   ]
  },
  {
   "cell_type": "code",
   "execution_count": 95,
   "id": "80d1509f",
   "metadata": {},
   "outputs": [
    {
     "data": {
      "text/plain": [
       "2.083"
      ]
     },
     "execution_count": 95,
     "metadata": {},
     "output_type": "execute_result"
    }
   ],
   "source": [
    "da[\"weekly_icu_admissions_per_million\"].median()\n",
    "\n"
   ]
  },
  {
   "cell_type": "code",
   "execution_count": 96,
   "id": "f8b40131",
   "metadata": {},
   "outputs": [
    {
     "data": {
      "text/plain": [
       "0        2.083\n",
       "1        2.083\n",
       "2        2.083\n",
       "3        2.083\n",
       "4        2.083\n",
       "         ...  \n",
       "57389    2.083\n",
       "57390    2.083\n",
       "57391    2.083\n",
       "57392    2.083\n",
       "57393    2.083\n",
       "Name: weekly_icu_admissions_per_million, Length: 57394, dtype: float64"
      ]
     },
     "execution_count": 96,
     "metadata": {},
     "output_type": "execute_result"
    }
   ],
   "source": [
    "da[\"weekly_icu_admissions_per_million\"]=da[\"weekly_icu_admissions_per_million\"].fillna(da[\"weekly_icu_admissions_per_million\"].median())\n",
    "\n",
    "\n",
    "da[\"weekly_icu_admissions_per_million\"]"
   ]
  },
  {
   "cell_type": "code",
   "execution_count": 97,
   "id": "f7c324f5",
   "metadata": {},
   "outputs": [
    {
     "data": {
      "text/plain": [
       "iso_code                                  0\n",
       "continent                                 0\n",
       "location                                  0\n",
       "date                                      0\n",
       "total_cases                               0\n",
       "new_cases                                 0\n",
       "new_cases_smoothed                        0\n",
       "total_deaths                              0\n",
       "new_deaths                                0\n",
       "new_deaths_smoothed                       0\n",
       "total_cases_per_million                   0\n",
       "new_cases_per_million                     0\n",
       "new_cases_smoothed_per_million            0\n",
       "total_deaths_per_million                  0\n",
       "new_deaths_per_million                    0\n",
       "new_deaths_smoothed_per_million           0\n",
       "reproduction_rate                         0\n",
       "icu_patients                              0\n",
       "icu_patients_per_million                  0\n",
       "hosp_patients                             0\n",
       "hosp_patients_per_million                 0\n",
       "weekly_icu_admissions                     0\n",
       "weekly_icu_admissions_per_million         0\n",
       "weekly_hosp_admissions                56749\n",
       "weekly_hosp_admissions_per_million    56749\n",
       "total_tests                           35377\n",
       "new_tests                             35607\n",
       "total_tests_per_thousand              35377\n",
       "new_tests_per_thousand                35607\n",
       "new_tests_smoothed                    32782\n",
       "new_tests_smoothed_per_thousand       32782\n",
       "tests_per_case                        34592\n",
       "positive_rate                         34183\n",
       "stringency_index                       9547\n",
       "population                              323\n",
       "population_density                     3023\n",
       "median_age                             6360\n",
       "aged_65_older                          7129\n",
       "aged_70_older                          6626\n",
       "gdp_per_capita                         7027\n",
       "extreme_poverty                       23823\n",
       "cardiovasc_death_rate                  6381\n",
       "diabetes_prevalence                    4513\n",
       "female_smokers                        17725\n",
       "male_smokers                          18238\n",
       "handwashing_facilities                33218\n",
       "hospital_beds_per_thousand            11458\n",
       "life_expectancy                        1058\n",
       "human_development_index                8147\n",
       "dtype: int64"
      ]
     },
     "execution_count": 97,
     "metadata": {},
     "output_type": "execute_result"
    }
   ],
   "source": [
    "da.isnull().sum()\n"
   ]
  },
  {
   "cell_type": "code",
   "execution_count": 98,
   "id": "9fda30a9",
   "metadata": {},
   "outputs": [
    {
     "data": {
      "text/plain": [
       "146.811"
      ]
     },
     "execution_count": 98,
     "metadata": {},
     "output_type": "execute_result"
    }
   ],
   "source": [
    "da[\"weekly_hosp_admissions\"].median()\n",
    "\n"
   ]
  },
  {
   "cell_type": "code",
   "execution_count": 99,
   "id": "76b1d390",
   "metadata": {},
   "outputs": [
    {
     "data": {
      "text/plain": [
       "0        146.811\n",
       "1        146.811\n",
       "2        146.811\n",
       "3        146.811\n",
       "4        146.811\n",
       "          ...   \n",
       "57389    146.811\n",
       "57390    146.811\n",
       "57391    146.811\n",
       "57392    146.811\n",
       "57393    146.811\n",
       "Name: weekly_hosp_admissions, Length: 57394, dtype: float64"
      ]
     },
     "execution_count": 99,
     "metadata": {},
     "output_type": "execute_result"
    }
   ],
   "source": [
    "da[\"weekly_hosp_admissions\"]=da[\"weekly_hosp_admissions\"].fillna(da[\"weekly_hosp_admissions\"].median())\n",
    "da[\"weekly_hosp_admissions\"]\n"
   ]
  },
  {
   "cell_type": "code",
   "execution_count": 100,
   "id": "e3ab8a85",
   "metadata": {},
   "outputs": [
    {
     "data": {
      "text/plain": [
       "iso_code                                  0\n",
       "continent                                 0\n",
       "location                                  0\n",
       "date                                      0\n",
       "total_cases                               0\n",
       "new_cases                                 0\n",
       "new_cases_smoothed                        0\n",
       "total_deaths                              0\n",
       "new_deaths                                0\n",
       "new_deaths_smoothed                       0\n",
       "total_cases_per_million                   0\n",
       "new_cases_per_million                     0\n",
       "new_cases_smoothed_per_million            0\n",
       "total_deaths_per_million                  0\n",
       "new_deaths_per_million                    0\n",
       "new_deaths_smoothed_per_million           0\n",
       "reproduction_rate                         0\n",
       "icu_patients                              0\n",
       "icu_patients_per_million                  0\n",
       "hosp_patients                             0\n",
       "hosp_patients_per_million                 0\n",
       "weekly_icu_admissions                     0\n",
       "weekly_icu_admissions_per_million         0\n",
       "weekly_hosp_admissions                    0\n",
       "weekly_hosp_admissions_per_million    56749\n",
       "total_tests                           35377\n",
       "new_tests                             35607\n",
       "total_tests_per_thousand              35377\n",
       "new_tests_per_thousand                35607\n",
       "new_tests_smoothed                    32782\n",
       "new_tests_smoothed_per_thousand       32782\n",
       "tests_per_case                        34592\n",
       "positive_rate                         34183\n",
       "stringency_index                       9547\n",
       "population                              323\n",
       "population_density                     3023\n",
       "median_age                             6360\n",
       "aged_65_older                          7129\n",
       "aged_70_older                          6626\n",
       "gdp_per_capita                         7027\n",
       "extreme_poverty                       23823\n",
       "cardiovasc_death_rate                  6381\n",
       "diabetes_prevalence                    4513\n",
       "female_smokers                        17725\n",
       "male_smokers                          18238\n",
       "handwashing_facilities                33218\n",
       "hospital_beds_per_thousand            11458\n",
       "life_expectancy                        1058\n",
       "human_development_index                8147\n",
       "dtype: int64"
      ]
     },
     "execution_count": 100,
     "metadata": {},
     "output_type": "execute_result"
    }
   ],
   "source": [
    "da.isnull().sum()\n"
   ]
  },
  {
   "cell_type": "code",
   "execution_count": 101,
   "id": "08d9aac5",
   "metadata": {},
   "outputs": [
    {
     "data": {
      "text/plain": [
       "14.997"
      ]
     },
     "execution_count": 101,
     "metadata": {},
     "output_type": "execute_result"
    }
   ],
   "source": [
    "da[\"weekly_hosp_admissions_per_million\"].median()\n",
    "\n"
   ]
  },
  {
   "cell_type": "code",
   "execution_count": 102,
   "id": "63f34a6b",
   "metadata": {},
   "outputs": [
    {
     "data": {
      "text/plain": [
       "0        14.997\n",
       "1        14.997\n",
       "2        14.997\n",
       "3        14.997\n",
       "4        14.997\n",
       "          ...  \n",
       "57389    14.997\n",
       "57390    14.997\n",
       "57391    14.997\n",
       "57392    14.997\n",
       "57393    14.997\n",
       "Name: weekly_hosp_admissions_per_million, Length: 57394, dtype: float64"
      ]
     },
     "execution_count": 102,
     "metadata": {},
     "output_type": "execute_result"
    }
   ],
   "source": [
    "da[\"weekly_hosp_admissions_per_million\"]=da[\"weekly_hosp_admissions_per_million\"].fillna(da[\"weekly_hosp_admissions_per_million\"].median())\n",
    "da[\"weekly_hosp_admissions_per_million\"]\n",
    "\n"
   ]
  },
  {
   "cell_type": "code",
   "execution_count": 103,
   "id": "91b6ae9d",
   "metadata": {},
   "outputs": [
    {
     "data": {
      "text/plain": [
       "iso_code                                  0\n",
       "continent                                 0\n",
       "location                                  0\n",
       "date                                      0\n",
       "total_cases                               0\n",
       "new_cases                                 0\n",
       "new_cases_smoothed                        0\n",
       "total_deaths                              0\n",
       "new_deaths                                0\n",
       "new_deaths_smoothed                       0\n",
       "total_cases_per_million                   0\n",
       "new_cases_per_million                     0\n",
       "new_cases_smoothed_per_million            0\n",
       "total_deaths_per_million                  0\n",
       "new_deaths_per_million                    0\n",
       "new_deaths_smoothed_per_million           0\n",
       "reproduction_rate                         0\n",
       "icu_patients                              0\n",
       "icu_patients_per_million                  0\n",
       "hosp_patients                             0\n",
       "hosp_patients_per_million                 0\n",
       "weekly_icu_admissions                     0\n",
       "weekly_icu_admissions_per_million         0\n",
       "weekly_hosp_admissions                    0\n",
       "weekly_hosp_admissions_per_million        0\n",
       "total_tests                           35377\n",
       "new_tests                             35607\n",
       "total_tests_per_thousand              35377\n",
       "new_tests_per_thousand                35607\n",
       "new_tests_smoothed                    32782\n",
       "new_tests_smoothed_per_thousand       32782\n",
       "tests_per_case                        34592\n",
       "positive_rate                         34183\n",
       "stringency_index                       9547\n",
       "population                              323\n",
       "population_density                     3023\n",
       "median_age                             6360\n",
       "aged_65_older                          7129\n",
       "aged_70_older                          6626\n",
       "gdp_per_capita                         7027\n",
       "extreme_poverty                       23823\n",
       "cardiovasc_death_rate                  6381\n",
       "diabetes_prevalence                    4513\n",
       "female_smokers                        17725\n",
       "male_smokers                          18238\n",
       "handwashing_facilities                33218\n",
       "hospital_beds_per_thousand            11458\n",
       "life_expectancy                        1058\n",
       "human_development_index                8147\n",
       "dtype: int64"
      ]
     },
     "execution_count": 103,
     "metadata": {},
     "output_type": "execute_result"
    }
   ],
   "source": [
    "da.isnull().sum()\n"
   ]
  },
  {
   "cell_type": "code",
   "execution_count": 104,
   "id": "27e5e9a7",
   "metadata": {},
   "outputs": [
    {
     "data": {
      "text/plain": [
       "265640.0"
      ]
     },
     "execution_count": 104,
     "metadata": {},
     "output_type": "execute_result"
    }
   ],
   "source": [
    "da[\"total_tests\"].median()\n"
   ]
  },
  {
   "cell_type": "code",
   "execution_count": 105,
   "id": "e21b49d6",
   "metadata": {},
   "outputs": [
    {
     "data": {
      "text/plain": [
       "0        265640.0\n",
       "1        265640.0\n",
       "2        265640.0\n",
       "3        265640.0\n",
       "4        265640.0\n",
       "           ...   \n",
       "57389    265640.0\n",
       "57390    265640.0\n",
       "57391    265640.0\n",
       "57392    265640.0\n",
       "57393    265640.0\n",
       "Name: total_tests, Length: 57394, dtype: float64"
      ]
     },
     "execution_count": 105,
     "metadata": {},
     "output_type": "execute_result"
    }
   ],
   "source": [
    "da[\"total_tests\"]=da[\"total_tests\"].fillna(da[\"total_tests\"].median())\n",
    "da[\"total_tests\"]\n",
    "\n",
    "\n"
   ]
  },
  {
   "cell_type": "code",
   "execution_count": 106,
   "id": "51a61d5d",
   "metadata": {},
   "outputs": [
    {
     "data": {
      "text/plain": [
       "iso_code                                  0\n",
       "continent                                 0\n",
       "location                                  0\n",
       "date                                      0\n",
       "total_cases                               0\n",
       "new_cases                                 0\n",
       "new_cases_smoothed                        0\n",
       "total_deaths                              0\n",
       "new_deaths                                0\n",
       "new_deaths_smoothed                       0\n",
       "total_cases_per_million                   0\n",
       "new_cases_per_million                     0\n",
       "new_cases_smoothed_per_million            0\n",
       "total_deaths_per_million                  0\n",
       "new_deaths_per_million                    0\n",
       "new_deaths_smoothed_per_million           0\n",
       "reproduction_rate                         0\n",
       "icu_patients                              0\n",
       "icu_patients_per_million                  0\n",
       "hosp_patients                             0\n",
       "hosp_patients_per_million                 0\n",
       "weekly_icu_admissions                     0\n",
       "weekly_icu_admissions_per_million         0\n",
       "weekly_hosp_admissions                    0\n",
       "weekly_hosp_admissions_per_million        0\n",
       "total_tests                               0\n",
       "new_tests                             35607\n",
       "total_tests_per_thousand              35377\n",
       "new_tests_per_thousand                35607\n",
       "new_tests_smoothed                    32782\n",
       "new_tests_smoothed_per_thousand       32782\n",
       "tests_per_case                        34592\n",
       "positive_rate                         34183\n",
       "stringency_index                       9547\n",
       "population                              323\n",
       "population_density                     3023\n",
       "median_age                             6360\n",
       "aged_65_older                          7129\n",
       "aged_70_older                          6626\n",
       "gdp_per_capita                         7027\n",
       "extreme_poverty                       23823\n",
       "cardiovasc_death_rate                  6381\n",
       "diabetes_prevalence                    4513\n",
       "female_smokers                        17725\n",
       "male_smokers                          18238\n",
       "handwashing_facilities                33218\n",
       "hospital_beds_per_thousand            11458\n",
       "life_expectancy                        1058\n",
       "human_development_index                8147\n",
       "dtype: int64"
      ]
     },
     "execution_count": 106,
     "metadata": {},
     "output_type": "execute_result"
    }
   ],
   "source": [
    "da.isnull().sum()\n"
   ]
  },
  {
   "cell_type": "code",
   "execution_count": 107,
   "id": "8a1e501d",
   "metadata": {},
   "outputs": [
    {
     "data": {
      "text/plain": [
       "3715.0"
      ]
     },
     "execution_count": 107,
     "metadata": {},
     "output_type": "execute_result"
    }
   ],
   "source": [
    "da[\"new_tests\"].median()\n",
    "\n"
   ]
  },
  {
   "cell_type": "code",
   "execution_count": 108,
   "id": "2e7a9e43",
   "metadata": {},
   "outputs": [
    {
     "data": {
      "text/plain": [
       "0        3715.0\n",
       "1        3715.0\n",
       "2        3715.0\n",
       "3        3715.0\n",
       "4        3715.0\n",
       "          ...  \n",
       "57389    3715.0\n",
       "57390    3715.0\n",
       "57391    3715.0\n",
       "57392    3715.0\n",
       "57393    3715.0\n",
       "Name: new_tests, Length: 57394, dtype: float64"
      ]
     },
     "execution_count": 108,
     "metadata": {},
     "output_type": "execute_result"
    }
   ],
   "source": [
    "da[\"new_tests\"]=da[\"new_tests\"].fillna(da[\"new_tests\"].median())\n",
    "da[\"new_tests\"]\n"
   ]
  },
  {
   "cell_type": "code",
   "execution_count": 109,
   "id": "f4c40405",
   "metadata": {},
   "outputs": [
    {
     "data": {
      "text/plain": [
       "iso_code                                  0\n",
       "continent                                 0\n",
       "location                                  0\n",
       "date                                      0\n",
       "total_cases                               0\n",
       "new_cases                                 0\n",
       "new_cases_smoothed                        0\n",
       "total_deaths                              0\n",
       "new_deaths                                0\n",
       "new_deaths_smoothed                       0\n",
       "total_cases_per_million                   0\n",
       "new_cases_per_million                     0\n",
       "new_cases_smoothed_per_million            0\n",
       "total_deaths_per_million                  0\n",
       "new_deaths_per_million                    0\n",
       "new_deaths_smoothed_per_million           0\n",
       "reproduction_rate                         0\n",
       "icu_patients                              0\n",
       "icu_patients_per_million                  0\n",
       "hosp_patients                             0\n",
       "hosp_patients_per_million                 0\n",
       "weekly_icu_admissions                     0\n",
       "weekly_icu_admissions_per_million         0\n",
       "weekly_hosp_admissions                    0\n",
       "weekly_hosp_admissions_per_million        0\n",
       "total_tests                               0\n",
       "new_tests                                 0\n",
       "total_tests_per_thousand              35377\n",
       "new_tests_per_thousand                35607\n",
       "new_tests_smoothed                    32782\n",
       "new_tests_smoothed_per_thousand       32782\n",
       "tests_per_case                        34592\n",
       "positive_rate                         34183\n",
       "stringency_index                       9547\n",
       "population                              323\n",
       "population_density                     3023\n",
       "median_age                             6360\n",
       "aged_65_older                          7129\n",
       "aged_70_older                          6626\n",
       "gdp_per_capita                         7027\n",
       "extreme_poverty                       23823\n",
       "cardiovasc_death_rate                  6381\n",
       "diabetes_prevalence                    4513\n",
       "female_smokers                        17725\n",
       "male_smokers                          18238\n",
       "handwashing_facilities                33218\n",
       "hospital_beds_per_thousand            11458\n",
       "life_expectancy                        1058\n",
       "human_development_index                8147\n",
       "dtype: int64"
      ]
     },
     "execution_count": 109,
     "metadata": {},
     "output_type": "execute_result"
    }
   ],
   "source": [
    "da.isnull().sum()\n"
   ]
  },
  {
   "cell_type": "code",
   "execution_count": 110,
   "id": "e91ee5fa",
   "metadata": {},
   "outputs": [
    {
     "data": {
      "text/plain": [
       "20.965"
      ]
     },
     "execution_count": 110,
     "metadata": {},
     "output_type": "execute_result"
    }
   ],
   "source": [
    "da[\"total_tests_per_thousand\"].median()\n",
    "\n"
   ]
  },
  {
   "cell_type": "code",
   "execution_count": 111,
   "id": "264b0497",
   "metadata": {},
   "outputs": [
    {
     "data": {
      "text/plain": [
       "0        20.965\n",
       "1        20.965\n",
       "2        20.965\n",
       "3        20.965\n",
       "4        20.965\n",
       "          ...  \n",
       "57389    20.965\n",
       "57390    20.965\n",
       "57391    20.965\n",
       "57392    20.965\n",
       "57393    20.965\n",
       "Name: total_tests_per_thousand, Length: 57394, dtype: float64"
      ]
     },
     "execution_count": 111,
     "metadata": {},
     "output_type": "execute_result"
    }
   ],
   "source": [
    "da[\"total_tests_per_thousand\"]=da[\"total_tests_per_thousand\"].fillna(da[\"total_tests_per_thousand\"].median())\n",
    "da[\"total_tests_per_thousand\"]\n",
    "\n"
   ]
  },
  {
   "cell_type": "code",
   "execution_count": 112,
   "id": "e3f0e7aa",
   "metadata": {},
   "outputs": [
    {
     "data": {
      "text/plain": [
       "iso_code                                  0\n",
       "continent                                 0\n",
       "location                                  0\n",
       "date                                      0\n",
       "total_cases                               0\n",
       "new_cases                                 0\n",
       "new_cases_smoothed                        0\n",
       "total_deaths                              0\n",
       "new_deaths                                0\n",
       "new_deaths_smoothed                       0\n",
       "total_cases_per_million                   0\n",
       "new_cases_per_million                     0\n",
       "new_cases_smoothed_per_million            0\n",
       "total_deaths_per_million                  0\n",
       "new_deaths_per_million                    0\n",
       "new_deaths_smoothed_per_million           0\n",
       "reproduction_rate                         0\n",
       "icu_patients                              0\n",
       "icu_patients_per_million                  0\n",
       "hosp_patients                             0\n",
       "hosp_patients_per_million                 0\n",
       "weekly_icu_admissions                     0\n",
       "weekly_icu_admissions_per_million         0\n",
       "weekly_hosp_admissions                    0\n",
       "weekly_hosp_admissions_per_million        0\n",
       "total_tests                               0\n",
       "new_tests                                 0\n",
       "total_tests_per_thousand                  0\n",
       "new_tests_per_thousand                35607\n",
       "new_tests_smoothed                    32782\n",
       "new_tests_smoothed_per_thousand       32782\n",
       "tests_per_case                        34592\n",
       "positive_rate                         34183\n",
       "stringency_index                       9547\n",
       "population                              323\n",
       "population_density                     3023\n",
       "median_age                             6360\n",
       "aged_65_older                          7129\n",
       "aged_70_older                          6626\n",
       "gdp_per_capita                         7027\n",
       "extreme_poverty                       23823\n",
       "cardiovasc_death_rate                  6381\n",
       "diabetes_prevalence                    4513\n",
       "female_smokers                        17725\n",
       "male_smokers                          18238\n",
       "handwashing_facilities                33218\n",
       "hospital_beds_per_thousand            11458\n",
       "life_expectancy                        1058\n",
       "human_development_index                8147\n",
       "dtype: int64"
      ]
     },
     "execution_count": 112,
     "metadata": {},
     "output_type": "execute_result"
    }
   ],
   "source": [
    "da.isnull().sum()"
   ]
  },
  {
   "cell_type": "code",
   "execution_count": 113,
   "id": "e4d43724",
   "metadata": {},
   "outputs": [
    {
     "data": {
      "text/plain": [
       "0.344"
      ]
     },
     "execution_count": 113,
     "metadata": {},
     "output_type": "execute_result"
    }
   ],
   "source": [
    "da[\"new_tests_per_thousand\"].median()\n",
    "\n"
   ]
  },
  {
   "cell_type": "code",
   "execution_count": 114,
   "id": "2f076c3f",
   "metadata": {},
   "outputs": [
    {
     "data": {
      "text/plain": [
       "0        0.344\n",
       "1        0.344\n",
       "2        0.344\n",
       "3        0.344\n",
       "4        0.344\n",
       "         ...  \n",
       "57389    0.344\n",
       "57390    0.344\n",
       "57391    0.344\n",
       "57392    0.344\n",
       "57393    0.344\n",
       "Name: new_tests_per_thousand, Length: 57394, dtype: float64"
      ]
     },
     "execution_count": 114,
     "metadata": {},
     "output_type": "execute_result"
    }
   ],
   "source": [
    "da[\"new_tests_per_thousand\"]=da[\"new_tests_per_thousand\"].fillna(da[\"new_tests_per_thousand\"].median())\n",
    "da[\"new_tests_per_thousand\"]\n",
    "\n"
   ]
  },
  {
   "cell_type": "code",
   "execution_count": 115,
   "id": "dd61fd36",
   "metadata": {
    "scrolled": true
   },
   "outputs": [
    {
     "data": {
      "text/plain": [
       "iso_code                                  0\n",
       "continent                                 0\n",
       "location                                  0\n",
       "date                                      0\n",
       "total_cases                               0\n",
       "new_cases                                 0\n",
       "new_cases_smoothed                        0\n",
       "total_deaths                              0\n",
       "new_deaths                                0\n",
       "new_deaths_smoothed                       0\n",
       "total_cases_per_million                   0\n",
       "new_cases_per_million                     0\n",
       "new_cases_smoothed_per_million            0\n",
       "total_deaths_per_million                  0\n",
       "new_deaths_per_million                    0\n",
       "new_deaths_smoothed_per_million           0\n",
       "reproduction_rate                         0\n",
       "icu_patients                              0\n",
       "icu_patients_per_million                  0\n",
       "hosp_patients                             0\n",
       "hosp_patients_per_million                 0\n",
       "weekly_icu_admissions                     0\n",
       "weekly_icu_admissions_per_million         0\n",
       "weekly_hosp_admissions                    0\n",
       "weekly_hosp_admissions_per_million        0\n",
       "total_tests                               0\n",
       "new_tests                                 0\n",
       "total_tests_per_thousand                  0\n",
       "new_tests_per_thousand                    0\n",
       "new_tests_smoothed                    32782\n",
       "new_tests_smoothed_per_thousand       32782\n",
       "tests_per_case                        34592\n",
       "positive_rate                         34183\n",
       "stringency_index                       9547\n",
       "population                              323\n",
       "population_density                     3023\n",
       "median_age                             6360\n",
       "aged_65_older                          7129\n",
       "aged_70_older                          6626\n",
       "gdp_per_capita                         7027\n",
       "extreme_poverty                       23823\n",
       "cardiovasc_death_rate                  6381\n",
       "diabetes_prevalence                    4513\n",
       "female_smokers                        17725\n",
       "male_smokers                          18238\n",
       "handwashing_facilities                33218\n",
       "hospital_beds_per_thousand            11458\n",
       "life_expectancy                        1058\n",
       "human_development_index                8147\n",
       "dtype: int64"
      ]
     },
     "execution_count": 115,
     "metadata": {},
     "output_type": "execute_result"
    }
   ],
   "source": [
    "da.isnull().sum()\n"
   ]
  },
  {
   "cell_type": "code",
   "execution_count": 116,
   "id": "695bc05c",
   "metadata": {},
   "outputs": [
    {
     "data": {
      "text/plain": [
       "4024.0"
      ]
     },
     "execution_count": 116,
     "metadata": {},
     "output_type": "execute_result"
    }
   ],
   "source": [
    "da[\"new_tests_smoothed\"].median()\n",
    "\n"
   ]
  },
  {
   "cell_type": "code",
   "execution_count": 117,
   "id": "a2937775",
   "metadata": {},
   "outputs": [
    {
     "data": {
      "text/plain": [
       "0        4024.0\n",
       "1        4024.0\n",
       "2        4024.0\n",
       "3        4024.0\n",
       "4        4024.0\n",
       "          ...  \n",
       "57389    4024.0\n",
       "57390    4024.0\n",
       "57391    4024.0\n",
       "57392    4024.0\n",
       "57393    4024.0\n",
       "Name: new_tests_smoothed, Length: 57394, dtype: float64"
      ]
     },
     "execution_count": 117,
     "metadata": {},
     "output_type": "execute_result"
    }
   ],
   "source": [
    "da[\"new_tests_smoothed\"]=da[\"new_tests_smoothed\"].fillna(da[\"new_tests_smoothed\"].median())\n",
    "da[\"new_tests_smoothed\"]\n",
    "\n"
   ]
  },
  {
   "cell_type": "code",
   "execution_count": 118,
   "id": "2d7f21fa",
   "metadata": {},
   "outputs": [
    {
     "data": {
      "text/plain": [
       "iso_code                                  0\n",
       "continent                                 0\n",
       "location                                  0\n",
       "date                                      0\n",
       "total_cases                               0\n",
       "new_cases                                 0\n",
       "new_cases_smoothed                        0\n",
       "total_deaths                              0\n",
       "new_deaths                                0\n",
       "new_deaths_smoothed                       0\n",
       "total_cases_per_million                   0\n",
       "new_cases_per_million                     0\n",
       "new_cases_smoothed_per_million            0\n",
       "total_deaths_per_million                  0\n",
       "new_deaths_per_million                    0\n",
       "new_deaths_smoothed_per_million           0\n",
       "reproduction_rate                         0\n",
       "icu_patients                              0\n",
       "icu_patients_per_million                  0\n",
       "hosp_patients                             0\n",
       "hosp_patients_per_million                 0\n",
       "weekly_icu_admissions                     0\n",
       "weekly_icu_admissions_per_million         0\n",
       "weekly_hosp_admissions                    0\n",
       "weekly_hosp_admissions_per_million        0\n",
       "total_tests                               0\n",
       "new_tests                                 0\n",
       "total_tests_per_thousand                  0\n",
       "new_tests_per_thousand                    0\n",
       "new_tests_smoothed                        0\n",
       "new_tests_smoothed_per_thousand       32782\n",
       "tests_per_case                        34592\n",
       "positive_rate                         34183\n",
       "stringency_index                       9547\n",
       "population                              323\n",
       "population_density                     3023\n",
       "median_age                             6360\n",
       "aged_65_older                          7129\n",
       "aged_70_older                          6626\n",
       "gdp_per_capita                         7027\n",
       "extreme_poverty                       23823\n",
       "cardiovasc_death_rate                  6381\n",
       "diabetes_prevalence                    4513\n",
       "female_smokers                        17725\n",
       "male_smokers                          18238\n",
       "handwashing_facilities                33218\n",
       "hospital_beds_per_thousand            11458\n",
       "life_expectancy                        1058\n",
       "human_development_index                8147\n",
       "dtype: int64"
      ]
     },
     "execution_count": 118,
     "metadata": {},
     "output_type": "execute_result"
    }
   ],
   "source": [
    "da.isnull().sum()\n"
   ]
  },
  {
   "cell_type": "code",
   "execution_count": 119,
   "id": "79a6b436",
   "metadata": {},
   "outputs": [
    {
     "data": {
      "text/plain": [
       "0.3505"
      ]
     },
     "execution_count": 119,
     "metadata": {},
     "output_type": "execute_result"
    }
   ],
   "source": [
    "da[\"new_tests_smoothed_per_thousand\"].median()\n",
    "\n"
   ]
  },
  {
   "cell_type": "code",
   "execution_count": 120,
   "id": "15134713",
   "metadata": {},
   "outputs": [
    {
     "data": {
      "text/plain": [
       "0        0.3505\n",
       "1        0.3505\n",
       "2        0.3505\n",
       "3        0.3505\n",
       "4        0.3505\n",
       "          ...  \n",
       "57389    0.3505\n",
       "57390    0.3505\n",
       "57391    0.3505\n",
       "57392    0.3505\n",
       "57393    0.3505\n",
       "Name: new_tests_smoothed_per_thousand, Length: 57394, dtype: float64"
      ]
     },
     "execution_count": 120,
     "metadata": {},
     "output_type": "execute_result"
    }
   ],
   "source": [
    "da[\"new_tests_smoothed_per_thousand\"]=da[\"new_tests_smoothed_per_thousand\"].fillna(da[\"new_tests_smoothed_per_thousand\"].median())\n",
    "da[\"new_tests_smoothed_per_thousand\"]\n"
   ]
  },
  {
   "cell_type": "code",
   "execution_count": 121,
   "id": "822f6d53",
   "metadata": {},
   "outputs": [
    {
     "data": {
      "text/plain": [
       "iso_code                                  0\n",
       "continent                                 0\n",
       "location                                  0\n",
       "date                                      0\n",
       "total_cases                               0\n",
       "new_cases                                 0\n",
       "new_cases_smoothed                        0\n",
       "total_deaths                              0\n",
       "new_deaths                                0\n",
       "new_deaths_smoothed                       0\n",
       "total_cases_per_million                   0\n",
       "new_cases_per_million                     0\n",
       "new_cases_smoothed_per_million            0\n",
       "total_deaths_per_million                  0\n",
       "new_deaths_per_million                    0\n",
       "new_deaths_smoothed_per_million           0\n",
       "reproduction_rate                         0\n",
       "icu_patients                              0\n",
       "icu_patients_per_million                  0\n",
       "hosp_patients                             0\n",
       "hosp_patients_per_million                 0\n",
       "weekly_icu_admissions                     0\n",
       "weekly_icu_admissions_per_million         0\n",
       "weekly_hosp_admissions                    0\n",
       "weekly_hosp_admissions_per_million        0\n",
       "total_tests                               0\n",
       "new_tests                                 0\n",
       "total_tests_per_thousand                  0\n",
       "new_tests_per_thousand                    0\n",
       "new_tests_smoothed                        0\n",
       "new_tests_smoothed_per_thousand           0\n",
       "tests_per_case                        34592\n",
       "positive_rate                         34183\n",
       "stringency_index                       9547\n",
       "population                              323\n",
       "population_density                     3023\n",
       "median_age                             6360\n",
       "aged_65_older                          7129\n",
       "aged_70_older                          6626\n",
       "gdp_per_capita                         7027\n",
       "extreme_poverty                       23823\n",
       "cardiovasc_death_rate                  6381\n",
       "diabetes_prevalence                    4513\n",
       "female_smokers                        17725\n",
       "male_smokers                          18238\n",
       "handwashing_facilities                33218\n",
       "hospital_beds_per_thousand            11458\n",
       "life_expectancy                        1058\n",
       "human_development_index                8147\n",
       "dtype: int64"
      ]
     },
     "execution_count": 121,
     "metadata": {},
     "output_type": "execute_result"
    }
   ],
   "source": [
    "da.isnull().sum()\n"
   ]
  },
  {
   "cell_type": "code",
   "execution_count": 122,
   "id": "2b65d33e",
   "metadata": {},
   "outputs": [
    {
     "data": {
      "text/plain": [
       "29.369"
      ]
     },
     "execution_count": 122,
     "metadata": {},
     "output_type": "execute_result"
    }
   ],
   "source": [
    "da[\"tests_per_case\"].median()\n",
    "\n"
   ]
  },
  {
   "cell_type": "code",
   "execution_count": 123,
   "id": "bae0f086",
   "metadata": {},
   "outputs": [
    {
     "data": {
      "text/plain": [
       "0        0.3505\n",
       "1        0.3505\n",
       "2        0.3505\n",
       "3        0.3505\n",
       "4        0.3505\n",
       "          ...  \n",
       "57389    0.3505\n",
       "57390    0.3505\n",
       "57391    0.3505\n",
       "57392    0.3505\n",
       "57393    0.3505\n",
       "Name: tests_per_case, Length: 57394, dtype: float64"
      ]
     },
     "execution_count": 123,
     "metadata": {},
     "output_type": "execute_result"
    }
   ],
   "source": [
    "\n",
    "da[\"tests_per_case\"]=da[\"new_tests_smoothed_per_thousand\"].fillna(da[\"tests_per_case\"].median())\n",
    "da[\"tests_per_case\"]\n"
   ]
  },
  {
   "cell_type": "code",
   "execution_count": 124,
   "id": "b1ddd147",
   "metadata": {},
   "outputs": [
    {
     "data": {
      "text/plain": [
       "iso_code                                  0\n",
       "continent                                 0\n",
       "location                                  0\n",
       "date                                      0\n",
       "total_cases                               0\n",
       "new_cases                                 0\n",
       "new_cases_smoothed                        0\n",
       "total_deaths                              0\n",
       "new_deaths                                0\n",
       "new_deaths_smoothed                       0\n",
       "total_cases_per_million                   0\n",
       "new_cases_per_million                     0\n",
       "new_cases_smoothed_per_million            0\n",
       "total_deaths_per_million                  0\n",
       "new_deaths_per_million                    0\n",
       "new_deaths_smoothed_per_million           0\n",
       "reproduction_rate                         0\n",
       "icu_patients                              0\n",
       "icu_patients_per_million                  0\n",
       "hosp_patients                             0\n",
       "hosp_patients_per_million                 0\n",
       "weekly_icu_admissions                     0\n",
       "weekly_icu_admissions_per_million         0\n",
       "weekly_hosp_admissions                    0\n",
       "weekly_hosp_admissions_per_million        0\n",
       "total_tests                               0\n",
       "new_tests                                 0\n",
       "total_tests_per_thousand                  0\n",
       "new_tests_per_thousand                    0\n",
       "new_tests_smoothed                        0\n",
       "new_tests_smoothed_per_thousand           0\n",
       "tests_per_case                            0\n",
       "positive_rate                         34183\n",
       "stringency_index                       9547\n",
       "population                              323\n",
       "population_density                     3023\n",
       "median_age                             6360\n",
       "aged_65_older                          7129\n",
       "aged_70_older                          6626\n",
       "gdp_per_capita                         7027\n",
       "extreme_poverty                       23823\n",
       "cardiovasc_death_rate                  6381\n",
       "diabetes_prevalence                    4513\n",
       "female_smokers                        17725\n",
       "male_smokers                          18238\n",
       "handwashing_facilities                33218\n",
       "hospital_beds_per_thousand            11458\n",
       "life_expectancy                        1058\n",
       "human_development_index                8147\n",
       "dtype: int64"
      ]
     },
     "execution_count": 124,
     "metadata": {},
     "output_type": "execute_result"
    }
   ],
   "source": [
    "da.isnull().sum()\n"
   ]
  },
  {
   "cell_type": "code",
   "execution_count": 125,
   "id": "81f383ad",
   "metadata": {},
   "outputs": [
    {
     "data": {
      "text/plain": [
       "0.033"
      ]
     },
     "execution_count": 125,
     "metadata": {},
     "output_type": "execute_result"
    }
   ],
   "source": [
    "da[\"positive_rate\"].median()\n",
    "\n"
   ]
  },
  {
   "cell_type": "code",
   "execution_count": 126,
   "id": "5cccb7cb",
   "metadata": {},
   "outputs": [
    {
     "data": {
      "text/plain": [
       "0        0.033\n",
       "1        0.033\n",
       "2        0.033\n",
       "3        0.033\n",
       "4        0.033\n",
       "         ...  \n",
       "57389    0.033\n",
       "57390    0.033\n",
       "57391    0.033\n",
       "57392    0.033\n",
       "57393    0.033\n",
       "Name: positive_rate, Length: 57394, dtype: float64"
      ]
     },
     "execution_count": 126,
     "metadata": {},
     "output_type": "execute_result"
    }
   ],
   "source": [
    "da[\"positive_rate\"]=da[\"positive_rate\"].fillna(da[\"positive_rate\"].median())\n",
    "da[\"positive_rate\"]\n",
    "\n",
    "\n"
   ]
  },
  {
   "cell_type": "code",
   "execution_count": 127,
   "id": "2d125c2b",
   "metadata": {},
   "outputs": [
    {
     "data": {
      "text/plain": [
       "iso_code                                  0\n",
       "continent                                 0\n",
       "location                                  0\n",
       "date                                      0\n",
       "total_cases                               0\n",
       "new_cases                                 0\n",
       "new_cases_smoothed                        0\n",
       "total_deaths                              0\n",
       "new_deaths                                0\n",
       "new_deaths_smoothed                       0\n",
       "total_cases_per_million                   0\n",
       "new_cases_per_million                     0\n",
       "new_cases_smoothed_per_million            0\n",
       "total_deaths_per_million                  0\n",
       "new_deaths_per_million                    0\n",
       "new_deaths_smoothed_per_million           0\n",
       "reproduction_rate                         0\n",
       "icu_patients                              0\n",
       "icu_patients_per_million                  0\n",
       "hosp_patients                             0\n",
       "hosp_patients_per_million                 0\n",
       "weekly_icu_admissions                     0\n",
       "weekly_icu_admissions_per_million         0\n",
       "weekly_hosp_admissions                    0\n",
       "weekly_hosp_admissions_per_million        0\n",
       "total_tests                               0\n",
       "new_tests                                 0\n",
       "total_tests_per_thousand                  0\n",
       "new_tests_per_thousand                    0\n",
       "new_tests_smoothed                        0\n",
       "new_tests_smoothed_per_thousand           0\n",
       "tests_per_case                            0\n",
       "positive_rate                             0\n",
       "stringency_index                       9547\n",
       "population                              323\n",
       "population_density                     3023\n",
       "median_age                             6360\n",
       "aged_65_older                          7129\n",
       "aged_70_older                          6626\n",
       "gdp_per_capita                         7027\n",
       "extreme_poverty                       23823\n",
       "cardiovasc_death_rate                  6381\n",
       "diabetes_prevalence                    4513\n",
       "female_smokers                        17725\n",
       "male_smokers                          18238\n",
       "handwashing_facilities                33218\n",
       "hospital_beds_per_thousand            11458\n",
       "life_expectancy                        1058\n",
       "human_development_index                8147\n",
       "dtype: int64"
      ]
     },
     "execution_count": 127,
     "metadata": {},
     "output_type": "execute_result"
    }
   ],
   "source": [
    "da.isnull().sum()\n"
   ]
  },
  {
   "cell_type": "code",
   "execution_count": 128,
   "id": "64fee9b7",
   "metadata": {},
   "outputs": [
    {
     "data": {
      "text/plain": [
       "60.65"
      ]
     },
     "execution_count": 128,
     "metadata": {},
     "output_type": "execute_result"
    }
   ],
   "source": [
    "da[\"stringency_index\"].median()\n",
    "\n"
   ]
  },
  {
   "cell_type": "code",
   "execution_count": 129,
   "id": "245013d5",
   "metadata": {},
   "outputs": [
    {
     "data": {
      "text/plain": [
       "0        60.65\n",
       "1         0.00\n",
       "2         0.00\n",
       "3         0.00\n",
       "4         0.00\n",
       "         ...  \n",
       "57389    60.65\n",
       "57390    60.65\n",
       "57391    60.65\n",
       "57392    60.65\n",
       "57393    60.65\n",
       "Name: stringency_index, Length: 57394, dtype: float64"
      ]
     },
     "execution_count": 129,
     "metadata": {},
     "output_type": "execute_result"
    }
   ],
   "source": [
    "da[\"stringency_index\"]=da[\"stringency_index\"].fillna(da[\"stringency_index\"].median())\n",
    "da[\"stringency_index\"]\n",
    "\n",
    "\n"
   ]
  },
  {
   "cell_type": "code",
   "execution_count": 130,
   "id": "05382361",
   "metadata": {},
   "outputs": [
    {
     "data": {
      "text/plain": [
       "iso_code                                  0\n",
       "continent                                 0\n",
       "location                                  0\n",
       "date                                      0\n",
       "total_cases                               0\n",
       "new_cases                                 0\n",
       "new_cases_smoothed                        0\n",
       "total_deaths                              0\n",
       "new_deaths                                0\n",
       "new_deaths_smoothed                       0\n",
       "total_cases_per_million                   0\n",
       "new_cases_per_million                     0\n",
       "new_cases_smoothed_per_million            0\n",
       "total_deaths_per_million                  0\n",
       "new_deaths_per_million                    0\n",
       "new_deaths_smoothed_per_million           0\n",
       "reproduction_rate                         0\n",
       "icu_patients                              0\n",
       "icu_patients_per_million                  0\n",
       "hosp_patients                             0\n",
       "hosp_patients_per_million                 0\n",
       "weekly_icu_admissions                     0\n",
       "weekly_icu_admissions_per_million         0\n",
       "weekly_hosp_admissions                    0\n",
       "weekly_hosp_admissions_per_million        0\n",
       "total_tests                               0\n",
       "new_tests                                 0\n",
       "total_tests_per_thousand                  0\n",
       "new_tests_per_thousand                    0\n",
       "new_tests_smoothed                        0\n",
       "new_tests_smoothed_per_thousand           0\n",
       "tests_per_case                            0\n",
       "positive_rate                             0\n",
       "stringency_index                          0\n",
       "population                              323\n",
       "population_density                     3023\n",
       "median_age                             6360\n",
       "aged_65_older                          7129\n",
       "aged_70_older                          6626\n",
       "gdp_per_capita                         7027\n",
       "extreme_poverty                       23823\n",
       "cardiovasc_death_rate                  6381\n",
       "diabetes_prevalence                    4513\n",
       "female_smokers                        17725\n",
       "male_smokers                          18238\n",
       "handwashing_facilities                33218\n",
       "hospital_beds_per_thousand            11458\n",
       "life_expectancy                        1058\n",
       "human_development_index                8147\n",
       "dtype: int64"
      ]
     },
     "execution_count": 130,
     "metadata": {},
     "output_type": "execute_result"
    }
   ],
   "source": [
    "da.isnull().sum()\n"
   ]
  },
  {
   "cell_type": "code",
   "execution_count": 131,
   "id": "4fb693bc",
   "metadata": {},
   "outputs": [
    {
     "data": {
      "text/plain": [
       "8278737.0"
      ]
     },
     "execution_count": 131,
     "metadata": {},
     "output_type": "execute_result"
    }
   ],
   "source": [
    "da[\"population\"].median()\n",
    "\n"
   ]
  },
  {
   "cell_type": "code",
   "execution_count": 132,
   "id": "431a4124",
   "metadata": {},
   "outputs": [
    {
     "data": {
      "text/plain": [
       "0        38928341.0\n",
       "1        38928341.0\n",
       "2        38928341.0\n",
       "3        38928341.0\n",
       "4        38928341.0\n",
       "            ...    \n",
       "57389     8278737.0\n",
       "57390     8278737.0\n",
       "57391     8278737.0\n",
       "57392     8278737.0\n",
       "57393     8278737.0\n",
       "Name: population, Length: 57394, dtype: float64"
      ]
     },
     "execution_count": 132,
     "metadata": {},
     "output_type": "execute_result"
    }
   ],
   "source": [
    "da[\"population\"]=da[\"population\"].fillna(da[\"population\"].median())\n",
    "da[\"population\"]\n"
   ]
  },
  {
   "cell_type": "code",
   "execution_count": 133,
   "id": "5be039de",
   "metadata": {},
   "outputs": [
    {
     "data": {
      "text/plain": [
       "iso_code                                  0\n",
       "continent                                 0\n",
       "location                                  0\n",
       "date                                      0\n",
       "total_cases                               0\n",
       "new_cases                                 0\n",
       "new_cases_smoothed                        0\n",
       "total_deaths                              0\n",
       "new_deaths                                0\n",
       "new_deaths_smoothed                       0\n",
       "total_cases_per_million                   0\n",
       "new_cases_per_million                     0\n",
       "new_cases_smoothed_per_million            0\n",
       "total_deaths_per_million                  0\n",
       "new_deaths_per_million                    0\n",
       "new_deaths_smoothed_per_million           0\n",
       "reproduction_rate                         0\n",
       "icu_patients                              0\n",
       "icu_patients_per_million                  0\n",
       "hosp_patients                             0\n",
       "hosp_patients_per_million                 0\n",
       "weekly_icu_admissions                     0\n",
       "weekly_icu_admissions_per_million         0\n",
       "weekly_hosp_admissions                    0\n",
       "weekly_hosp_admissions_per_million        0\n",
       "total_tests                               0\n",
       "new_tests                                 0\n",
       "total_tests_per_thousand                  0\n",
       "new_tests_per_thousand                    0\n",
       "new_tests_smoothed                        0\n",
       "new_tests_smoothed_per_thousand           0\n",
       "tests_per_case                            0\n",
       "positive_rate                             0\n",
       "stringency_index                          0\n",
       "population                                0\n",
       "population_density                     3023\n",
       "median_age                             6360\n",
       "aged_65_older                          7129\n",
       "aged_70_older                          6626\n",
       "gdp_per_capita                         7027\n",
       "extreme_poverty                       23823\n",
       "cardiovasc_death_rate                  6381\n",
       "diabetes_prevalence                    4513\n",
       "female_smokers                        17725\n",
       "male_smokers                          18238\n",
       "handwashing_facilities                33218\n",
       "hospital_beds_per_thousand            11458\n",
       "life_expectancy                        1058\n",
       "human_development_index                8147\n",
       "dtype: int64"
      ]
     },
     "execution_count": 133,
     "metadata": {},
     "output_type": "execute_result"
    }
   ],
   "source": [
    "\n",
    "da.isnull().sum()\n"
   ]
  },
  {
   "cell_type": "code",
   "execution_count": 134,
   "id": "5f9d9197",
   "metadata": {},
   "outputs": [
    {
     "data": {
      "text/plain": [
       "88.125"
      ]
     },
     "execution_count": 134,
     "metadata": {},
     "output_type": "execute_result"
    }
   ],
   "source": [
    "da[\"population_density\"].median()\n",
    "\n"
   ]
  },
  {
   "cell_type": "code",
   "execution_count": 135,
   "id": "a77cb6fc",
   "metadata": {},
   "outputs": [
    {
     "data": {
      "text/plain": [
       "0        54.422\n",
       "1        54.422\n",
       "2        54.422\n",
       "3        54.422\n",
       "4        54.422\n",
       "          ...  \n",
       "57389    88.125\n",
       "57390    88.125\n",
       "57391    88.125\n",
       "57392    88.125\n",
       "57393    88.125\n",
       "Name: population_density, Length: 57394, dtype: float64"
      ]
     },
     "execution_count": 135,
     "metadata": {},
     "output_type": "execute_result"
    }
   ],
   "source": [
    "da[\"population_density\"]=da[\"population_density\"].fillna(da[\"population_density\"].median())\n",
    "da[\"population_density\"]\n",
    "\n"
   ]
  },
  {
   "cell_type": "code",
   "execution_count": 136,
   "id": "0bbfb35f",
   "metadata": {},
   "outputs": [
    {
     "data": {
      "text/plain": [
       "iso_code                                  0\n",
       "continent                                 0\n",
       "location                                  0\n",
       "date                                      0\n",
       "total_cases                               0\n",
       "new_cases                                 0\n",
       "new_cases_smoothed                        0\n",
       "total_deaths                              0\n",
       "new_deaths                                0\n",
       "new_deaths_smoothed                       0\n",
       "total_cases_per_million                   0\n",
       "new_cases_per_million                     0\n",
       "new_cases_smoothed_per_million            0\n",
       "total_deaths_per_million                  0\n",
       "new_deaths_per_million                    0\n",
       "new_deaths_smoothed_per_million           0\n",
       "reproduction_rate                         0\n",
       "icu_patients                              0\n",
       "icu_patients_per_million                  0\n",
       "hosp_patients                             0\n",
       "hosp_patients_per_million                 0\n",
       "weekly_icu_admissions                     0\n",
       "weekly_icu_admissions_per_million         0\n",
       "weekly_hosp_admissions                    0\n",
       "weekly_hosp_admissions_per_million        0\n",
       "total_tests                               0\n",
       "new_tests                                 0\n",
       "total_tests_per_thousand                  0\n",
       "new_tests_per_thousand                    0\n",
       "new_tests_smoothed                        0\n",
       "new_tests_smoothed_per_thousand           0\n",
       "tests_per_case                            0\n",
       "positive_rate                             0\n",
       "stringency_index                          0\n",
       "population                                0\n",
       "population_density                        0\n",
       "median_age                             6360\n",
       "aged_65_older                          7129\n",
       "aged_70_older                          6626\n",
       "gdp_per_capita                         7027\n",
       "extreme_poverty                       23823\n",
       "cardiovasc_death_rate                  6381\n",
       "diabetes_prevalence                    4513\n",
       "female_smokers                        17725\n",
       "male_smokers                          18238\n",
       "handwashing_facilities                33218\n",
       "hospital_beds_per_thousand            11458\n",
       "life_expectancy                        1058\n",
       "human_development_index                8147\n",
       "dtype: int64"
      ]
     },
     "execution_count": 136,
     "metadata": {},
     "output_type": "execute_result"
    }
   ],
   "source": [
    "da.isnull().sum()\n"
   ]
  },
  {
   "cell_type": "code",
   "execution_count": 137,
   "id": "bc37c56e",
   "metadata": {},
   "outputs": [
    {
     "data": {
      "text/plain": [
       "31.1"
      ]
     },
     "execution_count": 137,
     "metadata": {},
     "output_type": "execute_result"
    }
   ],
   "source": [
    "da[\"median_age\"].median()\n",
    "\n"
   ]
  },
  {
   "cell_type": "code",
   "execution_count": 138,
   "id": "db5824f3",
   "metadata": {},
   "outputs": [
    {
     "data": {
      "text/plain": [
       "0        18.6\n",
       "1        18.6\n",
       "2        18.6\n",
       "3        18.6\n",
       "4        18.6\n",
       "         ... \n",
       "57389    31.1\n",
       "57390    31.1\n",
       "57391    31.1\n",
       "57392    31.1\n",
       "57393    31.1\n",
       "Name: median_age, Length: 57394, dtype: float64"
      ]
     },
     "execution_count": 138,
     "metadata": {},
     "output_type": "execute_result"
    }
   ],
   "source": [
    "da[\"median_age\"]=da[\"median_age\"].fillna(da[\"median_age\"].median())\n",
    "da[\"median_age\"]\n",
    "\n",
    "\n"
   ]
  },
  {
   "cell_type": "code",
   "execution_count": 139,
   "id": "40bc3c3f",
   "metadata": {},
   "outputs": [
    {
     "data": {
      "text/plain": [
       "iso_code                                  0\n",
       "continent                                 0\n",
       "location                                  0\n",
       "date                                      0\n",
       "total_cases                               0\n",
       "new_cases                                 0\n",
       "new_cases_smoothed                        0\n",
       "total_deaths                              0\n",
       "new_deaths                                0\n",
       "new_deaths_smoothed                       0\n",
       "total_cases_per_million                   0\n",
       "new_cases_per_million                     0\n",
       "new_cases_smoothed_per_million            0\n",
       "total_deaths_per_million                  0\n",
       "new_deaths_per_million                    0\n",
       "new_deaths_smoothed_per_million           0\n",
       "reproduction_rate                         0\n",
       "icu_patients                              0\n",
       "icu_patients_per_million                  0\n",
       "hosp_patients                             0\n",
       "hosp_patients_per_million                 0\n",
       "weekly_icu_admissions                     0\n",
       "weekly_icu_admissions_per_million         0\n",
       "weekly_hosp_admissions                    0\n",
       "weekly_hosp_admissions_per_million        0\n",
       "total_tests                               0\n",
       "new_tests                                 0\n",
       "total_tests_per_thousand                  0\n",
       "new_tests_per_thousand                    0\n",
       "new_tests_smoothed                        0\n",
       "new_tests_smoothed_per_thousand           0\n",
       "tests_per_case                            0\n",
       "positive_rate                             0\n",
       "stringency_index                          0\n",
       "population                                0\n",
       "population_density                        0\n",
       "median_age                                0\n",
       "aged_65_older                          7129\n",
       "aged_70_older                          6626\n",
       "gdp_per_capita                         7027\n",
       "extreme_poverty                       23823\n",
       "cardiovasc_death_rate                  6381\n",
       "diabetes_prevalence                    4513\n",
       "female_smokers                        17725\n",
       "male_smokers                          18238\n",
       "handwashing_facilities                33218\n",
       "hospital_beds_per_thousand            11458\n",
       "life_expectancy                        1058\n",
       "human_development_index                8147\n",
       "dtype: int64"
      ]
     },
     "execution_count": 139,
     "metadata": {},
     "output_type": "execute_result"
    }
   ],
   "source": [
    "da.isnull().sum()\n"
   ]
  },
  {
   "cell_type": "code",
   "execution_count": 140,
   "id": "35169fad",
   "metadata": {},
   "outputs": [
    {
     "data": {
      "text/plain": [
       "6.933"
      ]
     },
     "execution_count": 140,
     "metadata": {},
     "output_type": "execute_result"
    }
   ],
   "source": [
    "\n",
    "da[\"aged_65_older\"].median()\n",
    "\n"
   ]
  },
  {
   "cell_type": "code",
   "execution_count": 141,
   "id": "30c723d3",
   "metadata": {},
   "outputs": [
    {
     "data": {
      "text/plain": [
       "0        2.581\n",
       "1        2.581\n",
       "2        2.581\n",
       "3        2.581\n",
       "4        2.581\n",
       "         ...  \n",
       "57389    6.933\n",
       "57390    6.933\n",
       "57391    6.933\n",
       "57392    6.933\n",
       "57393    6.933\n",
       "Name: aged_65_older, Length: 57394, dtype: float64"
      ]
     },
     "execution_count": 141,
     "metadata": {},
     "output_type": "execute_result"
    }
   ],
   "source": [
    "da[\"aged_65_older\"]=da[\"aged_65_older\"].fillna(da[\"aged_65_older\"].median())\n",
    "da[\"aged_65_older\"]\n",
    "\n"
   ]
  },
  {
   "cell_type": "code",
   "execution_count": 142,
   "id": "36febdd5",
   "metadata": {},
   "outputs": [
    {
     "data": {
      "text/plain": [
       "iso_code                                  0\n",
       "continent                                 0\n",
       "location                                  0\n",
       "date                                      0\n",
       "total_cases                               0\n",
       "new_cases                                 0\n",
       "new_cases_smoothed                        0\n",
       "total_deaths                              0\n",
       "new_deaths                                0\n",
       "new_deaths_smoothed                       0\n",
       "total_cases_per_million                   0\n",
       "new_cases_per_million                     0\n",
       "new_cases_smoothed_per_million            0\n",
       "total_deaths_per_million                  0\n",
       "new_deaths_per_million                    0\n",
       "new_deaths_smoothed_per_million           0\n",
       "reproduction_rate                         0\n",
       "icu_patients                              0\n",
       "icu_patients_per_million                  0\n",
       "hosp_patients                             0\n",
       "hosp_patients_per_million                 0\n",
       "weekly_icu_admissions                     0\n",
       "weekly_icu_admissions_per_million         0\n",
       "weekly_hosp_admissions                    0\n",
       "weekly_hosp_admissions_per_million        0\n",
       "total_tests                               0\n",
       "new_tests                                 0\n",
       "total_tests_per_thousand                  0\n",
       "new_tests_per_thousand                    0\n",
       "new_tests_smoothed                        0\n",
       "new_tests_smoothed_per_thousand           0\n",
       "tests_per_case                            0\n",
       "positive_rate                             0\n",
       "stringency_index                          0\n",
       "population                                0\n",
       "population_density                        0\n",
       "median_age                                0\n",
       "aged_65_older                             0\n",
       "aged_70_older                          6626\n",
       "gdp_per_capita                         7027\n",
       "extreme_poverty                       23823\n",
       "cardiovasc_death_rate                  6381\n",
       "diabetes_prevalence                    4513\n",
       "female_smokers                        17725\n",
       "male_smokers                          18238\n",
       "handwashing_facilities                33218\n",
       "hospital_beds_per_thousand            11458\n",
       "life_expectancy                        1058\n",
       "human_development_index                8147\n",
       "dtype: int64"
      ]
     },
     "execution_count": 142,
     "metadata": {},
     "output_type": "execute_result"
    }
   ],
   "source": [
    "da.isnull().sum()\n"
   ]
  },
  {
   "cell_type": "code",
   "execution_count": 143,
   "id": "fb7daefe",
   "metadata": {},
   "outputs": [
    {
     "data": {
      "text/plain": [
       "4.393"
      ]
     },
     "execution_count": 143,
     "metadata": {},
     "output_type": "execute_result"
    }
   ],
   "source": [
    "\n",
    "da[\"aged_70_older\"].median()\n",
    "\n"
   ]
  },
  {
   "cell_type": "code",
   "execution_count": 144,
   "id": "64807dd5",
   "metadata": {},
   "outputs": [
    {
     "data": {
      "text/plain": [
       "0        1.337\n",
       "1        1.337\n",
       "2        1.337\n",
       "3        1.337\n",
       "4        1.337\n",
       "         ...  \n",
       "57389    4.393\n",
       "57390    4.393\n",
       "57391    4.393\n",
       "57392    4.393\n",
       "57393    4.393\n",
       "Name: aged_70_older, Length: 57394, dtype: float64"
      ]
     },
     "execution_count": 144,
     "metadata": {},
     "output_type": "execute_result"
    }
   ],
   "source": [
    "da[\"aged_70_older\"]=da[\"aged_70_older\"].fillna(da[\"aged_70_older\"].median())\n",
    "da[\"aged_70_older\"]\n",
    "\n"
   ]
  },
  {
   "cell_type": "code",
   "execution_count": 145,
   "id": "705454e6",
   "metadata": {},
   "outputs": [
    {
     "data": {
      "text/plain": [
       "iso_code                                  0\n",
       "continent                                 0\n",
       "location                                  0\n",
       "date                                      0\n",
       "total_cases                               0\n",
       "new_cases                                 0\n",
       "new_cases_smoothed                        0\n",
       "total_deaths                              0\n",
       "new_deaths                                0\n",
       "new_deaths_smoothed                       0\n",
       "total_cases_per_million                   0\n",
       "new_cases_per_million                     0\n",
       "new_cases_smoothed_per_million            0\n",
       "total_deaths_per_million                  0\n",
       "new_deaths_per_million                    0\n",
       "new_deaths_smoothed_per_million           0\n",
       "reproduction_rate                         0\n",
       "icu_patients                              0\n",
       "icu_patients_per_million                  0\n",
       "hosp_patients                             0\n",
       "hosp_patients_per_million                 0\n",
       "weekly_icu_admissions                     0\n",
       "weekly_icu_admissions_per_million         0\n",
       "weekly_hosp_admissions                    0\n",
       "weekly_hosp_admissions_per_million        0\n",
       "total_tests                               0\n",
       "new_tests                                 0\n",
       "total_tests_per_thousand                  0\n",
       "new_tests_per_thousand                    0\n",
       "new_tests_smoothed                        0\n",
       "new_tests_smoothed_per_thousand           0\n",
       "tests_per_case                            0\n",
       "positive_rate                             0\n",
       "stringency_index                          0\n",
       "population                                0\n",
       "population_density                        0\n",
       "median_age                                0\n",
       "aged_65_older                             0\n",
       "aged_70_older                             0\n",
       "gdp_per_capita                         7027\n",
       "extreme_poverty                       23823\n",
       "cardiovasc_death_rate                  6381\n",
       "diabetes_prevalence                    4513\n",
       "female_smokers                        17725\n",
       "male_smokers                          18238\n",
       "handwashing_facilities                33218\n",
       "hospital_beds_per_thousand            11458\n",
       "life_expectancy                        1058\n",
       "human_development_index                8147\n",
       "dtype: int64"
      ]
     },
     "execution_count": 145,
     "metadata": {},
     "output_type": "execute_result"
    }
   ],
   "source": [
    "da.isnull().sum()\n"
   ]
  },
  {
   "cell_type": "code",
   "execution_count": 146,
   "id": "c452c9bc",
   "metadata": {},
   "outputs": [
    {
     "data": {
      "text/plain": [
       "13913.839"
      ]
     },
     "execution_count": 146,
     "metadata": {},
     "output_type": "execute_result"
    }
   ],
   "source": [
    "da[\"gdp_per_capita\"].median()\n",
    "\n"
   ]
  },
  {
   "cell_type": "code",
   "execution_count": 147,
   "id": "4aa8f708",
   "metadata": {},
   "outputs": [
    {
     "data": {
      "text/plain": [
       "0         1803.987\n",
       "1         1803.987\n",
       "2         1803.987\n",
       "3         1803.987\n",
       "4         1803.987\n",
       "           ...    \n",
       "57389    13913.839\n",
       "57390    13913.839\n",
       "57391    13913.839\n",
       "57392    13913.839\n",
       "57393    13913.839\n",
       "Name: gdp_per_capita, Length: 57394, dtype: float64"
      ]
     },
     "execution_count": 147,
     "metadata": {},
     "output_type": "execute_result"
    }
   ],
   "source": [
    "da[\"gdp_per_capita\"]=da[\"gdp_per_capita\"].fillna(da[\"gdp_per_capita\"].median())\n",
    "da[\"gdp_per_capita\"]\n"
   ]
  },
  {
   "cell_type": "code",
   "execution_count": 148,
   "id": "abbef341",
   "metadata": {},
   "outputs": [
    {
     "data": {
      "text/plain": [
       "iso_code                                  0\n",
       "continent                                 0\n",
       "location                                  0\n",
       "date                                      0\n",
       "total_cases                               0\n",
       "new_cases                                 0\n",
       "new_cases_smoothed                        0\n",
       "total_deaths                              0\n",
       "new_deaths                                0\n",
       "new_deaths_smoothed                       0\n",
       "total_cases_per_million                   0\n",
       "new_cases_per_million                     0\n",
       "new_cases_smoothed_per_million            0\n",
       "total_deaths_per_million                  0\n",
       "new_deaths_per_million                    0\n",
       "new_deaths_smoothed_per_million           0\n",
       "reproduction_rate                         0\n",
       "icu_patients                              0\n",
       "icu_patients_per_million                  0\n",
       "hosp_patients                             0\n",
       "hosp_patients_per_million                 0\n",
       "weekly_icu_admissions                     0\n",
       "weekly_icu_admissions_per_million         0\n",
       "weekly_hosp_admissions                    0\n",
       "weekly_hosp_admissions_per_million        0\n",
       "total_tests                               0\n",
       "new_tests                                 0\n",
       "total_tests_per_thousand                  0\n",
       "new_tests_per_thousand                    0\n",
       "new_tests_smoothed                        0\n",
       "new_tests_smoothed_per_thousand           0\n",
       "tests_per_case                            0\n",
       "positive_rate                             0\n",
       "stringency_index                          0\n",
       "population                                0\n",
       "population_density                        0\n",
       "median_age                                0\n",
       "aged_65_older                             0\n",
       "aged_70_older                             0\n",
       "gdp_per_capita                            0\n",
       "extreme_poverty                       23823\n",
       "cardiovasc_death_rate                  6381\n",
       "diabetes_prevalence                    4513\n",
       "female_smokers                        17725\n",
       "male_smokers                          18238\n",
       "handwashing_facilities                33218\n",
       "hospital_beds_per_thousand            11458\n",
       "life_expectancy                        1058\n",
       "human_development_index                8147\n",
       "dtype: int64"
      ]
     },
     "execution_count": 148,
     "metadata": {},
     "output_type": "execute_result"
    }
   ],
   "source": [
    "da.isnull().sum()\n"
   ]
  },
  {
   "cell_type": "code",
   "execution_count": 149,
   "id": "2df5c78f",
   "metadata": {},
   "outputs": [
    {
     "data": {
      "text/plain": [
       "2.0"
      ]
     },
     "execution_count": 149,
     "metadata": {},
     "output_type": "execute_result"
    }
   ],
   "source": [
    "da[\"extreme_poverty\"].median()\n",
    "\n"
   ]
  },
  {
   "cell_type": "code",
   "execution_count": 150,
   "id": "15c58db5",
   "metadata": {},
   "outputs": [
    {
     "data": {
      "text/plain": [
       "0        2.0\n",
       "1        2.0\n",
       "2        2.0\n",
       "3        2.0\n",
       "4        2.0\n",
       "        ... \n",
       "57389    2.0\n",
       "57390    2.0\n",
       "57391    2.0\n",
       "57392    2.0\n",
       "57393    2.0\n",
       "Name: extreme_poverty, Length: 57394, dtype: float64"
      ]
     },
     "execution_count": 150,
     "metadata": {},
     "output_type": "execute_result"
    }
   ],
   "source": [
    "da[\"extreme_poverty\"]=da[\"extreme_poverty\"].fillna(da[\"extreme_poverty\"].median())\n",
    "da[\"extreme_poverty\"]\n"
   ]
  },
  {
   "cell_type": "code",
   "execution_count": 151,
   "id": "54349598",
   "metadata": {},
   "outputs": [
    {
     "data": {
      "text/plain": [
       "iso_code                                  0\n",
       "continent                                 0\n",
       "location                                  0\n",
       "date                                      0\n",
       "total_cases                               0\n",
       "new_cases                                 0\n",
       "new_cases_smoothed                        0\n",
       "total_deaths                              0\n",
       "new_deaths                                0\n",
       "new_deaths_smoothed                       0\n",
       "total_cases_per_million                   0\n",
       "new_cases_per_million                     0\n",
       "new_cases_smoothed_per_million            0\n",
       "total_deaths_per_million                  0\n",
       "new_deaths_per_million                    0\n",
       "new_deaths_smoothed_per_million           0\n",
       "reproduction_rate                         0\n",
       "icu_patients                              0\n",
       "icu_patients_per_million                  0\n",
       "hosp_patients                             0\n",
       "hosp_patients_per_million                 0\n",
       "weekly_icu_admissions                     0\n",
       "weekly_icu_admissions_per_million         0\n",
       "weekly_hosp_admissions                    0\n",
       "weekly_hosp_admissions_per_million        0\n",
       "total_tests                               0\n",
       "new_tests                                 0\n",
       "total_tests_per_thousand                  0\n",
       "new_tests_per_thousand                    0\n",
       "new_tests_smoothed                        0\n",
       "new_tests_smoothed_per_thousand           0\n",
       "tests_per_case                            0\n",
       "positive_rate                             0\n",
       "stringency_index                          0\n",
       "population                                0\n",
       "population_density                        0\n",
       "median_age                                0\n",
       "aged_65_older                             0\n",
       "aged_70_older                             0\n",
       "gdp_per_capita                            0\n",
       "extreme_poverty                           0\n",
       "cardiovasc_death_rate                  6381\n",
       "diabetes_prevalence                    4513\n",
       "female_smokers                        17725\n",
       "male_smokers                          18238\n",
       "handwashing_facilities                33218\n",
       "hospital_beds_per_thousand            11458\n",
       "life_expectancy                        1058\n",
       "human_development_index                8147\n",
       "dtype: int64"
      ]
     },
     "execution_count": 151,
     "metadata": {},
     "output_type": "execute_result"
    }
   ],
   "source": [
    "da.isnull().sum()\n"
   ]
  },
  {
   "cell_type": "code",
   "execution_count": 152,
   "id": "fdfd74df",
   "metadata": {},
   "outputs": [
    {
     "data": {
      "text/plain": [
       "238.339"
      ]
     },
     "execution_count": 152,
     "metadata": {},
     "output_type": "execute_result"
    }
   ],
   "source": [
    "da[\"cardiovasc_death_rate\"].median()\n",
    "\n"
   ]
  },
  {
   "cell_type": "code",
   "execution_count": 153,
   "id": "78d1a3d5",
   "metadata": {},
   "outputs": [
    {
     "data": {
      "text/plain": [
       "0        597.029\n",
       "1        597.029\n",
       "2        597.029\n",
       "3        597.029\n",
       "4        597.029\n",
       "          ...   \n",
       "57389    238.339\n",
       "57390    238.339\n",
       "57391    238.339\n",
       "57392    238.339\n",
       "57393    238.339\n",
       "Name: cardiovasc_death_rate, Length: 57394, dtype: float64"
      ]
     },
     "execution_count": 153,
     "metadata": {},
     "output_type": "execute_result"
    }
   ],
   "source": [
    "da[\"cardiovasc_death_rate\"]=da[\"cardiovasc_death_rate\"].fillna(da[\"cardiovasc_death_rate\"].median())\n",
    "da[\"cardiovasc_death_rate\"] \n",
    "\n"
   ]
  },
  {
   "cell_type": "code",
   "execution_count": 154,
   "id": "183ce0d4",
   "metadata": {},
   "outputs": [
    {
     "data": {
      "text/plain": [
       "iso_code                                  0\n",
       "continent                                 0\n",
       "location                                  0\n",
       "date                                      0\n",
       "total_cases                               0\n",
       "new_cases                                 0\n",
       "new_cases_smoothed                        0\n",
       "total_deaths                              0\n",
       "new_deaths                                0\n",
       "new_deaths_smoothed                       0\n",
       "total_cases_per_million                   0\n",
       "new_cases_per_million                     0\n",
       "new_cases_smoothed_per_million            0\n",
       "total_deaths_per_million                  0\n",
       "new_deaths_per_million                    0\n",
       "new_deaths_smoothed_per_million           0\n",
       "reproduction_rate                         0\n",
       "icu_patients                              0\n",
       "icu_patients_per_million                  0\n",
       "hosp_patients                             0\n",
       "hosp_patients_per_million                 0\n",
       "weekly_icu_admissions                     0\n",
       "weekly_icu_admissions_per_million         0\n",
       "weekly_hosp_admissions                    0\n",
       "weekly_hosp_admissions_per_million        0\n",
       "total_tests                               0\n",
       "new_tests                                 0\n",
       "total_tests_per_thousand                  0\n",
       "new_tests_per_thousand                    0\n",
       "new_tests_smoothed                        0\n",
       "new_tests_smoothed_per_thousand           0\n",
       "tests_per_case                            0\n",
       "positive_rate                             0\n",
       "stringency_index                          0\n",
       "population                                0\n",
       "population_density                        0\n",
       "median_age                                0\n",
       "aged_65_older                             0\n",
       "aged_70_older                             0\n",
       "gdp_per_capita                            0\n",
       "extreme_poverty                           0\n",
       "cardiovasc_death_rate                     0\n",
       "diabetes_prevalence                    4513\n",
       "female_smokers                        17725\n",
       "male_smokers                          18238\n",
       "handwashing_facilities                33218\n",
       "hospital_beds_per_thousand            11458\n",
       "life_expectancy                        1058\n",
       "human_development_index                8147\n",
       "dtype: int64"
      ]
     },
     "execution_count": 154,
     "metadata": {},
     "output_type": "execute_result"
    }
   ],
   "source": [
    "\n",
    "da.isnull().sum()\n"
   ]
  },
  {
   "cell_type": "code",
   "execution_count": 155,
   "id": "223cb2d2",
   "metadata": {},
   "outputs": [
    {
     "data": {
      "text/plain": [
       "7.11"
      ]
     },
     "execution_count": 155,
     "metadata": {},
     "output_type": "execute_result"
    }
   ],
   "source": [
    "da[\"diabetes_prevalence\"].median()\n",
    "\n"
   ]
  },
  {
   "cell_type": "code",
   "execution_count": 156,
   "id": "e9bb8f4b",
   "metadata": {},
   "outputs": [],
   "source": [
    "da[\"diabetes_prevalence\"]=da[\"diabetes_prevalence\"].fillna(da[\"diabetes_prevalence\"].median())\n",
    "                                                         \n",
    "\n"
   ]
  },
  {
   "cell_type": "code",
   "execution_count": 157,
   "id": "5cc3bcd3",
   "metadata": {},
   "outputs": [
    {
     "data": {
      "text/plain": [
       "iso_code                                  0\n",
       "continent                                 0\n",
       "location                                  0\n",
       "date                                      0\n",
       "total_cases                               0\n",
       "new_cases                                 0\n",
       "new_cases_smoothed                        0\n",
       "total_deaths                              0\n",
       "new_deaths                                0\n",
       "new_deaths_smoothed                       0\n",
       "total_cases_per_million                   0\n",
       "new_cases_per_million                     0\n",
       "new_cases_smoothed_per_million            0\n",
       "total_deaths_per_million                  0\n",
       "new_deaths_per_million                    0\n",
       "new_deaths_smoothed_per_million           0\n",
       "reproduction_rate                         0\n",
       "icu_patients                              0\n",
       "icu_patients_per_million                  0\n",
       "hosp_patients                             0\n",
       "hosp_patients_per_million                 0\n",
       "weekly_icu_admissions                     0\n",
       "weekly_icu_admissions_per_million         0\n",
       "weekly_hosp_admissions                    0\n",
       "weekly_hosp_admissions_per_million        0\n",
       "total_tests                               0\n",
       "new_tests                                 0\n",
       "total_tests_per_thousand                  0\n",
       "new_tests_per_thousand                    0\n",
       "new_tests_smoothed                        0\n",
       "new_tests_smoothed_per_thousand           0\n",
       "tests_per_case                            0\n",
       "positive_rate                             0\n",
       "stringency_index                          0\n",
       "population                                0\n",
       "population_density                        0\n",
       "median_age                                0\n",
       "aged_65_older                             0\n",
       "aged_70_older                             0\n",
       "gdp_per_capita                            0\n",
       "extreme_poverty                           0\n",
       "cardiovasc_death_rate                     0\n",
       "diabetes_prevalence                       0\n",
       "female_smokers                        17725\n",
       "male_smokers                          18238\n",
       "handwashing_facilities                33218\n",
       "hospital_beds_per_thousand            11458\n",
       "life_expectancy                        1058\n",
       "human_development_index                8147\n",
       "dtype: int64"
      ]
     },
     "execution_count": 157,
     "metadata": {},
     "output_type": "execute_result"
    }
   ],
   "source": [
    "da.isnull().sum()"
   ]
  },
  {
   "cell_type": "code",
   "execution_count": 158,
   "id": "84896e2d",
   "metadata": {},
   "outputs": [
    {
     "data": {
      "text/plain": [
       "6.4"
      ]
     },
     "execution_count": 158,
     "metadata": {},
     "output_type": "execute_result"
    }
   ],
   "source": [
    "da[\"female_smokers\"].median()\n",
    "\n"
   ]
  },
  {
   "cell_type": "code",
   "execution_count": 159,
   "id": "8209a20a",
   "metadata": {},
   "outputs": [
    {
     "data": {
      "text/plain": [
       "0        6.4\n",
       "1        6.4\n",
       "2        6.4\n",
       "3        6.4\n",
       "4        6.4\n",
       "        ... \n",
       "57389    6.4\n",
       "57390    6.4\n",
       "57391    6.4\n",
       "57392    6.4\n",
       "57393    6.4\n",
       "Name: female_smokers, Length: 57394, dtype: float64"
      ]
     },
     "execution_count": 159,
     "metadata": {},
     "output_type": "execute_result"
    }
   ],
   "source": [
    "da[\"female_smokers\"]=da[\"female_smokers\"].fillna(da[\"female_smokers\"].median())\n",
    "da[\"female_smokers\"]"
   ]
  },
  {
   "cell_type": "code",
   "execution_count": 160,
   "id": "a0a172da",
   "metadata": {},
   "outputs": [
    {
     "data": {
      "text/plain": [
       "iso_code                                  0\n",
       "continent                                 0\n",
       "location                                  0\n",
       "date                                      0\n",
       "total_cases                               0\n",
       "new_cases                                 0\n",
       "new_cases_smoothed                        0\n",
       "total_deaths                              0\n",
       "new_deaths                                0\n",
       "new_deaths_smoothed                       0\n",
       "total_cases_per_million                   0\n",
       "new_cases_per_million                     0\n",
       "new_cases_smoothed_per_million            0\n",
       "total_deaths_per_million                  0\n",
       "new_deaths_per_million                    0\n",
       "new_deaths_smoothed_per_million           0\n",
       "reproduction_rate                         0\n",
       "icu_patients                              0\n",
       "icu_patients_per_million                  0\n",
       "hosp_patients                             0\n",
       "hosp_patients_per_million                 0\n",
       "weekly_icu_admissions                     0\n",
       "weekly_icu_admissions_per_million         0\n",
       "weekly_hosp_admissions                    0\n",
       "weekly_hosp_admissions_per_million        0\n",
       "total_tests                               0\n",
       "new_tests                                 0\n",
       "total_tests_per_thousand                  0\n",
       "new_tests_per_thousand                    0\n",
       "new_tests_smoothed                        0\n",
       "new_tests_smoothed_per_thousand           0\n",
       "tests_per_case                            0\n",
       "positive_rate                             0\n",
       "stringency_index                          0\n",
       "population                                0\n",
       "population_density                        0\n",
       "median_age                                0\n",
       "aged_65_older                             0\n",
       "aged_70_older                             0\n",
       "gdp_per_capita                            0\n",
       "extreme_poverty                           0\n",
       "cardiovasc_death_rate                     0\n",
       "diabetes_prevalence                       0\n",
       "female_smokers                            0\n",
       "male_smokers                          18238\n",
       "handwashing_facilities                33218\n",
       "hospital_beds_per_thousand            11458\n",
       "life_expectancy                        1058\n",
       "human_development_index                8147\n",
       "dtype: int64"
      ]
     },
     "execution_count": 160,
     "metadata": {},
     "output_type": "execute_result"
    }
   ],
   "source": [
    "da.isnull().sum()\n"
   ]
  },
  {
   "cell_type": "code",
   "execution_count": 161,
   "id": "e50b56c3",
   "metadata": {},
   "outputs": [
    {
     "data": {
      "text/plain": [
       "31.4"
      ]
     },
     "execution_count": 161,
     "metadata": {},
     "output_type": "execute_result"
    }
   ],
   "source": [
    "\n",
    "da[\"male_smokers\"].median()\n",
    "\n"
   ]
  },
  {
   "cell_type": "code",
   "execution_count": 162,
   "id": "e69bdef0",
   "metadata": {},
   "outputs": [
    {
     "data": {
      "text/plain": [
       "0        31.4\n",
       "1        31.4\n",
       "2        31.4\n",
       "3        31.4\n",
       "4        31.4\n",
       "         ... \n",
       "57389    31.4\n",
       "57390    31.4\n",
       "57391    31.4\n",
       "57392    31.4\n",
       "57393    31.4\n",
       "Name: male_smokers, Length: 57394, dtype: float64"
      ]
     },
     "execution_count": 162,
     "metadata": {},
     "output_type": "execute_result"
    }
   ],
   "source": [
    "da[\"male_smokers\"]=da[\"male_smokers\"].fillna(da[\"male_smokers\"].median())\n",
    "da[\"male_smokers\"]"
   ]
  },
  {
   "cell_type": "code",
   "execution_count": 163,
   "id": "30bb3445",
   "metadata": {},
   "outputs": [
    {
     "data": {
      "text/plain": [
       "iso_code                                  0\n",
       "continent                                 0\n",
       "location                                  0\n",
       "date                                      0\n",
       "total_cases                               0\n",
       "new_cases                                 0\n",
       "new_cases_smoothed                        0\n",
       "total_deaths                              0\n",
       "new_deaths                                0\n",
       "new_deaths_smoothed                       0\n",
       "total_cases_per_million                   0\n",
       "new_cases_per_million                     0\n",
       "new_cases_smoothed_per_million            0\n",
       "total_deaths_per_million                  0\n",
       "new_deaths_per_million                    0\n",
       "new_deaths_smoothed_per_million           0\n",
       "reproduction_rate                         0\n",
       "icu_patients                              0\n",
       "icu_patients_per_million                  0\n",
       "hosp_patients                             0\n",
       "hosp_patients_per_million                 0\n",
       "weekly_icu_admissions                     0\n",
       "weekly_icu_admissions_per_million         0\n",
       "weekly_hosp_admissions                    0\n",
       "weekly_hosp_admissions_per_million        0\n",
       "total_tests                               0\n",
       "new_tests                                 0\n",
       "total_tests_per_thousand                  0\n",
       "new_tests_per_thousand                    0\n",
       "new_tests_smoothed                        0\n",
       "new_tests_smoothed_per_thousand           0\n",
       "tests_per_case                            0\n",
       "positive_rate                             0\n",
       "stringency_index                          0\n",
       "population                                0\n",
       "population_density                        0\n",
       "median_age                                0\n",
       "aged_65_older                             0\n",
       "aged_70_older                             0\n",
       "gdp_per_capita                            0\n",
       "extreme_poverty                           0\n",
       "cardiovasc_death_rate                     0\n",
       "diabetes_prevalence                       0\n",
       "female_smokers                            0\n",
       "male_smokers                              0\n",
       "handwashing_facilities                33218\n",
       "hospital_beds_per_thousand            11458\n",
       "life_expectancy                        1058\n",
       "human_development_index                8147\n",
       "dtype: int64"
      ]
     },
     "execution_count": 163,
     "metadata": {},
     "output_type": "execute_result"
    }
   ],
   "source": [
    "da.isnull().sum()\n"
   ]
  },
  {
   "cell_type": "code",
   "execution_count": 164,
   "id": "8cb47ab6",
   "metadata": {},
   "outputs": [
    {
     "data": {
      "text/plain": [
       "52.232"
      ]
     },
     "execution_count": 164,
     "metadata": {},
     "output_type": "execute_result"
    }
   ],
   "source": [
    "da[\"handwashing_facilities\"].median()\n",
    "\n"
   ]
  },
  {
   "cell_type": "code",
   "execution_count": 165,
   "id": "f9204130",
   "metadata": {},
   "outputs": [
    {
     "data": {
      "text/plain": [
       "0        37.746\n",
       "1        37.746\n",
       "2        37.746\n",
       "3        37.746\n",
       "4        37.746\n",
       "          ...  \n",
       "57389    52.232\n",
       "57390    52.232\n",
       "57391    52.232\n",
       "57392    52.232\n",
       "57393    52.232\n",
       "Name: handwashing_facilities, Length: 57394, dtype: float64"
      ]
     },
     "execution_count": 165,
     "metadata": {},
     "output_type": "execute_result"
    }
   ],
   "source": [
    "da[\"handwashing_facilities\"]=da[\"handwashing_facilities\"].fillna(da[\"handwashing_facilities\"].median())\n",
    "da[\"handwashing_facilities\"]"
   ]
  },
  {
   "cell_type": "code",
   "execution_count": 166,
   "id": "7a7bc5d2",
   "metadata": {},
   "outputs": [
    {
     "data": {
      "text/plain": [
       "iso_code                                  0\n",
       "continent                                 0\n",
       "location                                  0\n",
       "date                                      0\n",
       "total_cases                               0\n",
       "new_cases                                 0\n",
       "new_cases_smoothed                        0\n",
       "total_deaths                              0\n",
       "new_deaths                                0\n",
       "new_deaths_smoothed                       0\n",
       "total_cases_per_million                   0\n",
       "new_cases_per_million                     0\n",
       "new_cases_smoothed_per_million            0\n",
       "total_deaths_per_million                  0\n",
       "new_deaths_per_million                    0\n",
       "new_deaths_smoothed_per_million           0\n",
       "reproduction_rate                         0\n",
       "icu_patients                              0\n",
       "icu_patients_per_million                  0\n",
       "hosp_patients                             0\n",
       "hosp_patients_per_million                 0\n",
       "weekly_icu_admissions                     0\n",
       "weekly_icu_admissions_per_million         0\n",
       "weekly_hosp_admissions                    0\n",
       "weekly_hosp_admissions_per_million        0\n",
       "total_tests                               0\n",
       "new_tests                                 0\n",
       "total_tests_per_thousand                  0\n",
       "new_tests_per_thousand                    0\n",
       "new_tests_smoothed                        0\n",
       "new_tests_smoothed_per_thousand           0\n",
       "tests_per_case                            0\n",
       "positive_rate                             0\n",
       "stringency_index                          0\n",
       "population                                0\n",
       "population_density                        0\n",
       "median_age                                0\n",
       "aged_65_older                             0\n",
       "aged_70_older                             0\n",
       "gdp_per_capita                            0\n",
       "extreme_poverty                           0\n",
       "cardiovasc_death_rate                     0\n",
       "diabetes_prevalence                       0\n",
       "female_smokers                            0\n",
       "male_smokers                              0\n",
       "handwashing_facilities                    0\n",
       "hospital_beds_per_thousand            11458\n",
       "life_expectancy                        1058\n",
       "human_development_index                8147\n",
       "dtype: int64"
      ]
     },
     "execution_count": 166,
     "metadata": {},
     "output_type": "execute_result"
    }
   ],
   "source": [
    "da.isnull().sum()\n"
   ]
  },
  {
   "cell_type": "code",
   "execution_count": 167,
   "id": "d885366a",
   "metadata": {},
   "outputs": [
    {
     "data": {
      "text/plain": [
       "2.5"
      ]
     },
     "execution_count": 167,
     "metadata": {},
     "output_type": "execute_result"
    }
   ],
   "source": [
    "da[\"hospital_beds_per_thousand\"].median()\n"
   ]
  },
  {
   "cell_type": "code",
   "execution_count": 168,
   "id": "1c4c2772",
   "metadata": {},
   "outputs": [
    {
     "data": {
      "text/plain": [
       "0        0.5\n",
       "1        0.5\n",
       "2        0.5\n",
       "3        0.5\n",
       "4        0.5\n",
       "        ... \n",
       "57389    2.5\n",
       "57390    2.5\n",
       "57391    2.5\n",
       "57392    2.5\n",
       "57393    2.5\n",
       "Name: hospital_beds_per_thousand, Length: 57394, dtype: float64"
      ]
     },
     "execution_count": 168,
     "metadata": {},
     "output_type": "execute_result"
    }
   ],
   "source": [
    "da[\"hospital_beds_per_thousand\"]=da[\"hospital_beds_per_thousand\"].fillna(da[\"hospital_beds_per_thousand\"].median())\n",
    "da[\"hospital_beds_per_thousand\"]"
   ]
  },
  {
   "cell_type": "code",
   "execution_count": 169,
   "id": "a5ccc6f5",
   "metadata": {},
   "outputs": [
    {
     "data": {
      "text/plain": [
       "iso_code                                 0\n",
       "continent                                0\n",
       "location                                 0\n",
       "date                                     0\n",
       "total_cases                              0\n",
       "new_cases                                0\n",
       "new_cases_smoothed                       0\n",
       "total_deaths                             0\n",
       "new_deaths                               0\n",
       "new_deaths_smoothed                      0\n",
       "total_cases_per_million                  0\n",
       "new_cases_per_million                    0\n",
       "new_cases_smoothed_per_million           0\n",
       "total_deaths_per_million                 0\n",
       "new_deaths_per_million                   0\n",
       "new_deaths_smoothed_per_million          0\n",
       "reproduction_rate                        0\n",
       "icu_patients                             0\n",
       "icu_patients_per_million                 0\n",
       "hosp_patients                            0\n",
       "hosp_patients_per_million                0\n",
       "weekly_icu_admissions                    0\n",
       "weekly_icu_admissions_per_million        0\n",
       "weekly_hosp_admissions                   0\n",
       "weekly_hosp_admissions_per_million       0\n",
       "total_tests                              0\n",
       "new_tests                                0\n",
       "total_tests_per_thousand                 0\n",
       "new_tests_per_thousand                   0\n",
       "new_tests_smoothed                       0\n",
       "new_tests_smoothed_per_thousand          0\n",
       "tests_per_case                           0\n",
       "positive_rate                            0\n",
       "stringency_index                         0\n",
       "population                               0\n",
       "population_density                       0\n",
       "median_age                               0\n",
       "aged_65_older                            0\n",
       "aged_70_older                            0\n",
       "gdp_per_capita                           0\n",
       "extreme_poverty                          0\n",
       "cardiovasc_death_rate                    0\n",
       "diabetes_prevalence                      0\n",
       "female_smokers                           0\n",
       "male_smokers                             0\n",
       "handwashing_facilities                   0\n",
       "hospital_beds_per_thousand               0\n",
       "life_expectancy                       1058\n",
       "human_development_index               8147\n",
       "dtype: int64"
      ]
     },
     "execution_count": 169,
     "metadata": {},
     "output_type": "execute_result"
    }
   ],
   "source": [
    "da.isnull().sum()\n"
   ]
  },
  {
   "cell_type": "code",
   "execution_count": 170,
   "id": "2f394d6e",
   "metadata": {},
   "outputs": [
    {
     "data": {
      "text/plain": [
       "75.345"
      ]
     },
     "execution_count": 170,
     "metadata": {},
     "output_type": "execute_result"
    }
   ],
   "source": [
    "da[\"life_expectancy\"].median()\n",
    "\n",
    "\n"
   ]
  },
  {
   "cell_type": "code",
   "execution_count": 171,
   "id": "2d2ef2ef",
   "metadata": {},
   "outputs": [
    {
     "data": {
      "text/plain": [
       "0        64.830\n",
       "1        64.830\n",
       "2        64.830\n",
       "3        64.830\n",
       "4        64.830\n",
       "          ...  \n",
       "57389    75.345\n",
       "57390    75.345\n",
       "57391    75.345\n",
       "57392    75.345\n",
       "57393    75.345\n",
       "Name: life_expectancy, Length: 57394, dtype: float64"
      ]
     },
     "execution_count": 171,
     "metadata": {},
     "output_type": "execute_result"
    }
   ],
   "source": [
    "da[\"life_expectancy\"]=da[\"life_expectancy\"].fillna(da[\"life_expectancy\"].median())\n",
    "\n",
    "da[\"life_expectancy\"]"
   ]
  },
  {
   "cell_type": "code",
   "execution_count": 172,
   "id": "5b9b698e",
   "metadata": {},
   "outputs": [
    {
     "data": {
      "text/plain": [
       "iso_code                                 0\n",
       "continent                                0\n",
       "location                                 0\n",
       "date                                     0\n",
       "total_cases                              0\n",
       "new_cases                                0\n",
       "new_cases_smoothed                       0\n",
       "total_deaths                             0\n",
       "new_deaths                               0\n",
       "new_deaths_smoothed                      0\n",
       "total_cases_per_million                  0\n",
       "new_cases_per_million                    0\n",
       "new_cases_smoothed_per_million           0\n",
       "total_deaths_per_million                 0\n",
       "new_deaths_per_million                   0\n",
       "new_deaths_smoothed_per_million          0\n",
       "reproduction_rate                        0\n",
       "icu_patients                             0\n",
       "icu_patients_per_million                 0\n",
       "hosp_patients                            0\n",
       "hosp_patients_per_million                0\n",
       "weekly_icu_admissions                    0\n",
       "weekly_icu_admissions_per_million        0\n",
       "weekly_hosp_admissions                   0\n",
       "weekly_hosp_admissions_per_million       0\n",
       "total_tests                              0\n",
       "new_tests                                0\n",
       "total_tests_per_thousand                 0\n",
       "new_tests_per_thousand                   0\n",
       "new_tests_smoothed                       0\n",
       "new_tests_smoothed_per_thousand          0\n",
       "tests_per_case                           0\n",
       "positive_rate                            0\n",
       "stringency_index                         0\n",
       "population                               0\n",
       "population_density                       0\n",
       "median_age                               0\n",
       "aged_65_older                            0\n",
       "aged_70_older                            0\n",
       "gdp_per_capita                           0\n",
       "extreme_poverty                          0\n",
       "cardiovasc_death_rate                    0\n",
       "diabetes_prevalence                      0\n",
       "female_smokers                           0\n",
       "male_smokers                             0\n",
       "handwashing_facilities                   0\n",
       "hospital_beds_per_thousand               0\n",
       "life_expectancy                          0\n",
       "human_development_index               8147\n",
       "dtype: int64"
      ]
     },
     "execution_count": 172,
     "metadata": {},
     "output_type": "execute_result"
    }
   ],
   "source": [
    "\n",
    "da.isnull().sum()\n"
   ]
  },
  {
   "cell_type": "code",
   "execution_count": 173,
   "id": "38f30ea7",
   "metadata": {},
   "outputs": [
    {
     "data": {
      "text/plain": [
       "0.752"
      ]
     },
     "execution_count": 173,
     "metadata": {},
     "output_type": "execute_result"
    }
   ],
   "source": [
    "\n",
    "da[\"human_development_index\"].median()\n",
    "\n"
   ]
  },
  {
   "cell_type": "code",
   "execution_count": 174,
   "id": "caca2b17",
   "metadata": {},
   "outputs": [
    {
     "data": {
      "text/plain": [
       "0        0.498\n",
       "1        0.498\n",
       "2        0.498\n",
       "3        0.498\n",
       "4        0.498\n",
       "         ...  \n",
       "57389    0.752\n",
       "57390    0.752\n",
       "57391    0.752\n",
       "57392    0.752\n",
       "57393    0.752\n",
       "Name: human_development_index, Length: 57394, dtype: float64"
      ]
     },
     "execution_count": 174,
     "metadata": {},
     "output_type": "execute_result"
    }
   ],
   "source": [
    "da[\"human_development_index\"]=da[\"human_development_index\"].fillna(da[\"human_development_index\"].median())\n",
    "\n",
    "da[\"human_development_index\"]"
   ]
  },
  {
   "cell_type": "code",
   "execution_count": 175,
   "id": "aed79ed9",
   "metadata": {},
   "outputs": [
    {
     "data": {
      "text/plain": [
       "iso_code                              0\n",
       "continent                             0\n",
       "location                              0\n",
       "date                                  0\n",
       "total_cases                           0\n",
       "new_cases                             0\n",
       "new_cases_smoothed                    0\n",
       "total_deaths                          0\n",
       "new_deaths                            0\n",
       "new_deaths_smoothed                   0\n",
       "total_cases_per_million               0\n",
       "new_cases_per_million                 0\n",
       "new_cases_smoothed_per_million        0\n",
       "total_deaths_per_million              0\n",
       "new_deaths_per_million                0\n",
       "new_deaths_smoothed_per_million       0\n",
       "reproduction_rate                     0\n",
       "icu_patients                          0\n",
       "icu_patients_per_million              0\n",
       "hosp_patients                         0\n",
       "hosp_patients_per_million             0\n",
       "weekly_icu_admissions                 0\n",
       "weekly_icu_admissions_per_million     0\n",
       "weekly_hosp_admissions                0\n",
       "weekly_hosp_admissions_per_million    0\n",
       "total_tests                           0\n",
       "new_tests                             0\n",
       "total_tests_per_thousand              0\n",
       "new_tests_per_thousand                0\n",
       "new_tests_smoothed                    0\n",
       "new_tests_smoothed_per_thousand       0\n",
       "tests_per_case                        0\n",
       "positive_rate                         0\n",
       "stringency_index                      0\n",
       "population                            0\n",
       "population_density                    0\n",
       "median_age                            0\n",
       "aged_65_older                         0\n",
       "aged_70_older                         0\n",
       "gdp_per_capita                        0\n",
       "extreme_poverty                       0\n",
       "cardiovasc_death_rate                 0\n",
       "diabetes_prevalence                   0\n",
       "female_smokers                        0\n",
       "male_smokers                          0\n",
       "handwashing_facilities                0\n",
       "hospital_beds_per_thousand            0\n",
       "life_expectancy                       0\n",
       "human_development_index               0\n",
       "dtype: int64"
      ]
     },
     "execution_count": 175,
     "metadata": {},
     "output_type": "execute_result"
    }
   ],
   "source": [
    "da.isnull().sum()\n"
   ]
  },
  {
   "cell_type": "markdown",
   "id": "3e6c66e4",
   "metadata": {},
   "source": [
    "# 6. Date time format :\n",
    "a. Convert date column in datetime format using\n",
    "pandas.to_datetime"
   ]
  },
  {
   "cell_type": "code",
   "execution_count": 176,
   "id": "c173c2e2",
   "metadata": {},
   "outputs": [
    {
     "data": {
      "text/html": [
       "<div>\n",
       "<style scoped>\n",
       "    .dataframe tbody tr th:only-of-type {\n",
       "        vertical-align: middle;\n",
       "    }\n",
       "\n",
       "    .dataframe tbody tr th {\n",
       "        vertical-align: top;\n",
       "    }\n",
       "\n",
       "    .dataframe thead th {\n",
       "        text-align: right;\n",
       "    }\n",
       "</style>\n",
       "<table border=\"1\" class=\"dataframe\">\n",
       "  <thead>\n",
       "    <tr style=\"text-align: right;\">\n",
       "      <th></th>\n",
       "      <th>iso_code</th>\n",
       "      <th>continent</th>\n",
       "      <th>location</th>\n",
       "      <th>date</th>\n",
       "      <th>total_cases</th>\n",
       "      <th>new_cases</th>\n",
       "      <th>new_cases_smoothed</th>\n",
       "      <th>total_deaths</th>\n",
       "      <th>new_deaths</th>\n",
       "      <th>new_deaths_smoothed</th>\n",
       "      <th>...</th>\n",
       "      <th>gdp_per_capita</th>\n",
       "      <th>extreme_poverty</th>\n",
       "      <th>cardiovasc_death_rate</th>\n",
       "      <th>diabetes_prevalence</th>\n",
       "      <th>female_smokers</th>\n",
       "      <th>male_smokers</th>\n",
       "      <th>handwashing_facilities</th>\n",
       "      <th>hospital_beds_per_thousand</th>\n",
       "      <th>life_expectancy</th>\n",
       "      <th>human_development_index</th>\n",
       "    </tr>\n",
       "  </thead>\n",
       "  <tbody>\n",
       "    <tr>\n",
       "      <th>0</th>\n",
       "      <td>AFG</td>\n",
       "      <td>Asia</td>\n",
       "      <td>Afghanistan</td>\n",
       "      <td>31/12/19</td>\n",
       "      <td>2070.0</td>\n",
       "      <td>0.0</td>\n",
       "      <td>19.429</td>\n",
       "      <td>84.0</td>\n",
       "      <td>0.0</td>\n",
       "      <td>0.286</td>\n",
       "      <td>...</td>\n",
       "      <td>1803.987</td>\n",
       "      <td>2.0</td>\n",
       "      <td>597.029</td>\n",
       "      <td>9.59</td>\n",
       "      <td>6.4</td>\n",
       "      <td>31.4</td>\n",
       "      <td>37.746</td>\n",
       "      <td>0.5</td>\n",
       "      <td>64.830</td>\n",
       "      <td>0.498</td>\n",
       "    </tr>\n",
       "    <tr>\n",
       "      <th>1</th>\n",
       "      <td>AFG</td>\n",
       "      <td>Asia</td>\n",
       "      <td>Afghanistan</td>\n",
       "      <td>01/01/20</td>\n",
       "      <td>2070.0</td>\n",
       "      <td>0.0</td>\n",
       "      <td>19.429</td>\n",
       "      <td>84.0</td>\n",
       "      <td>0.0</td>\n",
       "      <td>0.286</td>\n",
       "      <td>...</td>\n",
       "      <td>1803.987</td>\n",
       "      <td>2.0</td>\n",
       "      <td>597.029</td>\n",
       "      <td>9.59</td>\n",
       "      <td>6.4</td>\n",
       "      <td>31.4</td>\n",
       "      <td>37.746</td>\n",
       "      <td>0.5</td>\n",
       "      <td>64.830</td>\n",
       "      <td>0.498</td>\n",
       "    </tr>\n",
       "    <tr>\n",
       "      <th>2</th>\n",
       "      <td>AFG</td>\n",
       "      <td>Asia</td>\n",
       "      <td>Afghanistan</td>\n",
       "      <td>02/01/20</td>\n",
       "      <td>2070.0</td>\n",
       "      <td>0.0</td>\n",
       "      <td>19.429</td>\n",
       "      <td>84.0</td>\n",
       "      <td>0.0</td>\n",
       "      <td>0.286</td>\n",
       "      <td>...</td>\n",
       "      <td>1803.987</td>\n",
       "      <td>2.0</td>\n",
       "      <td>597.029</td>\n",
       "      <td>9.59</td>\n",
       "      <td>6.4</td>\n",
       "      <td>31.4</td>\n",
       "      <td>37.746</td>\n",
       "      <td>0.5</td>\n",
       "      <td>64.830</td>\n",
       "      <td>0.498</td>\n",
       "    </tr>\n",
       "    <tr>\n",
       "      <th>3</th>\n",
       "      <td>AFG</td>\n",
       "      <td>Asia</td>\n",
       "      <td>Afghanistan</td>\n",
       "      <td>03/01/20</td>\n",
       "      <td>2070.0</td>\n",
       "      <td>0.0</td>\n",
       "      <td>19.429</td>\n",
       "      <td>84.0</td>\n",
       "      <td>0.0</td>\n",
       "      <td>0.286</td>\n",
       "      <td>...</td>\n",
       "      <td>1803.987</td>\n",
       "      <td>2.0</td>\n",
       "      <td>597.029</td>\n",
       "      <td>9.59</td>\n",
       "      <td>6.4</td>\n",
       "      <td>31.4</td>\n",
       "      <td>37.746</td>\n",
       "      <td>0.5</td>\n",
       "      <td>64.830</td>\n",
       "      <td>0.498</td>\n",
       "    </tr>\n",
       "    <tr>\n",
       "      <th>4</th>\n",
       "      <td>AFG</td>\n",
       "      <td>Asia</td>\n",
       "      <td>Afghanistan</td>\n",
       "      <td>04/01/20</td>\n",
       "      <td>2070.0</td>\n",
       "      <td>0.0</td>\n",
       "      <td>19.429</td>\n",
       "      <td>84.0</td>\n",
       "      <td>0.0</td>\n",
       "      <td>0.286</td>\n",
       "      <td>...</td>\n",
       "      <td>1803.987</td>\n",
       "      <td>2.0</td>\n",
       "      <td>597.029</td>\n",
       "      <td>9.59</td>\n",
       "      <td>6.4</td>\n",
       "      <td>31.4</td>\n",
       "      <td>37.746</td>\n",
       "      <td>0.5</td>\n",
       "      <td>64.830</td>\n",
       "      <td>0.498</td>\n",
       "    </tr>\n",
       "    <tr>\n",
       "      <th>...</th>\n",
       "      <td>...</td>\n",
       "      <td>...</td>\n",
       "      <td>...</td>\n",
       "      <td>...</td>\n",
       "      <td>...</td>\n",
       "      <td>...</td>\n",
       "      <td>...</td>\n",
       "      <td>...</td>\n",
       "      <td>...</td>\n",
       "      <td>...</td>\n",
       "      <td>...</td>\n",
       "      <td>...</td>\n",
       "      <td>...</td>\n",
       "      <td>...</td>\n",
       "      <td>...</td>\n",
       "      <td>...</td>\n",
       "      <td>...</td>\n",
       "      <td>...</td>\n",
       "      <td>...</td>\n",
       "      <td>...</td>\n",
       "      <td>...</td>\n",
       "    </tr>\n",
       "    <tr>\n",
       "      <th>57389</th>\n",
       "      <td>AFG</td>\n",
       "      <td>Europe</td>\n",
       "      <td>International</td>\n",
       "      <td>13/11/20</td>\n",
       "      <td>696.0</td>\n",
       "      <td>14.0</td>\n",
       "      <td>19.429</td>\n",
       "      <td>7.0</td>\n",
       "      <td>0.0</td>\n",
       "      <td>0.286</td>\n",
       "      <td>...</td>\n",
       "      <td>13913.839</td>\n",
       "      <td>2.0</td>\n",
       "      <td>238.339</td>\n",
       "      <td>7.11</td>\n",
       "      <td>6.4</td>\n",
       "      <td>31.4</td>\n",
       "      <td>52.232</td>\n",
       "      <td>2.5</td>\n",
       "      <td>75.345</td>\n",
       "      <td>0.752</td>\n",
       "    </tr>\n",
       "    <tr>\n",
       "      <th>57390</th>\n",
       "      <td>AFG</td>\n",
       "      <td>Europe</td>\n",
       "      <td>International</td>\n",
       "      <td>14/11/20</td>\n",
       "      <td>696.0</td>\n",
       "      <td>14.0</td>\n",
       "      <td>19.429</td>\n",
       "      <td>7.0</td>\n",
       "      <td>0.0</td>\n",
       "      <td>0.286</td>\n",
       "      <td>...</td>\n",
       "      <td>13913.839</td>\n",
       "      <td>2.0</td>\n",
       "      <td>238.339</td>\n",
       "      <td>7.11</td>\n",
       "      <td>6.4</td>\n",
       "      <td>31.4</td>\n",
       "      <td>52.232</td>\n",
       "      <td>2.5</td>\n",
       "      <td>75.345</td>\n",
       "      <td>0.752</td>\n",
       "    </tr>\n",
       "    <tr>\n",
       "      <th>57391</th>\n",
       "      <td>AFG</td>\n",
       "      <td>Europe</td>\n",
       "      <td>International</td>\n",
       "      <td>15/11/20</td>\n",
       "      <td>696.0</td>\n",
       "      <td>14.0</td>\n",
       "      <td>19.429</td>\n",
       "      <td>7.0</td>\n",
       "      <td>0.0</td>\n",
       "      <td>0.286</td>\n",
       "      <td>...</td>\n",
       "      <td>13913.839</td>\n",
       "      <td>2.0</td>\n",
       "      <td>238.339</td>\n",
       "      <td>7.11</td>\n",
       "      <td>6.4</td>\n",
       "      <td>31.4</td>\n",
       "      <td>52.232</td>\n",
       "      <td>2.5</td>\n",
       "      <td>75.345</td>\n",
       "      <td>0.752</td>\n",
       "    </tr>\n",
       "    <tr>\n",
       "      <th>57392</th>\n",
       "      <td>AFG</td>\n",
       "      <td>Europe</td>\n",
       "      <td>International</td>\n",
       "      <td>16/11/20</td>\n",
       "      <td>696.0</td>\n",
       "      <td>14.0</td>\n",
       "      <td>19.429</td>\n",
       "      <td>7.0</td>\n",
       "      <td>0.0</td>\n",
       "      <td>0.286</td>\n",
       "      <td>...</td>\n",
       "      <td>13913.839</td>\n",
       "      <td>2.0</td>\n",
       "      <td>238.339</td>\n",
       "      <td>7.11</td>\n",
       "      <td>6.4</td>\n",
       "      <td>31.4</td>\n",
       "      <td>52.232</td>\n",
       "      <td>2.5</td>\n",
       "      <td>75.345</td>\n",
       "      <td>0.752</td>\n",
       "    </tr>\n",
       "    <tr>\n",
       "      <th>57393</th>\n",
       "      <td>AFG</td>\n",
       "      <td>Europe</td>\n",
       "      <td>International</td>\n",
       "      <td>17/11/20</td>\n",
       "      <td>696.0</td>\n",
       "      <td>14.0</td>\n",
       "      <td>19.429</td>\n",
       "      <td>7.0</td>\n",
       "      <td>0.0</td>\n",
       "      <td>0.286</td>\n",
       "      <td>...</td>\n",
       "      <td>13913.839</td>\n",
       "      <td>2.0</td>\n",
       "      <td>238.339</td>\n",
       "      <td>7.11</td>\n",
       "      <td>6.4</td>\n",
       "      <td>31.4</td>\n",
       "      <td>52.232</td>\n",
       "      <td>2.5</td>\n",
       "      <td>75.345</td>\n",
       "      <td>0.752</td>\n",
       "    </tr>\n",
       "  </tbody>\n",
       "</table>\n",
       "<p>57394 rows × 49 columns</p>\n",
       "</div>"
      ],
      "text/plain": [
       "      iso_code continent       location      date  total_cases  new_cases  \\\n",
       "0          AFG      Asia    Afghanistan  31/12/19       2070.0        0.0   \n",
       "1          AFG      Asia    Afghanistan  01/01/20       2070.0        0.0   \n",
       "2          AFG      Asia    Afghanistan  02/01/20       2070.0        0.0   \n",
       "3          AFG      Asia    Afghanistan  03/01/20       2070.0        0.0   \n",
       "4          AFG      Asia    Afghanistan  04/01/20       2070.0        0.0   \n",
       "...        ...       ...            ...       ...          ...        ...   \n",
       "57389      AFG    Europe  International  13/11/20        696.0       14.0   \n",
       "57390      AFG    Europe  International  14/11/20        696.0       14.0   \n",
       "57391      AFG    Europe  International  15/11/20        696.0       14.0   \n",
       "57392      AFG    Europe  International  16/11/20        696.0       14.0   \n",
       "57393      AFG    Europe  International  17/11/20        696.0       14.0   \n",
       "\n",
       "       new_cases_smoothed  total_deaths  new_deaths  new_deaths_smoothed  ...  \\\n",
       "0                  19.429          84.0         0.0                0.286  ...   \n",
       "1                  19.429          84.0         0.0                0.286  ...   \n",
       "2                  19.429          84.0         0.0                0.286  ...   \n",
       "3                  19.429          84.0         0.0                0.286  ...   \n",
       "4                  19.429          84.0         0.0                0.286  ...   \n",
       "...                   ...           ...         ...                  ...  ...   \n",
       "57389              19.429           7.0         0.0                0.286  ...   \n",
       "57390              19.429           7.0         0.0                0.286  ...   \n",
       "57391              19.429           7.0         0.0                0.286  ...   \n",
       "57392              19.429           7.0         0.0                0.286  ...   \n",
       "57393              19.429           7.0         0.0                0.286  ...   \n",
       "\n",
       "       gdp_per_capita  extreme_poverty  cardiovasc_death_rate  \\\n",
       "0            1803.987              2.0                597.029   \n",
       "1            1803.987              2.0                597.029   \n",
       "2            1803.987              2.0                597.029   \n",
       "3            1803.987              2.0                597.029   \n",
       "4            1803.987              2.0                597.029   \n",
       "...               ...              ...                    ...   \n",
       "57389       13913.839              2.0                238.339   \n",
       "57390       13913.839              2.0                238.339   \n",
       "57391       13913.839              2.0                238.339   \n",
       "57392       13913.839              2.0                238.339   \n",
       "57393       13913.839              2.0                238.339   \n",
       "\n",
       "       diabetes_prevalence  female_smokers  male_smokers  \\\n",
       "0                     9.59             6.4          31.4   \n",
       "1                     9.59             6.4          31.4   \n",
       "2                     9.59             6.4          31.4   \n",
       "3                     9.59             6.4          31.4   \n",
       "4                     9.59             6.4          31.4   \n",
       "...                    ...             ...           ...   \n",
       "57389                 7.11             6.4          31.4   \n",
       "57390                 7.11             6.4          31.4   \n",
       "57391                 7.11             6.4          31.4   \n",
       "57392                 7.11             6.4          31.4   \n",
       "57393                 7.11             6.4          31.4   \n",
       "\n",
       "       handwashing_facilities  hospital_beds_per_thousand  life_expectancy  \\\n",
       "0                      37.746                         0.5           64.830   \n",
       "1                      37.746                         0.5           64.830   \n",
       "2                      37.746                         0.5           64.830   \n",
       "3                      37.746                         0.5           64.830   \n",
       "4                      37.746                         0.5           64.830   \n",
       "...                       ...                         ...              ...   \n",
       "57389                  52.232                         2.5           75.345   \n",
       "57390                  52.232                         2.5           75.345   \n",
       "57391                  52.232                         2.5           75.345   \n",
       "57392                  52.232                         2.5           75.345   \n",
       "57393                  52.232                         2.5           75.345   \n",
       "\n",
       "       human_development_index  \n",
       "0                        0.498  \n",
       "1                        0.498  \n",
       "2                        0.498  \n",
       "3                        0.498  \n",
       "4                        0.498  \n",
       "...                        ...  \n",
       "57389                    0.752  \n",
       "57390                    0.752  \n",
       "57391                    0.752  \n",
       "57392                    0.752  \n",
       "57393                    0.752  \n",
       "\n",
       "[57394 rows x 49 columns]"
      ]
     },
     "execution_count": 176,
     "metadata": {},
     "output_type": "execute_result"
    }
   ],
   "source": [
    "da\n"
   ]
  },
  {
   "cell_type": "code",
   "execution_count": 177,
   "id": "2bd35a8a",
   "metadata": {},
   "outputs": [
    {
     "data": {
      "text/plain": [
       "0       2019-12-31\n",
       "1       2020-01-01\n",
       "2       2020-02-01\n",
       "3       2020-03-01\n",
       "4       2020-04-01\n",
       "           ...    \n",
       "57389   2020-11-13\n",
       "57390   2020-11-14\n",
       "57391   2020-11-15\n",
       "57392   2020-11-16\n",
       "57393   2020-11-17\n",
       "Name: date, Length: 57394, dtype: datetime64[ns]"
      ]
     },
     "execution_count": 177,
     "metadata": {},
     "output_type": "execute_result"
    }
   ],
   "source": [
    "da[\"date\"]=pd.to_datetime(da[\"date\"])\n",
    "da[\"date\"]\n"
   ]
  },
  {
   "cell_type": "markdown",
   "id": "4ef1a915",
   "metadata": {},
   "source": [
    "# Create new column month after extracting month data from date column."
   ]
  },
  {
   "cell_type": "code",
   "execution_count": 178,
   "id": "2c5b4d83",
   "metadata": {},
   "outputs": [
    {
     "data": {
      "text/html": [
       "<div>\n",
       "<style scoped>\n",
       "    .dataframe tbody tr th:only-of-type {\n",
       "        vertical-align: middle;\n",
       "    }\n",
       "\n",
       "    .dataframe tbody tr th {\n",
       "        vertical-align: top;\n",
       "    }\n",
       "\n",
       "    .dataframe thead th {\n",
       "        text-align: right;\n",
       "    }\n",
       "</style>\n",
       "<table border=\"1\" class=\"dataframe\">\n",
       "  <thead>\n",
       "    <tr style=\"text-align: right;\">\n",
       "      <th></th>\n",
       "      <th>iso_code</th>\n",
       "      <th>continent</th>\n",
       "      <th>location</th>\n",
       "      <th>date</th>\n",
       "      <th>total_cases</th>\n",
       "      <th>new_cases</th>\n",
       "      <th>new_cases_smoothed</th>\n",
       "      <th>total_deaths</th>\n",
       "      <th>new_deaths</th>\n",
       "      <th>new_deaths_smoothed</th>\n",
       "      <th>...</th>\n",
       "      <th>cardiovasc_death_rate</th>\n",
       "      <th>diabetes_prevalence</th>\n",
       "      <th>female_smokers</th>\n",
       "      <th>male_smokers</th>\n",
       "      <th>handwashing_facilities</th>\n",
       "      <th>hospital_beds_per_thousand</th>\n",
       "      <th>life_expectancy</th>\n",
       "      <th>human_development_index</th>\n",
       "      <th>month</th>\n",
       "      <th>year</th>\n",
       "    </tr>\n",
       "  </thead>\n",
       "  <tbody>\n",
       "    <tr>\n",
       "      <th>0</th>\n",
       "      <td>AFG</td>\n",
       "      <td>Asia</td>\n",
       "      <td>Afghanistan</td>\n",
       "      <td>2019-12-31</td>\n",
       "      <td>2070.0</td>\n",
       "      <td>0.0</td>\n",
       "      <td>19.429</td>\n",
       "      <td>84.0</td>\n",
       "      <td>0.0</td>\n",
       "      <td>0.286</td>\n",
       "      <td>...</td>\n",
       "      <td>597.029</td>\n",
       "      <td>9.59</td>\n",
       "      <td>6.4</td>\n",
       "      <td>31.4</td>\n",
       "      <td>37.746</td>\n",
       "      <td>0.5</td>\n",
       "      <td>64.830</td>\n",
       "      <td>0.498</td>\n",
       "      <td>12</td>\n",
       "      <td>2019</td>\n",
       "    </tr>\n",
       "    <tr>\n",
       "      <th>1</th>\n",
       "      <td>AFG</td>\n",
       "      <td>Asia</td>\n",
       "      <td>Afghanistan</td>\n",
       "      <td>2020-01-01</td>\n",
       "      <td>2070.0</td>\n",
       "      <td>0.0</td>\n",
       "      <td>19.429</td>\n",
       "      <td>84.0</td>\n",
       "      <td>0.0</td>\n",
       "      <td>0.286</td>\n",
       "      <td>...</td>\n",
       "      <td>597.029</td>\n",
       "      <td>9.59</td>\n",
       "      <td>6.4</td>\n",
       "      <td>31.4</td>\n",
       "      <td>37.746</td>\n",
       "      <td>0.5</td>\n",
       "      <td>64.830</td>\n",
       "      <td>0.498</td>\n",
       "      <td>1</td>\n",
       "      <td>2020</td>\n",
       "    </tr>\n",
       "    <tr>\n",
       "      <th>2</th>\n",
       "      <td>AFG</td>\n",
       "      <td>Asia</td>\n",
       "      <td>Afghanistan</td>\n",
       "      <td>2020-02-01</td>\n",
       "      <td>2070.0</td>\n",
       "      <td>0.0</td>\n",
       "      <td>19.429</td>\n",
       "      <td>84.0</td>\n",
       "      <td>0.0</td>\n",
       "      <td>0.286</td>\n",
       "      <td>...</td>\n",
       "      <td>597.029</td>\n",
       "      <td>9.59</td>\n",
       "      <td>6.4</td>\n",
       "      <td>31.4</td>\n",
       "      <td>37.746</td>\n",
       "      <td>0.5</td>\n",
       "      <td>64.830</td>\n",
       "      <td>0.498</td>\n",
       "      <td>2</td>\n",
       "      <td>2020</td>\n",
       "    </tr>\n",
       "    <tr>\n",
       "      <th>3</th>\n",
       "      <td>AFG</td>\n",
       "      <td>Asia</td>\n",
       "      <td>Afghanistan</td>\n",
       "      <td>2020-03-01</td>\n",
       "      <td>2070.0</td>\n",
       "      <td>0.0</td>\n",
       "      <td>19.429</td>\n",
       "      <td>84.0</td>\n",
       "      <td>0.0</td>\n",
       "      <td>0.286</td>\n",
       "      <td>...</td>\n",
       "      <td>597.029</td>\n",
       "      <td>9.59</td>\n",
       "      <td>6.4</td>\n",
       "      <td>31.4</td>\n",
       "      <td>37.746</td>\n",
       "      <td>0.5</td>\n",
       "      <td>64.830</td>\n",
       "      <td>0.498</td>\n",
       "      <td>3</td>\n",
       "      <td>2020</td>\n",
       "    </tr>\n",
       "    <tr>\n",
       "      <th>4</th>\n",
       "      <td>AFG</td>\n",
       "      <td>Asia</td>\n",
       "      <td>Afghanistan</td>\n",
       "      <td>2020-04-01</td>\n",
       "      <td>2070.0</td>\n",
       "      <td>0.0</td>\n",
       "      <td>19.429</td>\n",
       "      <td>84.0</td>\n",
       "      <td>0.0</td>\n",
       "      <td>0.286</td>\n",
       "      <td>...</td>\n",
       "      <td>597.029</td>\n",
       "      <td>9.59</td>\n",
       "      <td>6.4</td>\n",
       "      <td>31.4</td>\n",
       "      <td>37.746</td>\n",
       "      <td>0.5</td>\n",
       "      <td>64.830</td>\n",
       "      <td>0.498</td>\n",
       "      <td>4</td>\n",
       "      <td>2020</td>\n",
       "    </tr>\n",
       "    <tr>\n",
       "      <th>...</th>\n",
       "      <td>...</td>\n",
       "      <td>...</td>\n",
       "      <td>...</td>\n",
       "      <td>...</td>\n",
       "      <td>...</td>\n",
       "      <td>...</td>\n",
       "      <td>...</td>\n",
       "      <td>...</td>\n",
       "      <td>...</td>\n",
       "      <td>...</td>\n",
       "      <td>...</td>\n",
       "      <td>...</td>\n",
       "      <td>...</td>\n",
       "      <td>...</td>\n",
       "      <td>...</td>\n",
       "      <td>...</td>\n",
       "      <td>...</td>\n",
       "      <td>...</td>\n",
       "      <td>...</td>\n",
       "      <td>...</td>\n",
       "      <td>...</td>\n",
       "    </tr>\n",
       "    <tr>\n",
       "      <th>57389</th>\n",
       "      <td>AFG</td>\n",
       "      <td>Europe</td>\n",
       "      <td>International</td>\n",
       "      <td>2020-11-13</td>\n",
       "      <td>696.0</td>\n",
       "      <td>14.0</td>\n",
       "      <td>19.429</td>\n",
       "      <td>7.0</td>\n",
       "      <td>0.0</td>\n",
       "      <td>0.286</td>\n",
       "      <td>...</td>\n",
       "      <td>238.339</td>\n",
       "      <td>7.11</td>\n",
       "      <td>6.4</td>\n",
       "      <td>31.4</td>\n",
       "      <td>52.232</td>\n",
       "      <td>2.5</td>\n",
       "      <td>75.345</td>\n",
       "      <td>0.752</td>\n",
       "      <td>11</td>\n",
       "      <td>2020</td>\n",
       "    </tr>\n",
       "    <tr>\n",
       "      <th>57390</th>\n",
       "      <td>AFG</td>\n",
       "      <td>Europe</td>\n",
       "      <td>International</td>\n",
       "      <td>2020-11-14</td>\n",
       "      <td>696.0</td>\n",
       "      <td>14.0</td>\n",
       "      <td>19.429</td>\n",
       "      <td>7.0</td>\n",
       "      <td>0.0</td>\n",
       "      <td>0.286</td>\n",
       "      <td>...</td>\n",
       "      <td>238.339</td>\n",
       "      <td>7.11</td>\n",
       "      <td>6.4</td>\n",
       "      <td>31.4</td>\n",
       "      <td>52.232</td>\n",
       "      <td>2.5</td>\n",
       "      <td>75.345</td>\n",
       "      <td>0.752</td>\n",
       "      <td>11</td>\n",
       "      <td>2020</td>\n",
       "    </tr>\n",
       "    <tr>\n",
       "      <th>57391</th>\n",
       "      <td>AFG</td>\n",
       "      <td>Europe</td>\n",
       "      <td>International</td>\n",
       "      <td>2020-11-15</td>\n",
       "      <td>696.0</td>\n",
       "      <td>14.0</td>\n",
       "      <td>19.429</td>\n",
       "      <td>7.0</td>\n",
       "      <td>0.0</td>\n",
       "      <td>0.286</td>\n",
       "      <td>...</td>\n",
       "      <td>238.339</td>\n",
       "      <td>7.11</td>\n",
       "      <td>6.4</td>\n",
       "      <td>31.4</td>\n",
       "      <td>52.232</td>\n",
       "      <td>2.5</td>\n",
       "      <td>75.345</td>\n",
       "      <td>0.752</td>\n",
       "      <td>11</td>\n",
       "      <td>2020</td>\n",
       "    </tr>\n",
       "    <tr>\n",
       "      <th>57392</th>\n",
       "      <td>AFG</td>\n",
       "      <td>Europe</td>\n",
       "      <td>International</td>\n",
       "      <td>2020-11-16</td>\n",
       "      <td>696.0</td>\n",
       "      <td>14.0</td>\n",
       "      <td>19.429</td>\n",
       "      <td>7.0</td>\n",
       "      <td>0.0</td>\n",
       "      <td>0.286</td>\n",
       "      <td>...</td>\n",
       "      <td>238.339</td>\n",
       "      <td>7.11</td>\n",
       "      <td>6.4</td>\n",
       "      <td>31.4</td>\n",
       "      <td>52.232</td>\n",
       "      <td>2.5</td>\n",
       "      <td>75.345</td>\n",
       "      <td>0.752</td>\n",
       "      <td>11</td>\n",
       "      <td>2020</td>\n",
       "    </tr>\n",
       "    <tr>\n",
       "      <th>57393</th>\n",
       "      <td>AFG</td>\n",
       "      <td>Europe</td>\n",
       "      <td>International</td>\n",
       "      <td>2020-11-17</td>\n",
       "      <td>696.0</td>\n",
       "      <td>14.0</td>\n",
       "      <td>19.429</td>\n",
       "      <td>7.0</td>\n",
       "      <td>0.0</td>\n",
       "      <td>0.286</td>\n",
       "      <td>...</td>\n",
       "      <td>238.339</td>\n",
       "      <td>7.11</td>\n",
       "      <td>6.4</td>\n",
       "      <td>31.4</td>\n",
       "      <td>52.232</td>\n",
       "      <td>2.5</td>\n",
       "      <td>75.345</td>\n",
       "      <td>0.752</td>\n",
       "      <td>11</td>\n",
       "      <td>2020</td>\n",
       "    </tr>\n",
       "  </tbody>\n",
       "</table>\n",
       "<p>57394 rows × 51 columns</p>\n",
       "</div>"
      ],
      "text/plain": [
       "      iso_code continent       location       date  total_cases  new_cases  \\\n",
       "0          AFG      Asia    Afghanistan 2019-12-31       2070.0        0.0   \n",
       "1          AFG      Asia    Afghanistan 2020-01-01       2070.0        0.0   \n",
       "2          AFG      Asia    Afghanistan 2020-02-01       2070.0        0.0   \n",
       "3          AFG      Asia    Afghanistan 2020-03-01       2070.0        0.0   \n",
       "4          AFG      Asia    Afghanistan 2020-04-01       2070.0        0.0   \n",
       "...        ...       ...            ...        ...          ...        ...   \n",
       "57389      AFG    Europe  International 2020-11-13        696.0       14.0   \n",
       "57390      AFG    Europe  International 2020-11-14        696.0       14.0   \n",
       "57391      AFG    Europe  International 2020-11-15        696.0       14.0   \n",
       "57392      AFG    Europe  International 2020-11-16        696.0       14.0   \n",
       "57393      AFG    Europe  International 2020-11-17        696.0       14.0   \n",
       "\n",
       "       new_cases_smoothed  total_deaths  new_deaths  new_deaths_smoothed  ...  \\\n",
       "0                  19.429          84.0         0.0                0.286  ...   \n",
       "1                  19.429          84.0         0.0                0.286  ...   \n",
       "2                  19.429          84.0         0.0                0.286  ...   \n",
       "3                  19.429          84.0         0.0                0.286  ...   \n",
       "4                  19.429          84.0         0.0                0.286  ...   \n",
       "...                   ...           ...         ...                  ...  ...   \n",
       "57389              19.429           7.0         0.0                0.286  ...   \n",
       "57390              19.429           7.0         0.0                0.286  ...   \n",
       "57391              19.429           7.0         0.0                0.286  ...   \n",
       "57392              19.429           7.0         0.0                0.286  ...   \n",
       "57393              19.429           7.0         0.0                0.286  ...   \n",
       "\n",
       "       cardiovasc_death_rate  diabetes_prevalence  female_smokers  \\\n",
       "0                    597.029                 9.59             6.4   \n",
       "1                    597.029                 9.59             6.4   \n",
       "2                    597.029                 9.59             6.4   \n",
       "3                    597.029                 9.59             6.4   \n",
       "4                    597.029                 9.59             6.4   \n",
       "...                      ...                  ...             ...   \n",
       "57389                238.339                 7.11             6.4   \n",
       "57390                238.339                 7.11             6.4   \n",
       "57391                238.339                 7.11             6.4   \n",
       "57392                238.339                 7.11             6.4   \n",
       "57393                238.339                 7.11             6.4   \n",
       "\n",
       "       male_smokers  handwashing_facilities  hospital_beds_per_thousand  \\\n",
       "0              31.4                  37.746                         0.5   \n",
       "1              31.4                  37.746                         0.5   \n",
       "2              31.4                  37.746                         0.5   \n",
       "3              31.4                  37.746                         0.5   \n",
       "4              31.4                  37.746                         0.5   \n",
       "...             ...                     ...                         ...   \n",
       "57389          31.4                  52.232                         2.5   \n",
       "57390          31.4                  52.232                         2.5   \n",
       "57391          31.4                  52.232                         2.5   \n",
       "57392          31.4                  52.232                         2.5   \n",
       "57393          31.4                  52.232                         2.5   \n",
       "\n",
       "       life_expectancy  human_development_index  month  year  \n",
       "0               64.830                    0.498     12  2019  \n",
       "1               64.830                    0.498      1  2020  \n",
       "2               64.830                    0.498      2  2020  \n",
       "3               64.830                    0.498      3  2020  \n",
       "4               64.830                    0.498      4  2020  \n",
       "...                ...                      ...    ...   ...  \n",
       "57389           75.345                    0.752     11  2020  \n",
       "57390           75.345                    0.752     11  2020  \n",
       "57391           75.345                    0.752     11  2020  \n",
       "57392           75.345                    0.752     11  2020  \n",
       "57393           75.345                    0.752     11  2020  \n",
       "\n",
       "[57394 rows x 51 columns]"
      ]
     },
     "execution_count": 178,
     "metadata": {},
     "output_type": "execute_result"
    }
   ],
   "source": [
    "\n",
    "da[\"month\"] = pd.DatetimeIndex(da['date']).month\n",
    "da[\"year\"] = pd.DatetimeIndex(da['date']).year\n",
    "da"
   ]
  },
  {
   "cell_type": "markdown",
   "id": "5263b75d",
   "metadata": {},
   "source": [
    "# 7. Data Aggregation:"
   ]
  },
  {
   "cell_type": "markdown",
   "id": "102c6481",
   "metadata": {},
   "source": [
    "Find max value in all columns using groupby function on\n",
    "'continent'\n",
    "column\n",
    "Tip: use reset_index() after applying groupby\n",
    "    "
   ]
  },
  {
   "cell_type": "code",
   "execution_count": 179,
   "id": "40d7927f",
   "metadata": {},
   "outputs": [
    {
     "name": "stdout",
     "output_type": "stream",
     "text": [
      "<class 'pandas.core.frame.DataFrame'>\n",
      "RangeIndex: 57394 entries, 0 to 57393\n",
      "Data columns (total 51 columns):\n",
      " #   Column                              Non-Null Count  Dtype         \n",
      "---  ------                              --------------  -----         \n",
      " 0   iso_code                            57394 non-null  object        \n",
      " 1   continent                           57394 non-null  object        \n",
      " 2   location                            57394 non-null  object        \n",
      " 3   date                                57394 non-null  datetime64[ns]\n",
      " 4   total_cases                         57394 non-null  float64       \n",
      " 5   new_cases                           57394 non-null  float64       \n",
      " 6   new_cases_smoothed                  57394 non-null  float64       \n",
      " 7   total_deaths                        57394 non-null  float64       \n",
      " 8   new_deaths                          57394 non-null  float64       \n",
      " 9   new_deaths_smoothed                 57394 non-null  float64       \n",
      " 10  total_cases_per_million             57394 non-null  float64       \n",
      " 11  new_cases_per_million               57394 non-null  float64       \n",
      " 12  new_cases_smoothed_per_million      57394 non-null  float64       \n",
      " 13  total_deaths_per_million            57394 non-null  float64       \n",
      " 14  new_deaths_per_million              57394 non-null  float64       \n",
      " 15  new_deaths_smoothed_per_million     57394 non-null  float64       \n",
      " 16  reproduction_rate                   57394 non-null  float64       \n",
      " 17  icu_patients                        57394 non-null  float64       \n",
      " 18  icu_patients_per_million            57394 non-null  float64       \n",
      " 19  hosp_patients                       57394 non-null  float64       \n",
      " 20  hosp_patients_per_million           57394 non-null  float64       \n",
      " 21  weekly_icu_admissions               57394 non-null  float64       \n",
      " 22  weekly_icu_admissions_per_million   57394 non-null  float64       \n",
      " 23  weekly_hosp_admissions              57394 non-null  float64       \n",
      " 24  weekly_hosp_admissions_per_million  57394 non-null  float64       \n",
      " 25  total_tests                         57394 non-null  float64       \n",
      " 26  new_tests                           57394 non-null  float64       \n",
      " 27  total_tests_per_thousand            57394 non-null  float64       \n",
      " 28  new_tests_per_thousand              57394 non-null  float64       \n",
      " 29  new_tests_smoothed                  57394 non-null  float64       \n",
      " 30  new_tests_smoothed_per_thousand     57394 non-null  float64       \n",
      " 31  tests_per_case                      57394 non-null  float64       \n",
      " 32  positive_rate                       57394 non-null  float64       \n",
      " 33  stringency_index                    57394 non-null  float64       \n",
      " 34  population                          57394 non-null  float64       \n",
      " 35  population_density                  57394 non-null  float64       \n",
      " 36  median_age                          57394 non-null  float64       \n",
      " 37  aged_65_older                       57394 non-null  float64       \n",
      " 38  aged_70_older                       57394 non-null  float64       \n",
      " 39  gdp_per_capita                      57394 non-null  float64       \n",
      " 40  extreme_poverty                     57394 non-null  float64       \n",
      " 41  cardiovasc_death_rate               57394 non-null  float64       \n",
      " 42  diabetes_prevalence                 57394 non-null  float64       \n",
      " 43  female_smokers                      57394 non-null  float64       \n",
      " 44  male_smokers                        57394 non-null  float64       \n",
      " 45  handwashing_facilities              57394 non-null  float64       \n",
      " 46  hospital_beds_per_thousand          57394 non-null  float64       \n",
      " 47  life_expectancy                     57394 non-null  float64       \n",
      " 48  human_development_index             57394 non-null  float64       \n",
      " 49  month                               57394 non-null  int64         \n",
      " 50  year                                57394 non-null  int64         \n",
      "dtypes: datetime64[ns](1), float64(45), int64(2), object(3)\n",
      "memory usage: 22.3+ MB\n"
     ]
    }
   ],
   "source": [
    "da.info()\n"
   ]
  },
  {
   "cell_type": "code",
   "execution_count": 180,
   "id": "ce110d27",
   "metadata": {},
   "outputs": [
    {
     "data": {
      "text/html": [
       "<div>\n",
       "<style scoped>\n",
       "    .dataframe tbody tr th:only-of-type {\n",
       "        vertical-align: middle;\n",
       "    }\n",
       "\n",
       "    .dataframe tbody tr th {\n",
       "        vertical-align: top;\n",
       "    }\n",
       "\n",
       "    .dataframe thead th {\n",
       "        text-align: right;\n",
       "    }\n",
       "</style>\n",
       "<table border=\"1\" class=\"dataframe\">\n",
       "  <thead>\n",
       "    <tr style=\"text-align: right;\">\n",
       "      <th></th>\n",
       "      <th>iso_code</th>\n",
       "      <th>location</th>\n",
       "      <th>date</th>\n",
       "      <th>total_cases</th>\n",
       "      <th>new_cases</th>\n",
       "      <th>new_cases_smoothed</th>\n",
       "      <th>total_deaths</th>\n",
       "      <th>new_deaths</th>\n",
       "      <th>new_deaths_smoothed</th>\n",
       "      <th>total_cases_per_million</th>\n",
       "      <th>...</th>\n",
       "      <th>cardiovasc_death_rate</th>\n",
       "      <th>diabetes_prevalence</th>\n",
       "      <th>female_smokers</th>\n",
       "      <th>male_smokers</th>\n",
       "      <th>handwashing_facilities</th>\n",
       "      <th>hospital_beds_per_thousand</th>\n",
       "      <th>life_expectancy</th>\n",
       "      <th>human_development_index</th>\n",
       "      <th>month</th>\n",
       "      <th>year</th>\n",
       "    </tr>\n",
       "    <tr>\n",
       "      <th>continent</th>\n",
       "      <th></th>\n",
       "      <th></th>\n",
       "      <th></th>\n",
       "      <th></th>\n",
       "      <th></th>\n",
       "      <th></th>\n",
       "      <th></th>\n",
       "      <th></th>\n",
       "      <th></th>\n",
       "      <th></th>\n",
       "      <th></th>\n",
       "      <th></th>\n",
       "      <th></th>\n",
       "      <th></th>\n",
       "      <th></th>\n",
       "      <th></th>\n",
       "      <th></th>\n",
       "      <th></th>\n",
       "      <th></th>\n",
       "      <th></th>\n",
       "      <th></th>\n",
       "    </tr>\n",
       "  </thead>\n",
       "  <tbody>\n",
       "    <tr>\n",
       "      <th>Africa</th>\n",
       "      <td>ZWE</td>\n",
       "      <td>Zimbabwe</td>\n",
       "      <td>2020-12-11</td>\n",
       "      <td>752269.0</td>\n",
       "      <td>13944.0</td>\n",
       "      <td>12583.714</td>\n",
       "      <td>20314.0</td>\n",
       "      <td>572.0</td>\n",
       "      <td>297.429</td>\n",
       "      <td>17698.224</td>\n",
       "      <td>...</td>\n",
       "      <td>525.432</td>\n",
       "      <td>22.02</td>\n",
       "      <td>9.7</td>\n",
       "      <td>65.8</td>\n",
       "      <td>89.827</td>\n",
       "      <td>6.30</td>\n",
       "      <td>76.88</td>\n",
       "      <td>0.797</td>\n",
       "      <td>12</td>\n",
       "      <td>2020</td>\n",
       "    </tr>\n",
       "    <tr>\n",
       "      <th>Asia</th>\n",
       "      <td>YEM</td>\n",
       "      <td>Yemen</td>\n",
       "      <td>2020-12-11</td>\n",
       "      <td>8874290.0</td>\n",
       "      <td>97894.0</td>\n",
       "      <td>93198.571</td>\n",
       "      <td>130519.0</td>\n",
       "      <td>2003.0</td>\n",
       "      <td>1168.000</td>\n",
       "      <td>49884.137</td>\n",
       "      <td>...</td>\n",
       "      <td>724.417</td>\n",
       "      <td>17.72</td>\n",
       "      <td>26.9</td>\n",
       "      <td>78.1</td>\n",
       "      <td>98.999</td>\n",
       "      <td>13.05</td>\n",
       "      <td>84.86</td>\n",
       "      <td>0.933</td>\n",
       "      <td>12</td>\n",
       "      <td>2020</td>\n",
       "    </tr>\n",
       "    <tr>\n",
       "      <th>Europe</th>\n",
       "      <td>VAT</td>\n",
       "      <td>World</td>\n",
       "      <td>2020-12-11</td>\n",
       "      <td>55154651.0</td>\n",
       "      <td>646281.0</td>\n",
       "      <td>584981.857</td>\n",
       "      <td>1328537.0</td>\n",
       "      <td>10600.0</td>\n",
       "      <td>9027.714</td>\n",
       "      <td>76541.772</td>\n",
       "      <td>...</td>\n",
       "      <td>539.849</td>\n",
       "      <td>10.08</td>\n",
       "      <td>44.0</td>\n",
       "      <td>58.3</td>\n",
       "      <td>97.719</td>\n",
       "      <td>13.80</td>\n",
       "      <td>86.75</td>\n",
       "      <td>0.953</td>\n",
       "      <td>12</td>\n",
       "      <td>2020</td>\n",
       "    </tr>\n",
       "    <tr>\n",
       "      <th>North America</th>\n",
       "      <td>VIR</td>\n",
       "      <td>United States Virgin Islands</td>\n",
       "      <td>2020-12-11</td>\n",
       "      <td>11205486.0</td>\n",
       "      <td>184813.0</td>\n",
       "      <td>156419.143</td>\n",
       "      <td>247220.0</td>\n",
       "      <td>4928.0</td>\n",
       "      <td>2715.143</td>\n",
       "      <td>43721.784</td>\n",
       "      <td>...</td>\n",
       "      <td>430.548</td>\n",
       "      <td>17.11</td>\n",
       "      <td>19.1</td>\n",
       "      <td>53.3</td>\n",
       "      <td>90.650</td>\n",
       "      <td>5.80</td>\n",
       "      <td>83.92</td>\n",
       "      <td>0.926</td>\n",
       "      <td>12</td>\n",
       "      <td>2020</td>\n",
       "    </tr>\n",
       "    <tr>\n",
       "      <th>Oceania</th>\n",
       "      <td>WLF</td>\n",
       "      <td>Wallis and Futuna</td>\n",
       "      <td>2020-12-11</td>\n",
       "      <td>27750.0</td>\n",
       "      <td>1384.0</td>\n",
       "      <td>551.714</td>\n",
       "      <td>907.0</td>\n",
       "      <td>59.0</td>\n",
       "      <td>22.000</td>\n",
       "      <td>41672.600</td>\n",
       "      <td>...</td>\n",
       "      <td>561.494</td>\n",
       "      <td>30.53</td>\n",
       "      <td>23.5</td>\n",
       "      <td>48.8</td>\n",
       "      <td>82.502</td>\n",
       "      <td>3.84</td>\n",
       "      <td>83.44</td>\n",
       "      <td>0.939</td>\n",
       "      <td>12</td>\n",
       "      <td>2020</td>\n",
       "    </tr>\n",
       "    <tr>\n",
       "      <th>South America</th>\n",
       "      <td>VEN</td>\n",
       "      <td>Venezuela</td>\n",
       "      <td>2020-12-11</td>\n",
       "      <td>5876464.0</td>\n",
       "      <td>69074.0</td>\n",
       "      <td>46393.000</td>\n",
       "      <td>166014.0</td>\n",
       "      <td>3935.0</td>\n",
       "      <td>1096.714</td>\n",
       "      <td>29170.225</td>\n",
       "      <td>...</td>\n",
       "      <td>373.159</td>\n",
       "      <td>12.54</td>\n",
       "      <td>34.2</td>\n",
       "      <td>42.9</td>\n",
       "      <td>80.635</td>\n",
       "      <td>5.00</td>\n",
       "      <td>81.44</td>\n",
       "      <td>0.843</td>\n",
       "      <td>12</td>\n",
       "      <td>2020</td>\n",
       "    </tr>\n",
       "  </tbody>\n",
       "</table>\n",
       "<p>6 rows × 50 columns</p>\n",
       "</div>"
      ],
      "text/plain": [
       "              iso_code                      location       date  total_cases  \\\n",
       "continent                                                                      \n",
       "Africa             ZWE                      Zimbabwe 2020-12-11     752269.0   \n",
       "Asia               YEM                         Yemen 2020-12-11    8874290.0   \n",
       "Europe             VAT                         World 2020-12-11   55154651.0   \n",
       "North America      VIR  United States Virgin Islands 2020-12-11   11205486.0   \n",
       "Oceania            WLF             Wallis and Futuna 2020-12-11      27750.0   \n",
       "South America      VEN                     Venezuela 2020-12-11    5876464.0   \n",
       "\n",
       "               new_cases  new_cases_smoothed  total_deaths  new_deaths  \\\n",
       "continent                                                                \n",
       "Africa           13944.0           12583.714       20314.0       572.0   \n",
       "Asia             97894.0           93198.571      130519.0      2003.0   \n",
       "Europe          646281.0          584981.857     1328537.0     10600.0   \n",
       "North America   184813.0          156419.143      247220.0      4928.0   \n",
       "Oceania           1384.0             551.714         907.0        59.0   \n",
       "South America    69074.0           46393.000      166014.0      3935.0   \n",
       "\n",
       "               new_deaths_smoothed  total_cases_per_million  ...  \\\n",
       "continent                                                    ...   \n",
       "Africa                     297.429                17698.224  ...   \n",
       "Asia                      1168.000                49884.137  ...   \n",
       "Europe                    9027.714                76541.772  ...   \n",
       "North America             2715.143                43721.784  ...   \n",
       "Oceania                     22.000                41672.600  ...   \n",
       "South America             1096.714                29170.225  ...   \n",
       "\n",
       "               cardiovasc_death_rate  diabetes_prevalence  female_smokers  \\\n",
       "continent                                                                   \n",
       "Africa                       525.432                22.02             9.7   \n",
       "Asia                         724.417                17.72            26.9   \n",
       "Europe                       539.849                10.08            44.0   \n",
       "North America                430.548                17.11            19.1   \n",
       "Oceania                      561.494                30.53            23.5   \n",
       "South America                373.159                12.54            34.2   \n",
       "\n",
       "               male_smokers  handwashing_facilities  \\\n",
       "continent                                             \n",
       "Africa                 65.8                  89.827   \n",
       "Asia                   78.1                  98.999   \n",
       "Europe                 58.3                  97.719   \n",
       "North America          53.3                  90.650   \n",
       "Oceania                48.8                  82.502   \n",
       "South America          42.9                  80.635   \n",
       "\n",
       "               hospital_beds_per_thousand  life_expectancy  \\\n",
       "continent                                                    \n",
       "Africa                               6.30            76.88   \n",
       "Asia                                13.05            84.86   \n",
       "Europe                              13.80            86.75   \n",
       "North America                        5.80            83.92   \n",
       "Oceania                              3.84            83.44   \n",
       "South America                        5.00            81.44   \n",
       "\n",
       "               human_development_index  month  year  \n",
       "continent                                            \n",
       "Africa                           0.797     12  2020  \n",
       "Asia                             0.933     12  2020  \n",
       "Europe                           0.953     12  2020  \n",
       "North America                    0.926     12  2020  \n",
       "Oceania                          0.939     12  2020  \n",
       "South America                    0.843     12  2020  \n",
       "\n",
       "[6 rows x 50 columns]"
      ]
     },
     "execution_count": 180,
     "metadata": {},
     "output_type": "execute_result"
    }
   ],
   "source": [
    "da4=da.groupby(\"continent\").max()\n",
    "da4"
   ]
  },
  {
   "cell_type": "code",
   "execution_count": 181,
   "id": "01e0764f",
   "metadata": {},
   "outputs": [
    {
     "data": {
      "text/html": [
       "<div>\n",
       "<style scoped>\n",
       "    .dataframe tbody tr th:only-of-type {\n",
       "        vertical-align: middle;\n",
       "    }\n",
       "\n",
       "    .dataframe tbody tr th {\n",
       "        vertical-align: top;\n",
       "    }\n",
       "\n",
       "    .dataframe thead th {\n",
       "        text-align: right;\n",
       "    }\n",
       "</style>\n",
       "<table border=\"1\" class=\"dataframe\">\n",
       "  <thead>\n",
       "    <tr style=\"text-align: right;\">\n",
       "      <th></th>\n",
       "      <th>continent</th>\n",
       "      <th>iso_code</th>\n",
       "      <th>location</th>\n",
       "      <th>date</th>\n",
       "      <th>total_cases</th>\n",
       "      <th>new_cases</th>\n",
       "      <th>new_cases_smoothed</th>\n",
       "      <th>total_deaths</th>\n",
       "      <th>new_deaths</th>\n",
       "      <th>new_deaths_smoothed</th>\n",
       "      <th>...</th>\n",
       "      <th>cardiovasc_death_rate</th>\n",
       "      <th>diabetes_prevalence</th>\n",
       "      <th>female_smokers</th>\n",
       "      <th>male_smokers</th>\n",
       "      <th>handwashing_facilities</th>\n",
       "      <th>hospital_beds_per_thousand</th>\n",
       "      <th>life_expectancy</th>\n",
       "      <th>human_development_index</th>\n",
       "      <th>month</th>\n",
       "      <th>year</th>\n",
       "    </tr>\n",
       "  </thead>\n",
       "  <tbody>\n",
       "    <tr>\n",
       "      <th>0</th>\n",
       "      <td>Africa</td>\n",
       "      <td>ZWE</td>\n",
       "      <td>Zimbabwe</td>\n",
       "      <td>2020-12-11</td>\n",
       "      <td>752269.0</td>\n",
       "      <td>13944.0</td>\n",
       "      <td>12583.714</td>\n",
       "      <td>20314.0</td>\n",
       "      <td>572.0</td>\n",
       "      <td>297.429</td>\n",
       "      <td>...</td>\n",
       "      <td>525.432</td>\n",
       "      <td>22.02</td>\n",
       "      <td>9.7</td>\n",
       "      <td>65.8</td>\n",
       "      <td>89.827</td>\n",
       "      <td>6.30</td>\n",
       "      <td>76.88</td>\n",
       "      <td>0.797</td>\n",
       "      <td>12</td>\n",
       "      <td>2020</td>\n",
       "    </tr>\n",
       "    <tr>\n",
       "      <th>1</th>\n",
       "      <td>Asia</td>\n",
       "      <td>YEM</td>\n",
       "      <td>Yemen</td>\n",
       "      <td>2020-12-11</td>\n",
       "      <td>8874290.0</td>\n",
       "      <td>97894.0</td>\n",
       "      <td>93198.571</td>\n",
       "      <td>130519.0</td>\n",
       "      <td>2003.0</td>\n",
       "      <td>1168.000</td>\n",
       "      <td>...</td>\n",
       "      <td>724.417</td>\n",
       "      <td>17.72</td>\n",
       "      <td>26.9</td>\n",
       "      <td>78.1</td>\n",
       "      <td>98.999</td>\n",
       "      <td>13.05</td>\n",
       "      <td>84.86</td>\n",
       "      <td>0.933</td>\n",
       "      <td>12</td>\n",
       "      <td>2020</td>\n",
       "    </tr>\n",
       "    <tr>\n",
       "      <th>2</th>\n",
       "      <td>Europe</td>\n",
       "      <td>VAT</td>\n",
       "      <td>World</td>\n",
       "      <td>2020-12-11</td>\n",
       "      <td>55154651.0</td>\n",
       "      <td>646281.0</td>\n",
       "      <td>584981.857</td>\n",
       "      <td>1328537.0</td>\n",
       "      <td>10600.0</td>\n",
       "      <td>9027.714</td>\n",
       "      <td>...</td>\n",
       "      <td>539.849</td>\n",
       "      <td>10.08</td>\n",
       "      <td>44.0</td>\n",
       "      <td>58.3</td>\n",
       "      <td>97.719</td>\n",
       "      <td>13.80</td>\n",
       "      <td>86.75</td>\n",
       "      <td>0.953</td>\n",
       "      <td>12</td>\n",
       "      <td>2020</td>\n",
       "    </tr>\n",
       "    <tr>\n",
       "      <th>3</th>\n",
       "      <td>North America</td>\n",
       "      <td>VIR</td>\n",
       "      <td>United States Virgin Islands</td>\n",
       "      <td>2020-12-11</td>\n",
       "      <td>11205486.0</td>\n",
       "      <td>184813.0</td>\n",
       "      <td>156419.143</td>\n",
       "      <td>247220.0</td>\n",
       "      <td>4928.0</td>\n",
       "      <td>2715.143</td>\n",
       "      <td>...</td>\n",
       "      <td>430.548</td>\n",
       "      <td>17.11</td>\n",
       "      <td>19.1</td>\n",
       "      <td>53.3</td>\n",
       "      <td>90.650</td>\n",
       "      <td>5.80</td>\n",
       "      <td>83.92</td>\n",
       "      <td>0.926</td>\n",
       "      <td>12</td>\n",
       "      <td>2020</td>\n",
       "    </tr>\n",
       "    <tr>\n",
       "      <th>4</th>\n",
       "      <td>Oceania</td>\n",
       "      <td>WLF</td>\n",
       "      <td>Wallis and Futuna</td>\n",
       "      <td>2020-12-11</td>\n",
       "      <td>27750.0</td>\n",
       "      <td>1384.0</td>\n",
       "      <td>551.714</td>\n",
       "      <td>907.0</td>\n",
       "      <td>59.0</td>\n",
       "      <td>22.000</td>\n",
       "      <td>...</td>\n",
       "      <td>561.494</td>\n",
       "      <td>30.53</td>\n",
       "      <td>23.5</td>\n",
       "      <td>48.8</td>\n",
       "      <td>82.502</td>\n",
       "      <td>3.84</td>\n",
       "      <td>83.44</td>\n",
       "      <td>0.939</td>\n",
       "      <td>12</td>\n",
       "      <td>2020</td>\n",
       "    </tr>\n",
       "    <tr>\n",
       "      <th>5</th>\n",
       "      <td>South America</td>\n",
       "      <td>VEN</td>\n",
       "      <td>Venezuela</td>\n",
       "      <td>2020-12-11</td>\n",
       "      <td>5876464.0</td>\n",
       "      <td>69074.0</td>\n",
       "      <td>46393.000</td>\n",
       "      <td>166014.0</td>\n",
       "      <td>3935.0</td>\n",
       "      <td>1096.714</td>\n",
       "      <td>...</td>\n",
       "      <td>373.159</td>\n",
       "      <td>12.54</td>\n",
       "      <td>34.2</td>\n",
       "      <td>42.9</td>\n",
       "      <td>80.635</td>\n",
       "      <td>5.00</td>\n",
       "      <td>81.44</td>\n",
       "      <td>0.843</td>\n",
       "      <td>12</td>\n",
       "      <td>2020</td>\n",
       "    </tr>\n",
       "  </tbody>\n",
       "</table>\n",
       "<p>6 rows × 51 columns</p>\n",
       "</div>"
      ],
      "text/plain": [
       "       continent iso_code                      location       date  \\\n",
       "0         Africa      ZWE                      Zimbabwe 2020-12-11   \n",
       "1           Asia      YEM                         Yemen 2020-12-11   \n",
       "2         Europe      VAT                         World 2020-12-11   \n",
       "3  North America      VIR  United States Virgin Islands 2020-12-11   \n",
       "4        Oceania      WLF             Wallis and Futuna 2020-12-11   \n",
       "5  South America      VEN                     Venezuela 2020-12-11   \n",
       "\n",
       "   total_cases  new_cases  new_cases_smoothed  total_deaths  new_deaths  \\\n",
       "0     752269.0    13944.0           12583.714       20314.0       572.0   \n",
       "1    8874290.0    97894.0           93198.571      130519.0      2003.0   \n",
       "2   55154651.0   646281.0          584981.857     1328537.0     10600.0   \n",
       "3   11205486.0   184813.0          156419.143      247220.0      4928.0   \n",
       "4      27750.0     1384.0             551.714         907.0        59.0   \n",
       "5    5876464.0    69074.0           46393.000      166014.0      3935.0   \n",
       "\n",
       "   new_deaths_smoothed  ...  cardiovasc_death_rate  diabetes_prevalence  \\\n",
       "0              297.429  ...                525.432                22.02   \n",
       "1             1168.000  ...                724.417                17.72   \n",
       "2             9027.714  ...                539.849                10.08   \n",
       "3             2715.143  ...                430.548                17.11   \n",
       "4               22.000  ...                561.494                30.53   \n",
       "5             1096.714  ...                373.159                12.54   \n",
       "\n",
       "   female_smokers  male_smokers  handwashing_facilities  \\\n",
       "0             9.7          65.8                  89.827   \n",
       "1            26.9          78.1                  98.999   \n",
       "2            44.0          58.3                  97.719   \n",
       "3            19.1          53.3                  90.650   \n",
       "4            23.5          48.8                  82.502   \n",
       "5            34.2          42.9                  80.635   \n",
       "\n",
       "   hospital_beds_per_thousand  life_expectancy  human_development_index  \\\n",
       "0                        6.30            76.88                    0.797   \n",
       "1                       13.05            84.86                    0.933   \n",
       "2                       13.80            86.75                    0.953   \n",
       "3                        5.80            83.92                    0.926   \n",
       "4                        3.84            83.44                    0.939   \n",
       "5                        5.00            81.44                    0.843   \n",
       "\n",
       "   month  year  \n",
       "0     12  2020  \n",
       "1     12  2020  \n",
       "2     12  2020  \n",
       "3     12  2020  \n",
       "4     12  2020  \n",
       "5     12  2020  \n",
       "\n",
       "[6 rows x 51 columns]"
      ]
     },
     "execution_count": 181,
     "metadata": {},
     "output_type": "execute_result"
    }
   ],
   "source": [
    "da5=da4.reset_index()\n",
    "da5\n"
   ]
  },
  {
   "cell_type": "markdown",
   "id": "e1d70571",
   "metadata": {},
   "source": [
    "# b. Store the result in a new dataframe named 'df_groupby'.\n",
    "(Use df_groupby dataframe for all further analysis)"
   ]
  },
  {
   "cell_type": "code",
   "execution_count": 182,
   "id": "9b998426",
   "metadata": {},
   "outputs": [
    {
     "data": {
      "text/html": [
       "<div>\n",
       "<style scoped>\n",
       "    .dataframe tbody tr th:only-of-type {\n",
       "        vertical-align: middle;\n",
       "    }\n",
       "\n",
       "    .dataframe tbody tr th {\n",
       "        vertical-align: top;\n",
       "    }\n",
       "\n",
       "    .dataframe thead th {\n",
       "        text-align: right;\n",
       "    }\n",
       "</style>\n",
       "<table border=\"1\" class=\"dataframe\">\n",
       "  <thead>\n",
       "    <tr style=\"text-align: right;\">\n",
       "      <th></th>\n",
       "      <th>continent</th>\n",
       "      <th>iso_code</th>\n",
       "      <th>location</th>\n",
       "      <th>date</th>\n",
       "      <th>total_cases</th>\n",
       "      <th>new_cases</th>\n",
       "      <th>new_cases_smoothed</th>\n",
       "      <th>total_deaths</th>\n",
       "      <th>new_deaths</th>\n",
       "      <th>new_deaths_smoothed</th>\n",
       "      <th>...</th>\n",
       "      <th>cardiovasc_death_rate</th>\n",
       "      <th>diabetes_prevalence</th>\n",
       "      <th>female_smokers</th>\n",
       "      <th>male_smokers</th>\n",
       "      <th>handwashing_facilities</th>\n",
       "      <th>hospital_beds_per_thousand</th>\n",
       "      <th>life_expectancy</th>\n",
       "      <th>human_development_index</th>\n",
       "      <th>month</th>\n",
       "      <th>year</th>\n",
       "    </tr>\n",
       "  </thead>\n",
       "  <tbody>\n",
       "    <tr>\n",
       "      <th>0</th>\n",
       "      <td>Africa</td>\n",
       "      <td>ZWE</td>\n",
       "      <td>Zimbabwe</td>\n",
       "      <td>2020-12-11</td>\n",
       "      <td>752269.0</td>\n",
       "      <td>13944.0</td>\n",
       "      <td>12583.714</td>\n",
       "      <td>20314.0</td>\n",
       "      <td>572.0</td>\n",
       "      <td>297.429</td>\n",
       "      <td>...</td>\n",
       "      <td>525.432</td>\n",
       "      <td>22.02</td>\n",
       "      <td>9.7</td>\n",
       "      <td>65.8</td>\n",
       "      <td>89.827</td>\n",
       "      <td>6.30</td>\n",
       "      <td>76.88</td>\n",
       "      <td>0.797</td>\n",
       "      <td>12</td>\n",
       "      <td>2020</td>\n",
       "    </tr>\n",
       "    <tr>\n",
       "      <th>1</th>\n",
       "      <td>Asia</td>\n",
       "      <td>YEM</td>\n",
       "      <td>Yemen</td>\n",
       "      <td>2020-12-11</td>\n",
       "      <td>8874290.0</td>\n",
       "      <td>97894.0</td>\n",
       "      <td>93198.571</td>\n",
       "      <td>130519.0</td>\n",
       "      <td>2003.0</td>\n",
       "      <td>1168.000</td>\n",
       "      <td>...</td>\n",
       "      <td>724.417</td>\n",
       "      <td>17.72</td>\n",
       "      <td>26.9</td>\n",
       "      <td>78.1</td>\n",
       "      <td>98.999</td>\n",
       "      <td>13.05</td>\n",
       "      <td>84.86</td>\n",
       "      <td>0.933</td>\n",
       "      <td>12</td>\n",
       "      <td>2020</td>\n",
       "    </tr>\n",
       "    <tr>\n",
       "      <th>2</th>\n",
       "      <td>Europe</td>\n",
       "      <td>VAT</td>\n",
       "      <td>World</td>\n",
       "      <td>2020-12-11</td>\n",
       "      <td>55154651.0</td>\n",
       "      <td>646281.0</td>\n",
       "      <td>584981.857</td>\n",
       "      <td>1328537.0</td>\n",
       "      <td>10600.0</td>\n",
       "      <td>9027.714</td>\n",
       "      <td>...</td>\n",
       "      <td>539.849</td>\n",
       "      <td>10.08</td>\n",
       "      <td>44.0</td>\n",
       "      <td>58.3</td>\n",
       "      <td>97.719</td>\n",
       "      <td>13.80</td>\n",
       "      <td>86.75</td>\n",
       "      <td>0.953</td>\n",
       "      <td>12</td>\n",
       "      <td>2020</td>\n",
       "    </tr>\n",
       "    <tr>\n",
       "      <th>3</th>\n",
       "      <td>North America</td>\n",
       "      <td>VIR</td>\n",
       "      <td>United States Virgin Islands</td>\n",
       "      <td>2020-12-11</td>\n",
       "      <td>11205486.0</td>\n",
       "      <td>184813.0</td>\n",
       "      <td>156419.143</td>\n",
       "      <td>247220.0</td>\n",
       "      <td>4928.0</td>\n",
       "      <td>2715.143</td>\n",
       "      <td>...</td>\n",
       "      <td>430.548</td>\n",
       "      <td>17.11</td>\n",
       "      <td>19.1</td>\n",
       "      <td>53.3</td>\n",
       "      <td>90.650</td>\n",
       "      <td>5.80</td>\n",
       "      <td>83.92</td>\n",
       "      <td>0.926</td>\n",
       "      <td>12</td>\n",
       "      <td>2020</td>\n",
       "    </tr>\n",
       "    <tr>\n",
       "      <th>4</th>\n",
       "      <td>Oceania</td>\n",
       "      <td>WLF</td>\n",
       "      <td>Wallis and Futuna</td>\n",
       "      <td>2020-12-11</td>\n",
       "      <td>27750.0</td>\n",
       "      <td>1384.0</td>\n",
       "      <td>551.714</td>\n",
       "      <td>907.0</td>\n",
       "      <td>59.0</td>\n",
       "      <td>22.000</td>\n",
       "      <td>...</td>\n",
       "      <td>561.494</td>\n",
       "      <td>30.53</td>\n",
       "      <td>23.5</td>\n",
       "      <td>48.8</td>\n",
       "      <td>82.502</td>\n",
       "      <td>3.84</td>\n",
       "      <td>83.44</td>\n",
       "      <td>0.939</td>\n",
       "      <td>12</td>\n",
       "      <td>2020</td>\n",
       "    </tr>\n",
       "    <tr>\n",
       "      <th>5</th>\n",
       "      <td>South America</td>\n",
       "      <td>VEN</td>\n",
       "      <td>Venezuela</td>\n",
       "      <td>2020-12-11</td>\n",
       "      <td>5876464.0</td>\n",
       "      <td>69074.0</td>\n",
       "      <td>46393.000</td>\n",
       "      <td>166014.0</td>\n",
       "      <td>3935.0</td>\n",
       "      <td>1096.714</td>\n",
       "      <td>...</td>\n",
       "      <td>373.159</td>\n",
       "      <td>12.54</td>\n",
       "      <td>34.2</td>\n",
       "      <td>42.9</td>\n",
       "      <td>80.635</td>\n",
       "      <td>5.00</td>\n",
       "      <td>81.44</td>\n",
       "      <td>0.843</td>\n",
       "      <td>12</td>\n",
       "      <td>2020</td>\n",
       "    </tr>\n",
       "  </tbody>\n",
       "</table>\n",
       "<p>6 rows × 51 columns</p>\n",
       "</div>"
      ],
      "text/plain": [
       "       continent iso_code                      location       date  \\\n",
       "0         Africa      ZWE                      Zimbabwe 2020-12-11   \n",
       "1           Asia      YEM                         Yemen 2020-12-11   \n",
       "2         Europe      VAT                         World 2020-12-11   \n",
       "3  North America      VIR  United States Virgin Islands 2020-12-11   \n",
       "4        Oceania      WLF             Wallis and Futuna 2020-12-11   \n",
       "5  South America      VEN                     Venezuela 2020-12-11   \n",
       "\n",
       "   total_cases  new_cases  new_cases_smoothed  total_deaths  new_deaths  \\\n",
       "0     752269.0    13944.0           12583.714       20314.0       572.0   \n",
       "1    8874290.0    97894.0           93198.571      130519.0      2003.0   \n",
       "2   55154651.0   646281.0          584981.857     1328537.0     10600.0   \n",
       "3   11205486.0   184813.0          156419.143      247220.0      4928.0   \n",
       "4      27750.0     1384.0             551.714         907.0        59.0   \n",
       "5    5876464.0    69074.0           46393.000      166014.0      3935.0   \n",
       "\n",
       "   new_deaths_smoothed  ...  cardiovasc_death_rate  diabetes_prevalence  \\\n",
       "0              297.429  ...                525.432                22.02   \n",
       "1             1168.000  ...                724.417                17.72   \n",
       "2             9027.714  ...                539.849                10.08   \n",
       "3             2715.143  ...                430.548                17.11   \n",
       "4               22.000  ...                561.494                30.53   \n",
       "5             1096.714  ...                373.159                12.54   \n",
       "\n",
       "   female_smokers  male_smokers  handwashing_facilities  \\\n",
       "0             9.7          65.8                  89.827   \n",
       "1            26.9          78.1                  98.999   \n",
       "2            44.0          58.3                  97.719   \n",
       "3            19.1          53.3                  90.650   \n",
       "4            23.5          48.8                  82.502   \n",
       "5            34.2          42.9                  80.635   \n",
       "\n",
       "   hospital_beds_per_thousand  life_expectancy  human_development_index  \\\n",
       "0                        6.30            76.88                    0.797   \n",
       "1                       13.05            84.86                    0.933   \n",
       "2                       13.80            86.75                    0.953   \n",
       "3                        5.80            83.92                    0.926   \n",
       "4                        3.84            83.44                    0.939   \n",
       "5                        5.00            81.44                    0.843   \n",
       "\n",
       "   month  year  \n",
       "0     12  2020  \n",
       "1     12  2020  \n",
       "2     12  2020  \n",
       "3     12  2020  \n",
       "4     12  2020  \n",
       "5     12  2020  \n",
       "\n",
       "[6 rows x 51 columns]"
      ]
     },
     "execution_count": 182,
     "metadata": {},
     "output_type": "execute_result"
    }
   ],
   "source": [
    "df_groupby=da5\n",
    "df_groupby \n",
    "\n"
   ]
  },
  {
   "cell_type": "markdown",
   "id": "9bf253b1",
   "metadata": {},
   "source": [
    "# 8. Feature Engineering :\n",
    "a. Create a new feature 'total_deaths_to_total_cases' by ratio of\n",
    "'total_deaths' column to 'total_cases'"
   ]
  },
  {
   "cell_type": "code",
   "execution_count": 183,
   "id": "398b2deb",
   "metadata": {},
   "outputs": [
    {
     "data": {
      "text/html": [
       "<div>\n",
       "<style scoped>\n",
       "    .dataframe tbody tr th:only-of-type {\n",
       "        vertical-align: middle;\n",
       "    }\n",
       "\n",
       "    .dataframe tbody tr th {\n",
       "        vertical-align: top;\n",
       "    }\n",
       "\n",
       "    .dataframe thead th {\n",
       "        text-align: right;\n",
       "    }\n",
       "</style>\n",
       "<table border=\"1\" class=\"dataframe\">\n",
       "  <thead>\n",
       "    <tr style=\"text-align: right;\">\n",
       "      <th></th>\n",
       "      <th>continent</th>\n",
       "      <th>iso_code</th>\n",
       "      <th>location</th>\n",
       "      <th>date</th>\n",
       "      <th>total_cases</th>\n",
       "      <th>new_cases</th>\n",
       "      <th>new_cases_smoothed</th>\n",
       "      <th>total_deaths</th>\n",
       "      <th>new_deaths</th>\n",
       "      <th>new_deaths_smoothed</th>\n",
       "      <th>...</th>\n",
       "      <th>diabetes_prevalence</th>\n",
       "      <th>female_smokers</th>\n",
       "      <th>male_smokers</th>\n",
       "      <th>handwashing_facilities</th>\n",
       "      <th>hospital_beds_per_thousand</th>\n",
       "      <th>life_expectancy</th>\n",
       "      <th>human_development_index</th>\n",
       "      <th>month</th>\n",
       "      <th>year</th>\n",
       "      <th>total_deaths_to_total_cases</th>\n",
       "    </tr>\n",
       "  </thead>\n",
       "  <tbody>\n",
       "    <tr>\n",
       "      <th>0</th>\n",
       "      <td>Africa</td>\n",
       "      <td>ZWE</td>\n",
       "      <td>Zimbabwe</td>\n",
       "      <td>2020-12-11</td>\n",
       "      <td>752269.0</td>\n",
       "      <td>13944.0</td>\n",
       "      <td>12583.714</td>\n",
       "      <td>20314.0</td>\n",
       "      <td>572.0</td>\n",
       "      <td>297.429</td>\n",
       "      <td>...</td>\n",
       "      <td>22.02</td>\n",
       "      <td>9.7</td>\n",
       "      <td>65.8</td>\n",
       "      <td>89.827</td>\n",
       "      <td>6.30</td>\n",
       "      <td>76.88</td>\n",
       "      <td>0.797</td>\n",
       "      <td>12</td>\n",
       "      <td>2020</td>\n",
       "      <td>0.027004</td>\n",
       "    </tr>\n",
       "    <tr>\n",
       "      <th>1</th>\n",
       "      <td>Asia</td>\n",
       "      <td>YEM</td>\n",
       "      <td>Yemen</td>\n",
       "      <td>2020-12-11</td>\n",
       "      <td>8874290.0</td>\n",
       "      <td>97894.0</td>\n",
       "      <td>93198.571</td>\n",
       "      <td>130519.0</td>\n",
       "      <td>2003.0</td>\n",
       "      <td>1168.000</td>\n",
       "      <td>...</td>\n",
       "      <td>17.72</td>\n",
       "      <td>26.9</td>\n",
       "      <td>78.1</td>\n",
       "      <td>98.999</td>\n",
       "      <td>13.05</td>\n",
       "      <td>84.86</td>\n",
       "      <td>0.933</td>\n",
       "      <td>12</td>\n",
       "      <td>2020</td>\n",
       "      <td>0.014708</td>\n",
       "    </tr>\n",
       "    <tr>\n",
       "      <th>2</th>\n",
       "      <td>Europe</td>\n",
       "      <td>VAT</td>\n",
       "      <td>World</td>\n",
       "      <td>2020-12-11</td>\n",
       "      <td>55154651.0</td>\n",
       "      <td>646281.0</td>\n",
       "      <td>584981.857</td>\n",
       "      <td>1328537.0</td>\n",
       "      <td>10600.0</td>\n",
       "      <td>9027.714</td>\n",
       "      <td>...</td>\n",
       "      <td>10.08</td>\n",
       "      <td>44.0</td>\n",
       "      <td>58.3</td>\n",
       "      <td>97.719</td>\n",
       "      <td>13.80</td>\n",
       "      <td>86.75</td>\n",
       "      <td>0.953</td>\n",
       "      <td>12</td>\n",
       "      <td>2020</td>\n",
       "      <td>0.024087</td>\n",
       "    </tr>\n",
       "    <tr>\n",
       "      <th>3</th>\n",
       "      <td>North America</td>\n",
       "      <td>VIR</td>\n",
       "      <td>United States Virgin Islands</td>\n",
       "      <td>2020-12-11</td>\n",
       "      <td>11205486.0</td>\n",
       "      <td>184813.0</td>\n",
       "      <td>156419.143</td>\n",
       "      <td>247220.0</td>\n",
       "      <td>4928.0</td>\n",
       "      <td>2715.143</td>\n",
       "      <td>...</td>\n",
       "      <td>17.11</td>\n",
       "      <td>19.1</td>\n",
       "      <td>53.3</td>\n",
       "      <td>90.650</td>\n",
       "      <td>5.80</td>\n",
       "      <td>83.92</td>\n",
       "      <td>0.926</td>\n",
       "      <td>12</td>\n",
       "      <td>2020</td>\n",
       "      <td>0.022062</td>\n",
       "    </tr>\n",
       "    <tr>\n",
       "      <th>4</th>\n",
       "      <td>Oceania</td>\n",
       "      <td>WLF</td>\n",
       "      <td>Wallis and Futuna</td>\n",
       "      <td>2020-12-11</td>\n",
       "      <td>27750.0</td>\n",
       "      <td>1384.0</td>\n",
       "      <td>551.714</td>\n",
       "      <td>907.0</td>\n",
       "      <td>59.0</td>\n",
       "      <td>22.000</td>\n",
       "      <td>...</td>\n",
       "      <td>30.53</td>\n",
       "      <td>23.5</td>\n",
       "      <td>48.8</td>\n",
       "      <td>82.502</td>\n",
       "      <td>3.84</td>\n",
       "      <td>83.44</td>\n",
       "      <td>0.939</td>\n",
       "      <td>12</td>\n",
       "      <td>2020</td>\n",
       "      <td>0.032685</td>\n",
       "    </tr>\n",
       "    <tr>\n",
       "      <th>5</th>\n",
       "      <td>South America</td>\n",
       "      <td>VEN</td>\n",
       "      <td>Venezuela</td>\n",
       "      <td>2020-12-11</td>\n",
       "      <td>5876464.0</td>\n",
       "      <td>69074.0</td>\n",
       "      <td>46393.000</td>\n",
       "      <td>166014.0</td>\n",
       "      <td>3935.0</td>\n",
       "      <td>1096.714</td>\n",
       "      <td>...</td>\n",
       "      <td>12.54</td>\n",
       "      <td>34.2</td>\n",
       "      <td>42.9</td>\n",
       "      <td>80.635</td>\n",
       "      <td>5.00</td>\n",
       "      <td>81.44</td>\n",
       "      <td>0.843</td>\n",
       "      <td>12</td>\n",
       "      <td>2020</td>\n",
       "      <td>0.028251</td>\n",
       "    </tr>\n",
       "  </tbody>\n",
       "</table>\n",
       "<p>6 rows × 52 columns</p>\n",
       "</div>"
      ],
      "text/plain": [
       "       continent iso_code                      location       date  \\\n",
       "0         Africa      ZWE                      Zimbabwe 2020-12-11   \n",
       "1           Asia      YEM                         Yemen 2020-12-11   \n",
       "2         Europe      VAT                         World 2020-12-11   \n",
       "3  North America      VIR  United States Virgin Islands 2020-12-11   \n",
       "4        Oceania      WLF             Wallis and Futuna 2020-12-11   \n",
       "5  South America      VEN                     Venezuela 2020-12-11   \n",
       "\n",
       "   total_cases  new_cases  new_cases_smoothed  total_deaths  new_deaths  \\\n",
       "0     752269.0    13944.0           12583.714       20314.0       572.0   \n",
       "1    8874290.0    97894.0           93198.571      130519.0      2003.0   \n",
       "2   55154651.0   646281.0          584981.857     1328537.0     10600.0   \n",
       "3   11205486.0   184813.0          156419.143      247220.0      4928.0   \n",
       "4      27750.0     1384.0             551.714         907.0        59.0   \n",
       "5    5876464.0    69074.0           46393.000      166014.0      3935.0   \n",
       "\n",
       "   new_deaths_smoothed  ...  diabetes_prevalence  female_smokers  \\\n",
       "0              297.429  ...                22.02             9.7   \n",
       "1             1168.000  ...                17.72            26.9   \n",
       "2             9027.714  ...                10.08            44.0   \n",
       "3             2715.143  ...                17.11            19.1   \n",
       "4               22.000  ...                30.53            23.5   \n",
       "5             1096.714  ...                12.54            34.2   \n",
       "\n",
       "   male_smokers  handwashing_facilities  hospital_beds_per_thousand  \\\n",
       "0          65.8                  89.827                        6.30   \n",
       "1          78.1                  98.999                       13.05   \n",
       "2          58.3                  97.719                       13.80   \n",
       "3          53.3                  90.650                        5.80   \n",
       "4          48.8                  82.502                        3.84   \n",
       "5          42.9                  80.635                        5.00   \n",
       "\n",
       "   life_expectancy  human_development_index  month  year  \\\n",
       "0            76.88                    0.797     12  2020   \n",
       "1            84.86                    0.933     12  2020   \n",
       "2            86.75                    0.953     12  2020   \n",
       "3            83.92                    0.926     12  2020   \n",
       "4            83.44                    0.939     12  2020   \n",
       "5            81.44                    0.843     12  2020   \n",
       "\n",
       "   total_deaths_to_total_cases  \n",
       "0                     0.027004  \n",
       "1                     0.014708  \n",
       "2                     0.024087  \n",
       "3                     0.022062  \n",
       "4                     0.032685  \n",
       "5                     0.028251  \n",
       "\n",
       "[6 rows x 52 columns]"
      ]
     },
     "execution_count": 183,
     "metadata": {},
     "output_type": "execute_result"
    }
   ],
   "source": [
    "\n",
    "df_groupby[\"total_deaths_to_total_cases\"]=df_groupby[\"total_deaths\"]/df_groupby[\"total_cases\"]\n",
    "df_groupby "
   ]
  },
  {
   "cell_type": "code",
   "execution_count": null,
   "id": "cfd0cfd2",
   "metadata": {},
   "outputs": [],
   "source": []
  },
  {
   "cell_type": "markdown",
   "id": "ac7682d5",
   "metadata": {},
   "source": [
    "# 9. Data Visualization :\n"
   ]
  },
  {
   "cell_type": "markdown",
   "id": "51380382",
   "metadata": {},
   "source": [
    "# a. Perform Univariate analysis on 'gdp_per_capita' column by plotting histogram using seaborn dist plot.\n"
   ]
  },
  {
   "cell_type": "code",
   "execution_count": 184,
   "id": "9a9de3b0",
   "metadata": {},
   "outputs": [
    {
     "name": "stdout",
     "output_type": "stream",
     "text": [
      "<class 'pandas.core.frame.DataFrame'>\n",
      "RangeIndex: 57394 entries, 0 to 57393\n",
      "Data columns (total 51 columns):\n",
      " #   Column                              Non-Null Count  Dtype         \n",
      "---  ------                              --------------  -----         \n",
      " 0   iso_code                            57394 non-null  object        \n",
      " 1   continent                           57394 non-null  object        \n",
      " 2   location                            57394 non-null  object        \n",
      " 3   date                                57394 non-null  datetime64[ns]\n",
      " 4   total_cases                         57394 non-null  float64       \n",
      " 5   new_cases                           57394 non-null  float64       \n",
      " 6   new_cases_smoothed                  57394 non-null  float64       \n",
      " 7   total_deaths                        57394 non-null  float64       \n",
      " 8   new_deaths                          57394 non-null  float64       \n",
      " 9   new_deaths_smoothed                 57394 non-null  float64       \n",
      " 10  total_cases_per_million             57394 non-null  float64       \n",
      " 11  new_cases_per_million               57394 non-null  float64       \n",
      " 12  new_cases_smoothed_per_million      57394 non-null  float64       \n",
      " 13  total_deaths_per_million            57394 non-null  float64       \n",
      " 14  new_deaths_per_million              57394 non-null  float64       \n",
      " 15  new_deaths_smoothed_per_million     57394 non-null  float64       \n",
      " 16  reproduction_rate                   57394 non-null  float64       \n",
      " 17  icu_patients                        57394 non-null  float64       \n",
      " 18  icu_patients_per_million            57394 non-null  float64       \n",
      " 19  hosp_patients                       57394 non-null  float64       \n",
      " 20  hosp_patients_per_million           57394 non-null  float64       \n",
      " 21  weekly_icu_admissions               57394 non-null  float64       \n",
      " 22  weekly_icu_admissions_per_million   57394 non-null  float64       \n",
      " 23  weekly_hosp_admissions              57394 non-null  float64       \n",
      " 24  weekly_hosp_admissions_per_million  57394 non-null  float64       \n",
      " 25  total_tests                         57394 non-null  float64       \n",
      " 26  new_tests                           57394 non-null  float64       \n",
      " 27  total_tests_per_thousand            57394 non-null  float64       \n",
      " 28  new_tests_per_thousand              57394 non-null  float64       \n",
      " 29  new_tests_smoothed                  57394 non-null  float64       \n",
      " 30  new_tests_smoothed_per_thousand     57394 non-null  float64       \n",
      " 31  tests_per_case                      57394 non-null  float64       \n",
      " 32  positive_rate                       57394 non-null  float64       \n",
      " 33  stringency_index                    57394 non-null  float64       \n",
      " 34  population                          57394 non-null  float64       \n",
      " 35  population_density                  57394 non-null  float64       \n",
      " 36  median_age                          57394 non-null  float64       \n",
      " 37  aged_65_older                       57394 non-null  float64       \n",
      " 38  aged_70_older                       57394 non-null  float64       \n",
      " 39  gdp_per_capita                      57394 non-null  float64       \n",
      " 40  extreme_poverty                     57394 non-null  float64       \n",
      " 41  cardiovasc_death_rate               57394 non-null  float64       \n",
      " 42  diabetes_prevalence                 57394 non-null  float64       \n",
      " 43  female_smokers                      57394 non-null  float64       \n",
      " 44  male_smokers                        57394 non-null  float64       \n",
      " 45  handwashing_facilities              57394 non-null  float64       \n",
      " 46  hospital_beds_per_thousand          57394 non-null  float64       \n",
      " 47  life_expectancy                     57394 non-null  float64       \n",
      " 48  human_development_index             57394 non-null  float64       \n",
      " 49  month                               57394 non-null  int64         \n",
      " 50  year                                57394 non-null  int64         \n",
      "dtypes: datetime64[ns](1), float64(45), int64(2), object(3)\n",
      "memory usage: 22.3+ MB\n"
     ]
    }
   ],
   "source": [
    "import seaborn as sns\n",
    "da.info()\n"
   ]
  },
  {
   "cell_type": "code",
   "execution_count": 185,
   "id": "a480a5f1",
   "metadata": {},
   "outputs": [
    {
     "name": "stderr",
     "output_type": "stream",
     "text": [
      "C:\\Users\\stuti\\anaconda3\\lib\\site-packages\\seaborn\\distributions.py:2557: FutureWarning: `distplot` is a deprecated function and will be removed in a future version. Please adapt your code to use either `displot` (a figure-level function with similar flexibility) or `histplot` (an axes-level function for histograms).\n",
      "  warnings.warn(msg, FutureWarning)\n"
     ]
    },
    {
     "data": {
      "text/plain": [
       "<AxesSubplot:xlabel='gdp_per_capita', ylabel='Density'>"
      ]
     },
     "execution_count": 185,
     "metadata": {},
     "output_type": "execute_result"
    },
    {
     "data": {
      "image/png": "[encoded data removed]",
      "text/plain": [
       "<Figure size 432x288 with 1 Axes>"
      ]
     },
     "metadata": {
      "needs_background": "light"
     },
     "output_type": "display_data"
    }
   ],
   "source": [
    "sns.distplot(da[\"gdp_per_capita\"])"
   ]
  },
  {
   "cell_type": "code",
   "execution_count": 186,
   "id": "49a7fb3e",
   "metadata": {},
   "outputs": [
    {
     "name": "stderr",
     "output_type": "stream",
     "text": [
      "C:\\Users\\stuti\\anaconda3\\lib\\site-packages\\seaborn\\distributions.py:2557: FutureWarning: `distplot` is a deprecated function and will be removed in a future version. Please adapt your code to use either `displot` (a figure-level function with similar flexibility) or `histplot` (an axes-level function for histograms).\n",
      "  warnings.warn(msg, FutureWarning)\n"
     ]
    },
    {
     "data": {
      "text/plain": [
       "<AxesSubplot:xlabel='gdp_per_capita'>"
      ]
     },
     "execution_count": 186,
     "metadata": {},
     "output_type": "execute_result"
    },
    {
     "data": {
      "image/png": "[encoded data removed]",
      "text/plain": [
       "<Figure size 432x288 with 1 Axes>"
      ]
     },
     "metadata": {
      "needs_background": "light"
     },
     "output_type": "display_data"
    }
   ],
   "source": [
    "sns.distplot(da[\"gdp_per_capita\"],kde=False)"
   ]
  },
  {
   "cell_type": "markdown",
   "id": "19323ba1",
   "metadata": {},
   "source": [
    "# b. Plot a scatter plot of 'total_cases' & 'gdp_per_capita'\n"
   ]
  },
  {
   "cell_type": "code",
   "execution_count": 187,
   "id": "5af8a433",
   "metadata": {},
   "outputs": [
    {
     "name": "stdout",
     "output_type": "stream",
     "text": [
      "<class 'pandas.core.frame.DataFrame'>\n",
      "RangeIndex: 57394 entries, 0 to 57393\n",
      "Data columns (total 51 columns):\n",
      " #   Column                              Non-Null Count  Dtype         \n",
      "---  ------                              --------------  -----         \n",
      " 0   iso_code                            57394 non-null  object        \n",
      " 1   continent                           57394 non-null  object        \n",
      " 2   location                            57394 non-null  object        \n",
      " 3   date                                57394 non-null  datetime64[ns]\n",
      " 4   total_cases                         57394 non-null  float64       \n",
      " 5   new_cases                           57394 non-null  float64       \n",
      " 6   new_cases_smoothed                  57394 non-null  float64       \n",
      " 7   total_deaths                        57394 non-null  float64       \n",
      " 8   new_deaths                          57394 non-null  float64       \n",
      " 9   new_deaths_smoothed                 57394 non-null  float64       \n",
      " 10  total_cases_per_million             57394 non-null  float64       \n",
      " 11  new_cases_per_million               57394 non-null  float64       \n",
      " 12  new_cases_smoothed_per_million      57394 non-null  float64       \n",
      " 13  total_deaths_per_million            57394 non-null  float64       \n",
      " 14  new_deaths_per_million              57394 non-null  float64       \n",
      " 15  new_deaths_smoothed_per_million     57394 non-null  float64       \n",
      " 16  reproduction_rate                   57394 non-null  float64       \n",
      " 17  icu_patients                        57394 non-null  float64       \n",
      " 18  icu_patients_per_million            57394 non-null  float64       \n",
      " 19  hosp_patients                       57394 non-null  float64       \n",
      " 20  hosp_patients_per_million           57394 non-null  float64       \n",
      " 21  weekly_icu_admissions               57394 non-null  float64       \n",
      " 22  weekly_icu_admissions_per_million   57394 non-null  float64       \n",
      " 23  weekly_hosp_admissions              57394 non-null  float64       \n",
      " 24  weekly_hosp_admissions_per_million  57394 non-null  float64       \n",
      " 25  total_tests                         57394 non-null  float64       \n",
      " 26  new_tests                           57394 non-null  float64       \n",
      " 27  total_tests_per_thousand            57394 non-null  float64       \n",
      " 28  new_tests_per_thousand              57394 non-null  float64       \n",
      " 29  new_tests_smoothed                  57394 non-null  float64       \n",
      " 30  new_tests_smoothed_per_thousand     57394 non-null  float64       \n",
      " 31  tests_per_case                      57394 non-null  float64       \n",
      " 32  positive_rate                       57394 non-null  float64       \n",
      " 33  stringency_index                    57394 non-null  float64       \n",
      " 34  population                          57394 non-null  float64       \n",
      " 35  population_density                  57394 non-null  float64       \n",
      " 36  median_age                          57394 non-null  float64       \n",
      " 37  aged_65_older                       57394 non-null  float64       \n",
      " 38  aged_70_older                       57394 non-null  float64       \n",
      " 39  gdp_per_capita                      57394 non-null  float64       \n",
      " 40  extreme_poverty                     57394 non-null  float64       \n",
      " 41  cardiovasc_death_rate               57394 non-null  float64       \n",
      " 42  diabetes_prevalence                 57394 non-null  float64       \n",
      " 43  female_smokers                      57394 non-null  float64       \n",
      " 44  male_smokers                        57394 non-null  float64       \n",
      " 45  handwashing_facilities              57394 non-null  float64       \n",
      " 46  hospital_beds_per_thousand          57394 non-null  float64       \n",
      " 47  life_expectancy                     57394 non-null  float64       \n",
      " 48  human_development_index             57394 non-null  float64       \n",
      " 49  month                               57394 non-null  int64         \n",
      " 50  year                                57394 non-null  int64         \n",
      "dtypes: datetime64[ns](1), float64(45), int64(2), object(3)\n",
      "memory usage: 22.3+ MB\n"
     ]
    }
   ],
   "source": [
    "da.info()\n"
   ]
  },
  {
   "cell_type": "code",
   "execution_count": null,
   "id": "56e9cad8",
   "metadata": {},
   "outputs": [],
   "source": [
    " da\n",
    "    \n"
   ]
  },
  {
   "cell_type": "code",
   "execution_count": null,
   "id": "78d80482",
   "metadata": {},
   "outputs": [],
   "source": [
    "sns.jointplot(x=\"gdp_per_capita\",y=\"total_cases\",data=da)"
   ]
  },
  {
   "cell_type": "markdown",
   "id": "017a6806",
   "metadata": {},
   "source": [
    "# c. Plot Pairplot on df_groupby dataset."
   ]
  },
  {
   "cell_type": "code",
   "execution_count": null,
   "id": "17d87954",
   "metadata": {},
   "outputs": [],
   "source": [
    "df_groupby\n"
   ]
  },
  {
   "cell_type": "code",
   "execution_count": null,
   "id": "6593cf43",
   "metadata": {},
   "outputs": [],
   "source": [
    "import seaborn as sns\n",
    "import matplotlib.pyplot as plt\n",
    "\n",
    "sns.scatterplot(x= \"gdp_per_capita\", y=\"total_cases\",data=da )\n"
   ]
  },
  {
   "cell_type": "markdown",
   "id": "0f200ff2",
   "metadata": {},
   "source": [
    "# Plot a bar plot of 'continent' column with 'total_cases' .\n",
    "Tip : using kind='bar' in seaborn catplot"
   ]
  },
  {
   "cell_type": "code",
   "execution_count": null,
   "id": "b79166c1",
   "metadata": {},
   "outputs": [],
   "source": [
    "sns.catplot(data=da,x=\"continent\",y=\"total_cases\",kind=\"count\")"
   ]
  },
  {
   "cell_type": "markdown",
   "id": "0beae5f6",
   "metadata": {},
   "source": [
    "# 10.Save the df_groupby dataframe in your local drive \n",
    "using pandas.to_csv function"
   ]
  },
  {
   "cell_type": "code",
   "execution_count": null,
   "id": "9dfa42b1",
   "metadata": {},
   "outputs": [],
   "source": [
    "df_groupby.to_csv()"
   ]
  },
  {
   "cell_type": "code",
   "execution_count": null,
   "id": "1a604b88",
   "metadata": {},
   "outputs": [],
   "source": []
  },
  {
   "cell_type": "code",
   "execution_count": null,
   "id": "000a15cc",
   "metadata": {},
   "outputs": [],
   "source": []
  },
  {
   "cell_type": "code",
   "execution_count": null,
   "id": "2f2bd9e8",
   "metadata": {},
   "outputs": [],
   "source": []
  }
 ],
 "metadata": {
  "kernelspec": {
   "display_name": "Python 3",
   "language": "python",
   "name": "python3"
  },
  "language_info": {
   "codemirror_mode": {
    "name": "ipython",
    "version": 3
   },
   "file_extension": ".py",
   "mimetype": "text/x-python",
   "name": "python",
   "nbconvert_exporter": "python",
   "pygments_lexer": "ipython3",
   "version": "3.8.8"
  }
 },
 "nbformat": 4,
 "nbformat_minor": 5
}
